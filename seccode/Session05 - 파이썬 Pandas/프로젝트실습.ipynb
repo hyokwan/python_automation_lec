{
 "cells": [
  {
   "cell_type": "markdown",
   "id": "aa5cb242-4c6e-4566-bdfe-a9713c86d775",
   "metadata": {},
   "source": [
    "# 1. 프로젝트 실습"
   ]
  },
  {
   "cell_type": "markdown",
   "id": "15d0c427-13ab-492c-9b69-3198eba6cea3",
   "metadata": {},
   "source": [
    "### 데이터 불러오기"
   ]
  },
  {
   "cell_type": "markdown",
   "id": "839c1855-615f-4301-a91f-5c1a04fb85fb",
   "metadata": {},
   "source": [
    "[데이터타입 통합]\n",
    "kopo_channel_seasonality_new.csv 파일을 불러온 후\n",
    "selloutData 변수에 담으세요 이후 \n",
    "QTY컬럼→실수(float), 이외컬럼→문자(str)로 변경하세요"
   ]
  },
  {
   "cell_type": "code",
   "execution_count": 77,
   "id": "c9365d60-02e7-4aa9-a105-401876c16d26",
   "metadata": {},
   "outputs": [],
   "source": [
    "import pandas as pd\n",
    "\n",
    "selloutData = \\\n",
    "    pd.read_csv(\"../dataset/kopo_channel_seasonality_new.csv\")\n",
    "\n",
    "selloutData = selloutData.astype({\"REGIONID\":str,\n",
    "                    \"PRODUCT\":str,\n",
    "                    \"YEARWEEK\":str,\n",
    "                    \"QTY\":float})"
   ]
  },
  {
   "cell_type": "markdown",
   "id": "e4abdfdf-85eb-4a1f-9658-94016d1339bd",
   "metadata": {},
   "source": [
    "### 1. 데이터 전처리"
   ]
  },
  {
   "cell_type": "markdown",
   "id": "61f08e20-9233-4a9b-825e-95fbd794df6e",
   "metadata": {},
   "source": [
    "### A-1. 불량데이터 처리"
   ]
  },
  {
   "cell_type": "markdown",
   "id": "31df14fa-6688-49c9-b53d-a9f95e662e18",
   "metadata": {},
   "source": [
    "[불량 데이터 처리]\n",
    "kopo_channel_seasonality_new.csv 자료를 담은 \n",
    "selloutData 변수에서\n",
    "QTY컬럼 음수(반품)인 경우 0, 양수인 경우 기존 QTY 값\u000b",
    "유지하는 로직을 적용하여 QTY_NEW 컬럼을 추가하세요\n",
    "\n",
    "\n"
   ]
  },
  {
   "cell_type": "code",
   "execution_count": 78,
   "id": "8a398c1b-e31b-4c71-8be2-d7b4ca97c7b0",
   "metadata": {},
   "outputs": [],
   "source": [
    "### 함수정의: 판매량 데이터를 정제 (-값: 0, 이외 기존값)\n",
    "### 파라미터 inQty: 실제 판매량\n",
    "def cleanQty(inQty):\n",
    "\n",
    "    # 테스트데이터: inQty\n",
    "    # inQty = 500\n",
    "    newQty = 0\n",
    "\n",
    "    if inQty <= 0:\n",
    "        newQty = 0\n",
    "    else:\n",
    "        newQty = inQty\n",
    "\n",
    "    return newQty\n",
    "\n",
    "selloutData[\"NEW_QTY\"] = \\\n",
    "    selloutData.QTY.apply(cleanQty)"
   ]
  },
  {
   "cell_type": "markdown",
   "id": "f39b1240-3754-43ba-ac76-e348561c6fac",
   "metadata": {},
   "source": [
    "### A-2. 데이터 통합"
   ]
  },
  {
   "cell_type": "markdown",
   "id": "1e086007-d185-4ff3-8d6f-194323cc0b57",
   "metadata": {},
   "source": [
    "[데이터 통합]\n",
    "selloutData 자료에서 \n",
    "YEAR, WEEK 컬럼을 생성하고 WEEK 가 52 이하인\n",
    "데이터만 조회한 후 refinedSelloutData 변수에 담으세요 (YEAR, WEEK는 모두 str)\n"
   ]
  },
  {
   "cell_type": "code",
   "execution_count": 79,
   "id": "7b1ddb48-607f-41df-a622-94dd6c61b6e0",
   "metadata": {},
   "outputs": [],
   "source": [
    "selloutData[\"YEAR\"] = selloutData.YEARWEEK.str[0:4]\n",
    "selloutData[\"WEEK\"] = selloutData.YEARWEEK.str[4:6]\n",
    "\n",
    "refinedSelloutData = selloutData.copy()"
   ]
  },
  {
   "cell_type": "code",
   "execution_count": 80,
   "id": "72c56649-4465-4822-94d0-d7bd67034c82",
   "metadata": {},
   "outputs": [
    {
     "data": {
      "text/plain": [
       "(124658, 7)"
      ]
     },
     "execution_count": 80,
     "metadata": {},
     "output_type": "execute_result"
    }
   ],
   "source": [
    "refinedSelloutData.shape"
   ]
  },
  {
   "cell_type": "markdown",
   "id": "08221ba4-3a37-4bc2-829e-5bfde9f85861",
   "metadata": {
    "tags": []
   },
   "source": [
    "### B-3. 추세선 도출"
   ]
  },
  {
   "cell_type": "markdown",
   "id": "eddf3166-3a66-4bf4-bf0c-4ce88b7457a2",
   "metadata": {},
   "source": [
    "0.[데이터 통합]\n",
    "refinedSelloutData 자료에서 \n",
    "YEAR, WEEK 컬럼을 생성하고 WEEK 가 52 이하인\n",
    "데이터만 조회한 후 refinedSelloutData 변수에 담으세요 -> 53주차를 제거한다"
   ]
  },
  {
   "cell_type": "code",
   "execution_count": 82,
   "id": "2271350d-cd11-4de8-9c89-a9edc418e092",
   "metadata": {},
   "outputs": [
    {
     "data": {
      "text/plain": [
       "(124658, 7)"
      ]
     },
     "execution_count": 82,
     "metadata": {},
     "output_type": "execute_result"
    }
   ],
   "source": [
    "refinedSelloutData.shape"
   ]
  },
  {
   "cell_type": "code",
   "execution_count": 86,
   "id": "760af562-423e-4d06-8951-bd56add0f66f",
   "metadata": {},
   "outputs": [],
   "source": [
    "refinedSelloutData = \\\n",
    "    refinedSelloutData.loc[refinedSelloutData.WEEK != \"53\"]"
   ]
  },
  {
   "cell_type": "markdown",
   "id": "02261dc6-cbd0-46fe-a436-772b2993c5f1",
   "metadata": {},
   "source": [
    "1. refinedSelloutData 에서 →\n",
    "지역, 상품, 연주차 컬럼순으로 오름차순 정렬하여\n",
    "sortedData 변수에 담으세요"
   ]
  },
  {
   "cell_type": "code",
   "execution_count": 74,
   "id": "ffb46068-5a96-46fc-a5e3-17ef2c4748f8",
   "metadata": {},
   "outputs": [],
   "source": [
    "sortKey = [\"REGIONID\",\"PRODUCT\",\"YEARWEEK\"]"
   ]
  },
  {
   "cell_type": "code",
   "execution_count": 89,
   "id": "4b7cef55-eac1-4370-82b1-9d40fd83dcee",
   "metadata": {},
   "outputs": [],
   "source": [
    "sortedData = refinedSelloutData.sort_values(by=sortKey)"
   ]
  },
  {
   "cell_type": "markdown",
   "id": "846292e5-b623-436a-ae3b-0a332612f1d4",
   "metadata": {},
   "source": [
    "2. [지역, 상품, 연도 별 집계] * 그룹키 = 지역(REGIONID),상품(PRODUCT) 연도(YEAR)\n",
    "groupKey = [\"REGIONID\",\"PRODUCT\",\"YEAR\"]\n",
    "sortedData 에서 지역, 상품, 연도 단위\n",
    "판매량(QTY_NEW) 의 평균 연산 후\n",
    "groupData 변수에 담으세요 이후 컬럼명을 QTY_MEAN로 변경하세요\n"
   ]
  },
  {
   "cell_type": "code",
   "execution_count": 93,
   "id": "6ba42d03-da86-400e-9d2b-6daf808ae05e",
   "metadata": {},
   "outputs": [],
   "source": [
    "groupKey = [\"REGIONID\",\"PRODUCT\",\"YEAR\"]"
   ]
  },
  {
   "cell_type": "code",
   "execution_count": 96,
   "id": "71d8948e-3a8b-472e-86f3-b8af6a497c15",
   "metadata": {},
   "outputs": [],
   "source": [
    "groupData= refinedSelloutData.groupby(by=groupKey)[\"NEW_QTY\"].agg([\"mean\"]).reset_index()"
   ]
  },
  {
   "cell_type": "code",
   "execution_count": 99,
   "id": "4aef8c75-c49d-4493-a2f0-65a33491450c",
   "metadata": {},
   "outputs": [],
   "source": [
    "groupData.rename(columns={\"mean\":\"QTY_MEAN\"},inplace=True)"
   ]
  },
  {
   "cell_type": "code",
   "execution_count": 118,
   "id": "2ab91c9c-c520-4a53-869f-908cc2e55c51",
   "metadata": {},
   "outputs": [],
   "source": [
    "# 선택한 조건에 맞는 데이터 추출\n",
    "targetRegion = \"A00\"\n",
    "targetProduct = \"PRODUCT34\"\n",
    "targetYear = \"2014\""
   ]
  },
  {
   "cell_type": "code",
   "execution_count": 117,
   "id": "10a187f6-8915-451c-99d6-6de890b4473b",
   "metadata": {},
   "outputs": [
    {
     "data": {
      "text/plain": [
       "275.96153846153845"
      ]
     },
     "execution_count": 117,
     "metadata": {},
     "output_type": "execute_result"
    }
   ],
   "source": [
    "groupData.loc[(groupData.REGIONID==targetRegion) &\n",
    "              (groupData.PRODUCT==targetProduct) &\n",
    "              (groupData.YEAR==targetYear)].QTY_MEAN.values[0]"
   ]
  }
 ],
 "metadata": {
  "kernelspec": {
   "display_name": "Python 3 (ipykernel)",
   "language": "python",
   "name": "python3"
  },
  "language_info": {
   "codemirror_mode": {
    "name": "ipython",
    "version": 3
   },
   "file_extension": ".py",
   "mimetype": "text/x-python",
   "name": "python",
   "nbconvert_exporter": "python",
   "pygments_lexer": "ipython3",
   "version": "3.9.7"
  }
 },
 "nbformat": 4,
 "nbformat_minor": 5
}
