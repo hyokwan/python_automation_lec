{
 "cells": [
  {
   "cell_type": "markdown",
   "id": "aa5cb242-4c6e-4566-bdfe-a9713c86d775",
   "metadata": {},
   "source": [
    "# 1. 프로젝트 실습"
   ]
  },
  {
   "cell_type": "markdown",
   "id": "15d0c427-13ab-492c-9b69-3198eba6cea3",
   "metadata": {},
   "source": [
    "### 데이터 불러오기"
   ]
  },
  {
   "cell_type": "markdown",
   "id": "839c1855-615f-4301-a91f-5c1a04fb85fb",
   "metadata": {},
   "source": [
    "[데이터타입 통합]\n",
    "kopo_channel_seasonality_new.csv 파일을 불러온 후\n",
    "selloutData 변수에 담으세요 이후 \n",
    "QTY컬럼→실수(float), 이외컬럼→문자(str)로 변경하세요"
   ]
  },
  {
   "cell_type": "code",
   "execution_count": 2,
   "id": "c9365d60-02e7-4aa9-a105-401876c16d26",
   "metadata": {},
   "outputs": [],
   "source": [
    "import pandas as pd\n",
    "\n",
    "selloutData = \\\n",
    "    pd.read_csv(\"../dataset/kopo_channel_seasonality_new.csv\")\n",
    "\n",
    "selloutData = selloutData.astype({\"REGIONID\":str,\n",
    "                    \"PRODUCT\":str,\n",
    "                    \"YEARWEEK\":str,\n",
    "                    \"QTY\":float})"
   ]
  },
  {
   "cell_type": "markdown",
   "id": "e4abdfdf-85eb-4a1f-9658-94016d1339bd",
   "metadata": {},
   "source": [
    "### 1. 데이터 전처리"
   ]
  },
  {
   "cell_type": "markdown",
   "id": "61f08e20-9233-4a9b-825e-95fbd794df6e",
   "metadata": {},
   "source": [
    "### A-1. 불량데이터 처리"
   ]
  },
  {
   "cell_type": "markdown",
   "id": "31df14fa-6688-49c9-b53d-a9f95e662e18",
   "metadata": {},
   "source": [
    "[불량 데이터 처리]\n",
    "kopo_channel_seasonality_new.csv 자료를 담은 \n",
    "selloutData 변수에서\n",
    "QTY컬럼 음수(반품)인 경우 0, 양수인 경우 기존 QTY 값\u000b",
    "유지하는 로직을 적용하여 QTY_NEW 컬럼을 추가하세요\n",
    "\n",
    "\n"
   ]
  },
  {
   "cell_type": "code",
   "execution_count": 28,
   "id": "8a398c1b-e31b-4c71-8be2-d7b4ca97c7b0",
   "metadata": {},
   "outputs": [],
   "source": [
    "### 함수정의: 판매량 데이터를 정제 (-값: 0, 이외 기존값)\n",
    "### 파라미터 inQty: 실제 판매량\n",
    "def cleanQty(inQty):\n",
    "\n",
    "    # 테스트데이터: inQty\n",
    "    # inQty = 500\n",
    "    newQty = 0\n",
    "\n",
    "    if inQty <= 0:\n",
    "        newQty = 0\n",
    "    else:\n",
    "        newQty = inQty\n",
    "\n",
    "    return newQty\n",
    "\n",
    "selloutData[\"NEW_QTY\"] = \\\n",
    "    selloutData.QTY.apply(cleanQty)"
   ]
  },
  {
   "cell_type": "markdown",
   "id": "f39b1240-3754-43ba-ac76-e348561c6fac",
   "metadata": {},
   "source": [
    "### A-2. 데이터 통합"
   ]
  },
  {
   "cell_type": "markdown",
   "id": "1e086007-d185-4ff3-8d6f-194323cc0b57",
   "metadata": {},
   "source": [
    "[데이터 통합]\n",
    "selloutData 자료에서 \n",
    "YEAR, WEEK 컬럼을 생성하고 WEEK 가 52 이하인\n",
    "데이터만 조회한 후 refinedSelloutData 변수에 담으세요 (YEAR, WEEK는 모두 str)\n"
   ]
  },
  {
   "cell_type": "code",
   "execution_count": 52,
   "id": "7b1ddb48-607f-41df-a622-94dd6c61b6e0",
   "metadata": {},
   "outputs": [],
   "source": [
    "selloutData[\"YEAR\"] = selloutData.YEARWEEK.str[0:4]\n",
    "selloutData[\"WEEK\"] = selloutData.YEARWEEK.str[4:6]\n",
    "\n",
    "refinedSelloutData = selloutData.copy()"
   ]
  },
  {
   "cell_type": "markdown",
   "id": "08221ba4-3a37-4bc2-829e-5bfde9f85861",
   "metadata": {
    "tags": []
   },
   "source": [
    "### B-3. 추세선 도출"
   ]
  },
  {
   "cell_type": "markdown",
   "id": "eddf3166-3a66-4bf4-bf0c-4ce88b7457a2",
   "metadata": {},
   "source": [
    "[데이터 통합]\n",
    "refinedSelloutData 자료에서 \n",
    "YEAR, WEEK 컬럼을 생성하고 WEEK 가 52 이하인\n",
    "데이터만 조회한 후 refinedSelloutData 변수에 담으세요 -> 53주차를 제거한다"
   ]
  },
  {
   "cell_type": "markdown",
   "id": "02261dc6-cbd0-46fe-a436-772b2993c5f1",
   "metadata": {},
   "source": [
    "1. refinedSelloutData 에서 →\n",
    "지역, 상품, 연주차 컬럼순으로 오름차순 정렬하여\n",
    "sortedData 변수에 담으세요"
   ]
  },
  {
   "cell_type": "markdown",
   "id": "846292e5-b623-436a-ae3b-0a332612f1d4",
   "metadata": {},
   "source": [
    "2. [지역, 상품, 연도 별 집계]\n",
    "sortedData 에서 지역, 상품, 연도 단위\n",
    "판매량(QTY_NEW) 의 평균 연산 후\n",
    "groupData 변수에 담으세요 이후 컬럼명을 QTY_MEAN로 변경하세요\n"
   ]
  },
  {
   "cell_type": "code",
   "execution_count": null,
   "id": "71d8948e-3a8b-472e-86f3-b8af6a497c15",
   "metadata": {},
   "outputs": [],
   "source": []
  },
  {
   "cell_type": "code",
   "execution_count": null,
   "id": "4aef8c75-c49d-4493-a2f0-65a33491450c",
   "metadata": {},
   "outputs": [],
   "source": []
  },
  {
   "cell_type": "code",
   "execution_count": null,
   "id": "10a187f6-8915-451c-99d6-6de890b4473b",
   "metadata": {},
   "outputs": [],
   "source": []
  },
  {
   "cell_type": "code",
   "execution_count": null,
   "id": "7bf7306f-d436-47ec-aa46-76139eae9282",
   "metadata": {},
   "outputs": [],
   "source": []
  },
  {
   "cell_type": "code",
   "execution_count": null,
   "id": "1d99c8b5-56a3-457b-a893-533979a5ec35",
   "metadata": {},
   "outputs": [],
   "source": []
  },
  {
   "cell_type": "code",
   "execution_count": 46,
   "id": "4a325e39-dc42-49df-92a9-3deec24d12f4",
   "metadata": {},
   "outputs": [
    {
     "data": {
      "text/html": [
       "<div>\n",
       "<style scoped>\n",
       "    .dataframe tbody tr th:only-of-type {\n",
       "        vertical-align: middle;\n",
       "    }\n",
       "\n",
       "    .dataframe tbody tr th {\n",
       "        vertical-align: top;\n",
       "    }\n",
       "\n",
       "    .dataframe thead th {\n",
       "        text-align: right;\n",
       "    }\n",
       "</style>\n",
       "<table border=\"1\" class=\"dataframe\">\n",
       "  <thead>\n",
       "    <tr style=\"text-align: right;\">\n",
       "      <th></th>\n",
       "      <th>REGIONID</th>\n",
       "      <th>PRODUCT</th>\n",
       "      <th>YEARWEEK</th>\n",
       "      <th>QTY</th>\n",
       "      <th>NEW_QTY</th>\n",
       "      <th>YEAR</th>\n",
       "      <th>WEEK</th>\n",
       "    </tr>\n",
       "  </thead>\n",
       "  <tbody>\n",
       "  </tbody>\n",
       "</table>\n",
       "</div>"
      ],
      "text/plain": [
       "Empty DataFrame\n",
       "Columns: [REGIONID, PRODUCT, YEARWEEK, QTY, NEW_QTY, YEAR, WEEK]\n",
       "Index: []"
      ]
     },
     "execution_count": 46,
     "metadata": {},
     "output_type": "execute_result"
    }
   ],
   "source": [
    "selloutData.loc[selloutData.WEEK.isnull()]"
   ]
  },
  {
   "cell_type": "code",
   "execution_count": null,
   "id": "3d112e5a-7edc-49a0-8ce0-8c3e286d80e5",
   "metadata": {},
   "outputs": [],
   "source": []
  },
  {
   "cell_type": "code",
   "execution_count": null,
   "id": "e0c6d0fd-ddaa-4776-8788-ebc05f98130b",
   "metadata": {},
   "outputs": [],
   "source": []
  },
  {
   "cell_type": "code",
   "execution_count": 48,
   "id": "8424fb48-095d-4abd-b4d3-d5bac7f33471",
   "metadata": {},
   "outputs": [],
   "source": [
    "selloutData.loc[selloutData.YEARWEEK == \"201402\", \"WEEK\"] =\"\""
   ]
  },
  {
   "cell_type": "code",
   "execution_count": null,
   "id": "1ebb8486-fd0a-42b6-b09b-e84009685134",
   "metadata": {},
   "outputs": [],
   "source": [
    "selloutData[\"WEEK\"] = selloutData.YEARWEEK.str[4:6]"
   ]
  },
  {
   "cell_type": "code",
   "execution_count": 45,
   "id": "53402ca3-c9f5-4df1-99cf-34ea11f1763a",
   "metadata": {},
   "outputs": [
    {
     "data": {
      "text/html": [
       "<div>\n",
       "<style scoped>\n",
       "    .dataframe tbody tr th:only-of-type {\n",
       "        vertical-align: middle;\n",
       "    }\n",
       "\n",
       "    .dataframe tbody tr th {\n",
       "        vertical-align: top;\n",
       "    }\n",
       "\n",
       "    .dataframe thead th {\n",
       "        text-align: right;\n",
       "    }\n",
       "</style>\n",
       "<table border=\"1\" class=\"dataframe\">\n",
       "  <thead>\n",
       "    <tr style=\"text-align: right;\">\n",
       "      <th></th>\n",
       "      <th>REGIONID</th>\n",
       "      <th>PRODUCT</th>\n",
       "      <th>YEARWEEK</th>\n",
       "      <th>QTY</th>\n",
       "      <th>NEW_QTY</th>\n",
       "      <th>YEAR</th>\n",
       "      <th>WEEK</th>\n",
       "    </tr>\n",
       "  </thead>\n",
       "  <tbody>\n",
       "    <tr>\n",
       "      <th>0</th>\n",
       "      <td>A60</td>\n",
       "      <td>PRODUCT4</td>\n",
       "      <td>201402</td>\n",
       "      <td>71.0</td>\n",
       "      <td>71.0</td>\n",
       "      <td>2014</td>\n",
       "      <td>2</td>\n",
       "    </tr>\n",
       "    <tr>\n",
       "      <th>1</th>\n",
       "      <td>A60</td>\n",
       "      <td>PRODUCT59</td>\n",
       "      <td>201402</td>\n",
       "      <td>22275.0</td>\n",
       "      <td>22275.0</td>\n",
       "      <td>2014</td>\n",
       "      <td>2</td>\n",
       "    </tr>\n",
       "    <tr>\n",
       "      <th>2</th>\n",
       "      <td>A60</td>\n",
       "      <td>PRODUCT34</td>\n",
       "      <td>201402</td>\n",
       "      <td>4463.0</td>\n",
       "      <td>4463.0</td>\n",
       "      <td>2014</td>\n",
       "      <td>2</td>\n",
       "    </tr>\n",
       "    <tr>\n",
       "      <th>3</th>\n",
       "      <td>A60</td>\n",
       "      <td>PRODUCT47</td>\n",
       "      <td>201402</td>\n",
       "      <td>0.0</td>\n",
       "      <td>0.0</td>\n",
       "      <td>2014</td>\n",
       "      <td>2</td>\n",
       "    </tr>\n",
       "    <tr>\n",
       "      <th>4</th>\n",
       "      <td>A60</td>\n",
       "      <td>PRODUCT56</td>\n",
       "      <td>201402</td>\n",
       "      <td>23.0</td>\n",
       "      <td>23.0</td>\n",
       "      <td>2014</td>\n",
       "      <td>2</td>\n",
       "    </tr>\n",
       "    <tr>\n",
       "      <th>...</th>\n",
       "      <td>...</td>\n",
       "      <td>...</td>\n",
       "      <td>...</td>\n",
       "      <td>...</td>\n",
       "      <td>...</td>\n",
       "      <td>...</td>\n",
       "      <td>...</td>\n",
       "    </tr>\n",
       "    <tr>\n",
       "      <th>124653</th>\n",
       "      <td>A10</td>\n",
       "      <td>PRODUCT60</td>\n",
       "      <td>201630</td>\n",
       "      <td>824.0</td>\n",
       "      <td>824.0</td>\n",
       "      <td>2016</td>\n",
       "      <td>30</td>\n",
       "    </tr>\n",
       "    <tr>\n",
       "      <th>124654</th>\n",
       "      <td>A10</td>\n",
       "      <td>PRODUCT56</td>\n",
       "      <td>201630</td>\n",
       "      <td>275.0</td>\n",
       "      <td>275.0</td>\n",
       "      <td>2016</td>\n",
       "      <td>30</td>\n",
       "    </tr>\n",
       "    <tr>\n",
       "      <th>124655</th>\n",
       "      <td>A10</td>\n",
       "      <td>PRODUCT61</td>\n",
       "      <td>201630</td>\n",
       "      <td>0.0</td>\n",
       "      <td>0.0</td>\n",
       "      <td>2016</td>\n",
       "      <td>30</td>\n",
       "    </tr>\n",
       "    <tr>\n",
       "      <th>124656</th>\n",
       "      <td>A10</td>\n",
       "      <td>PRODUCT12</td>\n",
       "      <td>201630</td>\n",
       "      <td>15021.0</td>\n",
       "      <td>15021.0</td>\n",
       "      <td>2016</td>\n",
       "      <td>30</td>\n",
       "    </tr>\n",
       "    <tr>\n",
       "      <th>124657</th>\n",
       "      <td>A10</td>\n",
       "      <td>PRODUCT1</td>\n",
       "      <td>201630</td>\n",
       "      <td>568.0</td>\n",
       "      <td>568.0</td>\n",
       "      <td>2016</td>\n",
       "      <td>30</td>\n",
       "    </tr>\n",
       "  </tbody>\n",
       "</table>\n",
       "<p>124658 rows × 7 columns</p>\n",
       "</div>"
      ],
      "text/plain": [
       "       REGIONID    PRODUCT YEARWEEK      QTY  NEW_QTY  YEAR  WEEK\n",
       "0           A60   PRODUCT4   201402     71.0     71.0  2014     2\n",
       "1           A60  PRODUCT59   201402  22275.0  22275.0  2014     2\n",
       "2           A60  PRODUCT34   201402   4463.0   4463.0  2014     2\n",
       "3           A60  PRODUCT47   201402      0.0      0.0  2014     2\n",
       "4           A60  PRODUCT56   201402     23.0     23.0  2014     2\n",
       "...         ...        ...      ...      ...      ...   ...   ...\n",
       "124653      A10  PRODUCT60   201630    824.0    824.0  2016    30\n",
       "124654      A10  PRODUCT56   201630    275.0    275.0  2016    30\n",
       "124655      A10  PRODUCT61   201630      0.0      0.0  2016    30\n",
       "124656      A10  PRODUCT12   201630  15021.0  15021.0  2016    30\n",
       "124657      A10   PRODUCT1   201630    568.0    568.0  2016    30\n",
       "\n",
       "[124658 rows x 7 columns]"
      ]
     },
     "execution_count": 45,
     "metadata": {},
     "output_type": "execute_result"
    }
   ],
   "source": [
    "selloutData.loc[selloutData.YEARWEEK.str.len() == 6]"
   ]
  },
  {
   "cell_type": "code",
   "execution_count": 32,
   "id": "c2c075d4-574e-4dda-bb4a-573c65601148",
   "metadata": {},
   "outputs": [],
   "source": [
    "selloutData[\"WEEK\"] = selloutData.YEARWEEK.str[4:6].astype(int)"
   ]
  },
  {
   "cell_type": "code",
   "execution_count": 31,
   "id": "41d8b59c-5280-4e74-a710-264ec769f8a5",
   "metadata": {},
   "outputs": [
    {
     "name": "stdout",
     "output_type": "stream",
     "text": [
      "<class 'pandas.core.frame.DataFrame'>\n",
      "RangeIndex: 124658 entries, 0 to 124657\n",
      "Data columns (total 7 columns):\n",
      " #   Column    Non-Null Count   Dtype  \n",
      "---  ------    --------------   -----  \n",
      " 0   REGIONID  124658 non-null  object \n",
      " 1   PRODUCT   124658 non-null  object \n",
      " 2   YEARWEEK  124658 non-null  object \n",
      " 3   QTY       124658 non-null  float64\n",
      " 4   NEW_QTY   124658 non-null  float64\n",
      " 5   YEAR      124658 non-null  object \n",
      " 6   WEEK      124658 non-null  object \n",
      "dtypes: float64(2), object(5)\n",
      "memory usage: 6.7+ MB\n"
     ]
    }
   ],
   "source": [
    "selloutData.info()"
   ]
  },
  {
   "cell_type": "code",
   "execution_count": null,
   "id": "a9d94388-8cca-4d48-b8f4-c698c60c1bc0",
   "metadata": {},
   "outputs": [],
   "source": []
  },
  {
   "cell_type": "code",
   "execution_count": 19,
   "id": "3e8f64aa-d69e-4ec2-b40e-4355c60157f8",
   "metadata": {},
   "outputs": [],
   "source": [
    "### 함수정의: 판매량 데이터를 정제 (-값: 0, 이외 기존값)\n",
    "### 파라미터 inQty: 실제 판매량\n",
    "def cleanQty(inQty):\n",
    "\n",
    "    # 테스트데이터: inQty\n",
    "    # inQty = 500\n",
    "    newQty = 0\n",
    "\n",
    "    if inQty <= 0:\n",
    "        newQty = 0\n",
    "    else:\n",
    "        newQty = inQty\n",
    "\n",
    "    return newQty\n",
    "\n",
    "selloutData[\"NEW_QTY\"] = \\\n",
    "    selloutData.QTY.apply(cleanQty)"
   ]
  },
  {
   "cell_type": "code",
   "execution_count": 27,
   "id": "d227e3fb-783c-4461-88ba-8bd166fd69b0",
   "metadata": {},
   "outputs": [
    {
     "data": {
      "text/html": [
       "<div>\n",
       "<style scoped>\n",
       "    .dataframe tbody tr th:only-of-type {\n",
       "        vertical-align: middle;\n",
       "    }\n",
       "\n",
       "    .dataframe tbody tr th {\n",
       "        vertical-align: top;\n",
       "    }\n",
       "\n",
       "    .dataframe thead th {\n",
       "        text-align: right;\n",
       "    }\n",
       "</style>\n",
       "<table border=\"1\" class=\"dataframe\">\n",
       "  <thead>\n",
       "    <tr style=\"text-align: right;\">\n",
       "      <th></th>\n",
       "      <th>REGIONID</th>\n",
       "      <th>PRODUCT</th>\n",
       "      <th>YEARWEEK</th>\n",
       "      <th>QTY</th>\n",
       "      <th>NEW_QTY</th>\n",
       "    </tr>\n",
       "  </thead>\n",
       "  <tbody>\n",
       "  </tbody>\n",
       "</table>\n",
       "</div>"
      ],
      "text/plain": [
       "Empty DataFrame\n",
       "Columns: [REGIONID, PRODUCT, YEARWEEK, QTY, NEW_QTY]\n",
       "Index: []"
      ]
     },
     "execution_count": 27,
     "metadata": {},
     "output_type": "execute_result"
    }
   ],
   "source": [
    "selloutData.loc[ (selloutData.QTY > 0) &\n",
    "                 (selloutData.NEW_QTY != selloutData.QTY) ]"
   ]
  }
 ],
 "metadata": {
  "kernelspec": {
   "display_name": "Python 3 (ipykernel)",
   "language": "python",
   "name": "python3"
  },
  "language_info": {
   "codemirror_mode": {
    "name": "ipython",
    "version": 3
   },
   "file_extension": ".py",
   "mimetype": "text/x-python",
   "name": "python",
   "nbconvert_exporter": "python",
   "pygments_lexer": "ipython3",
   "version": "3.9.7"
  }
 },
 "nbformat": 4,
 "nbformat_minor": 5
}
