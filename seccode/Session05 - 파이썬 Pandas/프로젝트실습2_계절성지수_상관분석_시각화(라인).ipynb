{
 "cells": [
  {
   "cell_type": "markdown",
   "id": "aa5cb242-4c6e-4566-bdfe-a9713c86d775",
   "metadata": {},
   "source": [
    "# 1. 프로젝트 실습"
   ]
  },
  {
   "cell_type": "markdown",
   "id": "15d0c427-13ab-492c-9b69-3198eba6cea3",
   "metadata": {},
   "source": [
    "### 데이터 불러오기"
   ]
  },
  {
   "cell_type": "markdown",
   "id": "839c1855-615f-4301-a91f-5c1a04fb85fb",
   "metadata": {},
   "source": [
    "[데이터타입 통합]\n",
    "kopo_channel_seasonality_new.csv 파일을 불러온 후\n",
    "selloutData 변수에 담으세요 이후 \n",
    "QTY컬럼→실수(float), 이외컬럼→문자(str)로 변경하세요"
   ]
  },
  {
   "cell_type": "code",
   "execution_count": 1,
   "id": "c9365d60-02e7-4aa9-a105-401876c16d26",
   "metadata": {},
   "outputs": [],
   "source": [
    "import pandas as pd\n",
    "\n",
    "selloutData = \\\n",
    "    pd.read_csv(\"../dataset/kopo_channel_seasonality_new.csv\")\n",
    "\n",
    "selloutData = selloutData.astype({\"REGIONID\":str,\n",
    "                    \"PRODUCT\":str,\n",
    "                    \"YEARWEEK\":str,\n",
    "                    \"QTY\":float})"
   ]
  },
  {
   "cell_type": "markdown",
   "id": "e4abdfdf-85eb-4a1f-9658-94016d1339bd",
   "metadata": {},
   "source": [
    "### 1. 데이터 전처리"
   ]
  },
  {
   "cell_type": "markdown",
   "id": "61f08e20-9233-4a9b-825e-95fbd794df6e",
   "metadata": {},
   "source": [
    "### A-1. 불량데이터 처리"
   ]
  },
  {
   "cell_type": "markdown",
   "id": "31df14fa-6688-49c9-b53d-a9f95e662e18",
   "metadata": {},
   "source": [
    "[불량 데이터 처리]\n",
    "kopo_channel_seasonality_new.csv 자료를 담은 \n",
    "selloutData 변수에서\n",
    "QTY컬럼 음수(반품)인 경우 0, 양수인 경우 기존 QTY 값\u000b",
    "유지하는 로직을 적용하여 QTY_NEW 컬럼을 추가하세요\n",
    "\n",
    "\n"
   ]
  },
  {
   "cell_type": "code",
   "execution_count": 2,
   "id": "8a398c1b-e31b-4c71-8be2-d7b4ca97c7b0",
   "metadata": {},
   "outputs": [],
   "source": [
    "### 함수정의: 판매량 데이터를 정제 (-값: 0, 이외 기존값)\n",
    "### 파라미터 inQty: 실제 판매량\n",
    "def cleanQty(inQty):\n",
    "\n",
    "    # 테스트데이터: inQty\n",
    "    # inQty = 500\n",
    "    newQty = 0\n",
    "\n",
    "    if inQty <= 0:\n",
    "        newQty = 0\n",
    "    else:\n",
    "        newQty = inQty\n",
    "\n",
    "    return newQty\n",
    "\n",
    "selloutData[\"NEW_QTY\"] = \\\n",
    "    selloutData.QTY.apply(cleanQty)"
   ]
  },
  {
   "cell_type": "markdown",
   "id": "f39b1240-3754-43ba-ac76-e348561c6fac",
   "metadata": {},
   "source": [
    "### A-2. 데이터 통합"
   ]
  },
  {
   "cell_type": "markdown",
   "id": "1e086007-d185-4ff3-8d6f-194323cc0b57",
   "metadata": {},
   "source": [
    "[데이터 통합]\n",
    "selloutData 자료에서 \n",
    "YEAR, WEEK 컬럼을 생성하고 WEEK 가 52 이하인\n",
    "데이터만 조회한 후 refinedSelloutData 변수에 담으세요 (YEAR, WEEK는 모두 str)\n"
   ]
  },
  {
   "cell_type": "code",
   "execution_count": 3,
   "id": "7b1ddb48-607f-41df-a622-94dd6c61b6e0",
   "metadata": {},
   "outputs": [],
   "source": [
    "selloutData[\"YEAR\"] = selloutData.YEARWEEK.str[0:4]\n",
    "selloutData[\"WEEK\"] = selloutData.YEARWEEK.str[4:6]\n",
    "\n",
    "refinedSelloutData = selloutData.copy()"
   ]
  },
  {
   "cell_type": "code",
   "execution_count": 4,
   "id": "72c56649-4465-4822-94d0-d7bd67034c82",
   "metadata": {},
   "outputs": [
    {
     "data": {
      "text/plain": [
       "(124658, 7)"
      ]
     },
     "execution_count": 4,
     "metadata": {},
     "output_type": "execute_result"
    }
   ],
   "source": [
    "refinedSelloutData.shape"
   ]
  },
  {
   "cell_type": "markdown",
   "id": "08221ba4-3a37-4bc2-829e-5bfde9f85861",
   "metadata": {
    "tags": []
   },
   "source": [
    "### B-3. 추세선 도출"
   ]
  },
  {
   "cell_type": "markdown",
   "id": "eddf3166-3a66-4bf4-bf0c-4ce88b7457a2",
   "metadata": {},
   "source": [
    "0.[데이터 통합]\n",
    "refinedSelloutData 자료에서 \n",
    "YEAR, WEEK 컬럼을 생성하고 WEEK 가 52 이하인\n",
    "데이터만 조회한 후 refinedSelloutData 변수에 담으세요 -> 53주차를 제거한다"
   ]
  },
  {
   "cell_type": "code",
   "execution_count": 5,
   "id": "2271350d-cd11-4de8-9c89-a9edc418e092",
   "metadata": {},
   "outputs": [
    {
     "data": {
      "text/plain": [
       "(124658, 7)"
      ]
     },
     "execution_count": 5,
     "metadata": {},
     "output_type": "execute_result"
    }
   ],
   "source": [
    "refinedSelloutData.shape"
   ]
  },
  {
   "cell_type": "code",
   "execution_count": 6,
   "id": "760af562-423e-4d06-8951-bd56add0f66f",
   "metadata": {},
   "outputs": [],
   "source": [
    "refinedSelloutData = \\\n",
    "    refinedSelloutData.loc[refinedSelloutData.WEEK != \"53\"]"
   ]
  },
  {
   "cell_type": "markdown",
   "id": "02261dc6-cbd0-46fe-a436-772b2993c5f1",
   "metadata": {},
   "source": [
    "1. refinedSelloutData 에서 →\n",
    "지역, 상품, 연주차 컬럼순으로 오름차순 정렬하여\n",
    "sortedData 변수에 담으세요"
   ]
  },
  {
   "cell_type": "code",
   "execution_count": 7,
   "id": "ffb46068-5a96-46fc-a5e3-17ef2c4748f8",
   "metadata": {},
   "outputs": [],
   "source": [
    "sortKey = [\"REGIONID\",\"PRODUCT\",\"YEARWEEK\"]"
   ]
  },
  {
   "cell_type": "code",
   "execution_count": 8,
   "id": "4b7cef55-eac1-4370-82b1-9d40fd83dcee",
   "metadata": {},
   "outputs": [],
   "source": [
    "sortedData = refinedSelloutData.sort_values(by=sortKey)"
   ]
  },
  {
   "cell_type": "markdown",
   "id": "846292e5-b623-436a-ae3b-0a332612f1d4",
   "metadata": {},
   "source": [
    "2. [지역, 상품, 연도 별 집계] * 그룹키 = 지역(REGIONID),상품(PRODUCT) 연도(YEAR)\n",
    "groupKey = [\"REGIONID\",\"PRODUCT\",\"YEAR\"]\n",
    "sortedData 에서 지역, 상품, 연도 단위\n",
    "판매량(QTY_NEW) 의 평균 연산 후\n",
    "groupData 변수에 담으세요 이후 컬럼명을 QTY_MEAN로 변경하세요\n"
   ]
  },
  {
   "cell_type": "code",
   "execution_count": 9,
   "id": "6ba42d03-da86-400e-9d2b-6daf808ae05e",
   "metadata": {},
   "outputs": [],
   "source": [
    "groupKey = [\"REGIONID\",\"PRODUCT\",\"YEAR\"]"
   ]
  },
  {
   "cell_type": "code",
   "execution_count": 10,
   "id": "71d8948e-3a8b-472e-86f3-b8af6a497c15",
   "metadata": {},
   "outputs": [],
   "source": [
    "groupData= refinedSelloutData.groupby(by=groupKey)[\"NEW_QTY\"].agg([\"mean\"]).reset_index()"
   ]
  },
  {
   "cell_type": "code",
   "execution_count": 11,
   "id": "4aef8c75-c49d-4493-a2f0-65a33491450c",
   "metadata": {},
   "outputs": [],
   "source": [
    "groupData.rename(columns={\"mean\":\"QTY_MEAN\"},inplace=True)"
   ]
  },
  {
   "cell_type": "markdown",
   "id": "45bf5205-4a2d-4d18-a6de-d77bd6227c07",
   "metadata": {
    "tags": []
   },
   "source": [
    "### 1. refinedSelloutData와 groupData를 \n",
    "### [REGIONID, PRODUCT, YEAR] 키로 조인하여 \n",
    "### mergedData 변수에 아래와 같이 담으세요\n"
   ]
  },
  {
   "cell_type": "code",
   "execution_count": 12,
   "id": "050fd294-f83f-4ecc-b40a-6d572c044dba",
   "metadata": {},
   "outputs": [],
   "source": [
    "groupKey = [\"REGIONID\",\"PRODUCT\",\"YEAR\"]"
   ]
  },
  {
   "cell_type": "code",
   "execution_count": 13,
   "id": "1aef4151-74f3-41d9-96c2-aca28ee6aeaf",
   "metadata": {},
   "outputs": [],
   "source": [
    "mergedData = \\\n",
    "    pd.merge(left=refinedSelloutData, right=groupData, on= groupKey, how=\"left\")"
   ]
  },
  {
   "cell_type": "markdown",
   "id": "ea58ada0-88a6-4315-982b-d5174e4130d5",
   "metadata": {
    "tags": []
   },
   "source": [
    "### 2. 계절성 지수는\n",
    "### QTY_NEW / QTY_MEAN\n",
    "### 으로 산출하여 SEASONALITY 컬럼을 생성한다."
   ]
  },
  {
   "cell_type": "code",
   "execution_count": 14,
   "id": "f115a3e4-9ee8-40b4-9c53-28b75480f7d2",
   "metadata": {},
   "outputs": [],
   "source": [
    "mergedData[\"SEASONALITY\"] = mergedData.NEW_QTY / mergedData.QTY_MEAN "
   ]
  },
  {
   "cell_type": "code",
   "execution_count": 15,
   "id": "0cc6f414-751c-4a08-9dd7-d7a2dc4441d6",
   "metadata": {},
   "outputs": [],
   "source": [
    "maxLen = mergedData.shape[0]"
   ]
  },
  {
   "cell_type": "code",
   "execution_count": 16,
   "id": "86879694-3945-473e-83f5-03dfe5ec8947",
   "metadata": {},
   "outputs": [],
   "source": [
    "divPoint = int( maxLen*0.7 )"
   ]
  },
  {
   "cell_type": "code",
   "execution_count": 17,
   "id": "7b4ce425-5748-43dd-8a4b-6b0f82f2fdff",
   "metadata": {},
   "outputs": [
    {
     "data": {
      "text/plain": [
       "86704"
      ]
     },
     "execution_count": 17,
     "metadata": {},
     "output_type": "execute_result"
    }
   ],
   "source": [
    "divPoint"
   ]
  },
  {
   "cell_type": "code",
   "execution_count": 18,
   "id": "9535b3fd-cf2e-4530-b562-fc03c5dcb400",
   "metadata": {},
   "outputs": [],
   "source": [
    "trainingData= mergedData.loc[:divPoint]\n",
    "testData= mergedData.loc[divPoint:]"
   ]
  },
  {
   "cell_type": "markdown",
   "id": "f29b447f-539d-4528-a7bb-5d9586b11a68",
   "metadata": {},
   "source": [
    "### 3. 마지막으로 [지역, 상품, 주차] 별 \n",
    "### 계절성 지수 평균 값을\n",
    "### 조별 산출하여 finalResult 변수에 담으세요\n"
   ]
  },
  {
   "cell_type": "code",
   "execution_count": 19,
   "id": "6018d295-461e-4c0f-a843-cc4c77759f35",
   "metadata": {},
   "outputs": [],
   "source": [
    "groupKeyWeek = [\"REGIONID\",\"PRODUCT\",\"WEEK\"]"
   ]
  },
  {
   "cell_type": "code",
   "execution_count": 20,
   "id": "38997ffc-c97a-47a8-a327-cb3221227e26",
   "metadata": {},
   "outputs": [],
   "source": [
    "finalResult = \\\n",
    "    mergedData.groupby(by=groupKeyWeek)[\"SEASONALITY\"].agg([\"mean\"]).reset_index()"
   ]
  },
  {
   "cell_type": "code",
   "execution_count": 21,
   "id": "c4eb12ef-4a1f-4cee-86e9-48fc6b83f548",
   "metadata": {},
   "outputs": [],
   "source": [
    "finalResult.rename(columns={\"mean\":\"SEASONALITY\"},inplace=True)"
   ]
  },
  {
   "cell_type": "markdown",
   "id": "cb1c12a0-863f-42cb-a872-f20d0e3f4228",
   "metadata": {},
   "source": [
    "# 1. 시각화 라인차트"
   ]
  },
  {
   "cell_type": "code",
   "execution_count": 22,
   "id": "bcced9f1-187f-4eeb-9b61-4b357473ebd8",
   "metadata": {},
   "outputs": [
    {
     "data": {
      "text/plain": [
       "0      PRODUCT34\n",
       "52     PRODUCT58\n",
       "104    PRODUCT59\n",
       "Name: PRODUCT, dtype: object"
      ]
     },
     "execution_count": 22,
     "metadata": {},
     "output_type": "execute_result"
    }
   ],
   "source": [
    "finalResult.loc[finalResult.REGIONID==\"A00\"].PRODUCT.drop_duplicates()"
   ]
  },
  {
   "cell_type": "code",
   "execution_count": 23,
   "id": "293e62d2-f69e-45b5-883c-80a7ca1bd124",
   "metadata": {},
   "outputs": [
    {
     "data": {
      "text/plain": [
       "[<matplotlib.lines.Line2D at 0x2232d972cd0>]"
      ]
     },
     "execution_count": 23,
     "metadata": {},
     "output_type": "execute_result"
    },
    {
     "data": {
      "image/png": "[encoded data removed]",
      "text/plain": [
       "<Figure size 1080x288 with 1 Axes>"
      ]
     },
     "metadata": {
      "needs_background": "light"
     },
     "output_type": "display_data"
    }
   ],
   "source": [
    "import matplotlib.pyplot as plt\n",
    "\n",
    "%matplotlib inline\n",
    "regionid = \"A00\"\n",
    "product = \"PRODUCT59\"\n",
    "target = finalResult.loc[ (finalResult.REGIONID==regionid) & \n",
    "                         (finalResult.PRODUCT==product)]\n",
    "\n",
    "x = target.WEEK.astype(int)\n",
    "y = target.SEASONALITY\n",
    "# x = [1,2,3,4,5,6,7]\n",
    "# y = [1.2,1.3,1.4,1.5,1.6,1.7]\n",
    "\n",
    "plt.figure(figsize=(15, 4))\n",
    "plt.xticks( range( min(x), max(x), 2) )\n",
    "plt.plot(x,y)"
   ]
  },
  {
   "cell_type": "code",
   "execution_count": 24,
   "id": "2ab91c9c-c520-4a53-869f-908cc2e55c51",
   "metadata": {},
   "outputs": [],
   "source": [
    "# 선택한 조건에 맞는 데이터 추출\n",
    "targetRegion = \"A00\"\n",
    "targetProduct = \"PRODUCT34\"\n",
    "targetYear = \"2014\""
   ]
  },
  {
   "cell_type": "code",
   "execution_count": 25,
   "id": "10a187f6-8915-451c-99d6-6de890b4473b",
   "metadata": {},
   "outputs": [
    {
     "data": {
      "text/plain": [
       "275.96153846153845"
      ]
     },
     "execution_count": 25,
     "metadata": {},
     "output_type": "execute_result"
    }
   ],
   "source": [
    "groupData.loc[(groupData.REGIONID==targetRegion) &\n",
    "              (groupData.PRODUCT==targetProduct) &\n",
    "              (groupData.YEAR==targetYear)].QTY_MEAN.values[0]"
   ]
  },
  {
   "cell_type": "markdown",
   "id": "b285b5a3-3cb7-43ee-bbcf-4fe5077f67a0",
   "metadata": {},
   "source": [
    "### 1. 상관분석"
   ]
  },
  {
   "cell_type": "code",
   "execution_count": 26,
   "id": "4ff297f5-a632-45bd-a27f-a187f84e8da1",
   "metadata": {},
   "outputs": [],
   "source": [
    "featureData = \\\n",
    "    pd.read_csv(\"../dataset/feature_regression_example.csv\")"
   ]
  },
  {
   "cell_type": "markdown",
   "id": "aab94aed-ef97-4c7e-85fb-d334e6ae5234",
   "metadata": {},
   "source": [
    "# 상관분석은 숫자컬럼에 대해서만 작동한다"
   ]
  },
  {
   "cell_type": "code",
   "execution_count": 27,
   "id": "e6fab7c3-e50d-4fe9-b33b-11c2e341c38c",
   "metadata": {},
   "outputs": [],
   "source": [
    "import numpy as np"
   ]
  },
  {
   "cell_type": "code",
   "execution_count": 28,
   "id": "8ebad187-1cce-4138-bdb9-b1f62e2703b8",
   "metadata": {},
   "outputs": [],
   "source": [
    "featureData[\"HOLIDAY_NEW\"] = \\\n",
    "    np.where(featureData.HOLIDAY==\"Y\",1,0)\n",
    "featureData[\"PROMOTION_NEW\"] = \\\n",
    "    np.where(featureData.PROMOTION==\"Y\",1,0)"
   ]
  },
  {
   "cell_type": "code",
   "execution_count": 29,
   "id": "de5f9f80-0e65-4cb0-a81f-1219d4da7bd6",
   "metadata": {},
   "outputs": [],
   "source": [
    "corrDf = featureData.corr()"
   ]
  },
  {
   "cell_type": "code",
   "execution_count": 30,
   "id": "5b45454c-66e5-4d57-ac9d-139f2cb582f2",
   "metadata": {},
   "outputs": [],
   "source": [
    "stdCorr = 0.5"
   ]
  },
  {
   "cell_type": "code",
   "execution_count": 31,
   "id": "61920b19-8a26-4211-89d1-7b6a50dc1eee",
   "metadata": {},
   "outputs": [],
   "source": [
    "features =  \\\n",
    "    list( corrDf.loc[ (abs(corrDf.QTY) > stdCorr) & (abs(corrDf.QTY) != 1)].index )"
   ]
  },
  {
   "cell_type": "code",
   "execution_count": 32,
   "id": "270e4b98-7ee3-4648-9138-fe9478d95e84",
   "metadata": {},
   "outputs": [],
   "source": [
    "# 가격 경쟁력 분석......"
   ]
  },
  {
   "cell_type": "code",
   "execution_count": 33,
   "id": "397af802-d586-42a2-8afc-121f33f46e40",
   "metadata": {},
   "outputs": [
    {
     "data": {
      "text/plain": [
       "['HCLUS', 'PRO_PERCENT', 'HOLIDAY_NEW', 'PROMOTION_NEW']"
      ]
     },
     "execution_count": 33,
     "metadata": {},
     "output_type": "execute_result"
    }
   ],
   "source": [
    "features"
   ]
  }
 ],
 "metadata": {
  "kernelspec": {
   "display_name": "Python 3 (ipykernel)",
   "language": "python",
   "name": "python3"
  },
  "language_info": {
   "codemirror_mode": {
    "name": "ipython",
    "version": 3
   },
   "file_extension": ".py",
   "mimetype": "text/x-python",
   "name": "python",
   "nbconvert_exporter": "python",
   "pygments_lexer": "ipython3",
   "version": "3.9.7"
  }
 },
 "nbformat": 4,
 "nbformat_minor": 5
}
