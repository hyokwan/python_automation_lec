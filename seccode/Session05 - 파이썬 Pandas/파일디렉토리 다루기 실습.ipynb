{
 "cells": [
  {
   "cell_type": "markdown",
   "id": "6a85ea64-2f53-480d-b221-26d93c893c33",
   "metadata": {},
   "source": [
    "# 파일 불러오기"
   ]
  },
  {
   "cell_type": "code",
   "execution_count": 1,
   "id": "aab922a2-0d7a-458c-b049-fbc910b000d3",
   "metadata": {},
   "outputs": [
    {
     "data": {
      "text/html": [
       "<div>\n",
       "<style scoped>\n",
       "    .dataframe tbody tr th:only-of-type {\n",
       "        vertical-align: middle;\n",
       "    }\n",
       "\n",
       "    .dataframe tbody tr th {\n",
       "        vertical-align: top;\n",
       "    }\n",
       "\n",
       "    .dataframe thead th {\n",
       "        text-align: right;\n",
       "    }\n",
       "</style>\n",
       "<table border=\"1\" class=\"dataframe\">\n",
       "  <thead>\n",
       "    <tr style=\"text-align: right;\">\n",
       "      <th></th>\n",
       "      <th>CUSTID</th>\n",
       "      <th>AVGPRICE</th>\n",
       "      <th>EMI</th>\n",
       "      <th>DEVICECOUNT</th>\n",
       "      <th>PRODUCTAGE</th>\n",
       "      <th>CUSTTYPE</th>\n",
       "    </tr>\n",
       "  </thead>\n",
       "  <tbody>\n",
       "    <tr>\n",
       "      <th>0</th>\n",
       "      <td>A13566</td>\n",
       "      <td>4273.9</td>\n",
       "      <td>3</td>\n",
       "      <td>6</td>\n",
       "      <td>1.679181</td>\n",
       "      <td>Big-Screen-lover</td>\n",
       "    </tr>\n",
       "  </tbody>\n",
       "</table>\n",
       "</div>"
      ],
      "text/plain": [
       "   CUSTID  AVGPRICE  EMI  DEVICECOUNT  PRODUCTAGE          CUSTTYPE\n",
       "0  A13566    4273.9    3            6    1.679181  Big-Screen-lover"
      ]
     },
     "execution_count": 1,
     "metadata": {},
     "output_type": "execute_result"
    }
   ],
   "source": [
    "# 상대적경로로 불러오기\n",
    "\n",
    "import pandas as pd\n",
    "indata = pd.read_csv(\"../dataset/customerdata.csv\")\n",
    "indata.head(1)"
   ]
  },
  {
   "cell_type": "code",
   "execution_count": 4,
   "id": "4488757f-3413-4c8c-b216-615150cea860",
   "metadata": {},
   "outputs": [
    {
     "data": {
      "text/html": [
       "<div>\n",
       "<style scoped>\n",
       "    .dataframe tbody tr th:only-of-type {\n",
       "        vertical-align: middle;\n",
       "    }\n",
       "\n",
       "    .dataframe tbody tr th {\n",
       "        vertical-align: top;\n",
       "    }\n",
       "\n",
       "    .dataframe thead th {\n",
       "        text-align: right;\n",
       "    }\n",
       "</style>\n",
       "<table border=\"1\" class=\"dataframe\">\n",
       "  <thead>\n",
       "    <tr style=\"text-align: right;\">\n",
       "      <th></th>\n",
       "      <th>CUSTID</th>\n",
       "      <th>AVGPRICE</th>\n",
       "      <th>EMI</th>\n",
       "      <th>DEVICECOUNT</th>\n",
       "      <th>PRODUCTAGE</th>\n",
       "      <th>CUSTTYPE</th>\n",
       "    </tr>\n",
       "  </thead>\n",
       "  <tbody>\n",
       "    <tr>\n",
       "      <th>0</th>\n",
       "      <td>A13566</td>\n",
       "      <td>4273.9</td>\n",
       "      <td>3</td>\n",
       "      <td>6</td>\n",
       "      <td>1.679181</td>\n",
       "      <td>Big-Screen-lover</td>\n",
       "    </tr>\n",
       "  </tbody>\n",
       "</table>\n",
       "</div>"
      ],
      "text/plain": [
       "   CUSTID  AVGPRICE  EMI  DEVICECOUNT  PRODUCTAGE          CUSTTYPE\n",
       "0  A13566    4273.9    3            6    1.679181  Big-Screen-lover"
      ]
     },
     "execution_count": 4,
     "metadata": {},
     "output_type": "execute_result"
    }
   ],
   "source": [
    "# 절대적경로로 불러오기\n",
    "import pandas as pd\n",
    "indata = pd.read_csv(\"C:/Users/kopo/seccode/dataset/customerdata.csv\")\n",
    "indata.head(1)"
   ]
  },
  {
   "cell_type": "markdown",
   "id": "26b9a4db-fc68-4403-bc17-1cec8017a6f5",
   "metadata": {},
   "source": [
    "# 웹데이터 접근 (github)"
   ]
  },
  {
   "cell_type": "code",
   "execution_count": 5,
   "id": "7cc92c7e-a785-4e8e-aba1-42858a89c4a8",
   "metadata": {},
   "outputs": [],
   "source": [
    "indata = pd.read_csv(\"../dataset/customerdata.csv\")"
   ]
  },
  {
   "cell_type": "code",
   "execution_count": 6,
   "id": "72b3f96a-68b0-402b-8eb2-a43a363c7339",
   "metadata": {},
   "outputs": [],
   "source": [
    "indata.to_csv(\"../dataset/csdata_out.txt\", index=False)"
   ]
  },
  {
   "cell_type": "code",
   "execution_count": 7,
   "id": "ee9026d0-c67e-4920-9af9-bab01849cb21",
   "metadata": {},
   "outputs": [],
   "source": [
    "indata2 = pd.read_csv(\"../dataset/kopo_region_mst_hangul.csv\",\n",
    "           encoding=\"ms949\")"
   ]
  },
  {
   "cell_type": "code",
   "execution_count": 8,
   "id": "e0643693-7941-4191-92f9-65ca27a88725",
   "metadata": {},
   "outputs": [],
   "source": [
    "indata2.columns = [\"SALESID\",\"SALESNAME\"]"
   ]
  },
  {
   "cell_type": "code",
   "execution_count": 9,
   "id": "830d1e06-6b76-4537-a749-7f135eae32da",
   "metadata": {},
   "outputs": [],
   "source": [
    "indata2.columns = indata2.columns.str.lower()"
   ]
  },
  {
   "cell_type": "markdown",
   "id": "378df25e-e952-49d9-bf0c-40308d3a9698",
   "metadata": {},
   "source": [
    "../dataset 폴더 내 kopo_product_volume.csv 파일을\n",
    "selloutdata 변수에 저장하세요!"
   ]
  },
  {
   "cell_type": "code",
   "execution_count": 10,
   "id": "e4e88220-dfaf-49d6-afe8-4526884bd844",
   "metadata": {},
   "outputs": [],
   "source": [
    "selloutData = \\\n",
    "    pd.read_csv(\"../dataset/kopo_product_volume.csv\")"
   ]
  },
  {
   "cell_type": "markdown",
   "id": "b291d16f-f00b-4334-8867-0edcc7c2d2c2",
   "metadata": {},
   "source": [
    "### 1. os 라이브러리"
   ]
  },
  {
   "cell_type": "code",
   "execution_count": 13,
   "id": "d1fa0065-5a26-48db-a7be-afc7834a37ad",
   "metadata": {},
   "outputs": [],
   "source": [
    "import os"
   ]
  },
  {
   "cell_type": "code",
   "execution_count": 15,
   "id": "58080a2f-1a52-422e-a023-675344fc2b90",
   "metadata": {},
   "outputs": [
    {
     "name": "stdout",
     "output_type": "stream",
     "text": [
      "output 퐅더입니다\n",
      "test 퐅더입니다\n",
      "북미.txt 파일입니다\n",
      "인도.txt 파일입니다\n",
      "중국.txt 파일입니다\n"
     ]
    }
   ],
   "source": [
    "csDir = \"../dataset/csfolder\"\n",
    "dataDir = \"../dataset\"\n",
    "targetFile = \"customerdata.csv\"\n",
    "\n",
    "fileFullPath = os.path.join(dataDir,targetFile)\n",
    "indata = pd.read_csv(fileFullPath)\n",
    "fileFolderList = os.listdir(csDir)\n",
    "\n",
    "fileFolderLen = len(fileFolderList)\n",
    "\n",
    "targetList = []\n",
    "\n",
    "for i in range(0, fileFolderLen ):\n",
    "    targetName = fileFolderList[i]\n",
    "    fileFullPath = os.path.join(csDir, targetName)\n",
    "    fileFolderCheck = os.path.isdir(  os.path.join(csDir, targetName) )\n",
    "    if fileFolderCheck == True:\n",
    "        print(\"{} 퐅더입니다\".format(targetName)   )  \n",
    "    else:\n",
    "        print(\"{} 파일입니다\".format(targetName))\n",
    "        targetList.append( pd.read_csv(fileFullPath) )"
   ]
  },
  {
   "cell_type": "code",
   "execution_count": null,
   "id": "dedaef8c-a99c-4847-9bd4-323cd69dd245",
   "metadata": {},
   "outputs": [],
   "source": []
  },
  {
   "cell_type": "markdown",
   "id": "a7f0cf36-8d3f-4803-a8d8-157ac1dd74ed",
   "metadata": {},
   "source": [
    "# 신뢰도 정확도!!"
   ]
  },
  {
   "cell_type": "code",
   "execution_count": null,
   "id": "b49e2a03-ffc6-45f1-a868-efbd482bd150",
   "metadata": {},
   "outputs": [],
   "source": []
  },
  {
   "cell_type": "code",
   "execution_count": null,
   "id": "21561f81-1cce-454b-a10f-19da618d34d7",
   "metadata": {},
   "outputs": [],
   "source": []
  },
  {
   "cell_type": "code",
   "execution_count": null,
   "id": "e447a109-88bf-46bb-a393-24fe6eea36aa",
   "metadata": {},
   "outputs": [],
   "source": []
  },
  {
   "cell_type": "code",
   "execution_count": null,
   "id": "2a776d38-f9d6-4707-a30f-3d5e64ff92b2",
   "metadata": {},
   "outputs": [],
   "source": []
  },
  {
   "cell_type": "code",
   "execution_count": null,
   "id": "6ea81645-dcab-4b05-a51a-0bfd5043d36f",
   "metadata": {},
   "outputs": [],
   "source": []
  },
  {
   "cell_type": "code",
   "execution_count": 16,
   "id": "5f5d2b97-820a-41c1-871b-ab949262eb12",
   "metadata": {},
   "outputs": [],
   "source": [
    "# 데이터 불러오기\n",
    "selloutData = \\\n",
    "    pd.read_csv(\"../dataset/kopo_product_volume.csv\")\n"
   ]
  },
  {
   "cell_type": "code",
   "execution_count": 18,
   "id": "3cd4e23c-3694-45e8-bb44-6b12e0a6ad24",
   "metadata": {},
   "outputs": [],
   "source": [
    "# data 폴더 정의\n",
    "dataDir = \"../dataset\"\n",
    "\n",
    "# 출력 폴더 생성\n",
    "outDir = os.path.join(dataDir,\"output\")\n",
    "os.makedirs(outDir, exist_ok=True)\n",
    "\n",
    "# Step1: 데이터 불러오기\n",
    "inFileName = \"kopo_product_volume.csv\"\n",
    "inFileFullPath = os.path.join( dataDir, inFileName)\n",
    "indata = pd.read_csv(inFileFullPath)\n",
    "\n",
    "# Step2: 데이터 저장하기\n",
    "outFileName = \"kopo_product_volume_out.csv\"\n",
    "outFileFullPath = os.path.join( outDir, outFileName)\n",
    "indata.to_csv( outFileFullPath )"
   ]
  },
  {
   "cell_type": "markdown",
   "id": "4e49e7d9-8a8c-44f8-9ddf-acd80bd627b2",
   "metadata": {},
   "source": [
    "### 2. glob"
   ]
  },
  {
   "cell_type": "code",
   "execution_count": 19,
   "id": "07f49ef7-6b94-45a0-ac18-7e69303631dd",
   "metadata": {},
   "outputs": [],
   "source": [
    "from glob import glob\n",
    "import os"
   ]
  },
  {
   "cell_type": "code",
   "execution_count": 20,
   "id": "9afce57a-65cf-4968-805f-4aeaae89c326",
   "metadata": {},
   "outputs": [],
   "source": [
    "csDir = \"../dataset/csfolder\"\n",
    "pattern = \"*.txt\""
   ]
  },
  {
   "cell_type": "code",
   "execution_count": 21,
   "id": "c9182b6f-424e-4cda-bc9d-a9ab2d16a7bc",
   "metadata": {},
   "outputs": [],
   "source": [
    "searchPattern = os.path.join(csDir,pattern)"
   ]
  },
  {
   "cell_type": "code",
   "execution_count": 22,
   "id": "53ef1171-ea60-47d2-acaa-5f1f5556e627",
   "metadata": {},
   "outputs": [
    {
     "data": {
      "text/plain": [
       "['../dataset/csfolder\\\\북미.txt',\n",
       " '../dataset/csfolder\\\\인도.txt',\n",
       " '../dataset/csfolder\\\\중국.txt']"
      ]
     },
     "execution_count": 22,
     "metadata": {},
     "output_type": "execute_result"
    }
   ],
   "source": [
    "glob(searchPattern)"
   ]
  },
  {
   "cell_type": "markdown",
   "id": "f50b86a7-3f81-4088-845f-b593e3284198",
   "metadata": {},
   "source": [
    "### 3. pickle"
   ]
  },
  {
   "cell_type": "code",
   "execution_count": 23,
   "id": "04b65cad-cfef-4edb-a776-cbefeeca7507",
   "metadata": {},
   "outputs": [],
   "source": [
    "import pandas as pd\n",
    "\n",
    "import pickle\n",
    "\n",
    "data450 = pd.read_csv(\"../dataset/kopo_450data.csv\")\n",
    "\n",
    "with open(\"kopo_450.pickle\",\"wb\") as fw:\n",
    "    pickle.dump(data450, fw)\n",
    "\n",
    "with open(\"kopo_450.pickle\",\"rb\") as fr:\n",
    "    data = pickle.load(fr)\n",
    "\n",
    "data"
   ]
  },
  {
   "cell_type": "markdown",
   "id": "ca7d7ee6-fd28-42fe-8788-7ad0d6613caa",
   "metadata": {},
   "source": [
    "### 4. shutil 라이브러리"
   ]
  },
  {
   "cell_type": "code",
   "execution_count": 23,
   "id": "73e40aad-04ad-4cf1-b4c5-404f769ceedf",
   "metadata": {},
   "outputs": [],
   "source": [
    "import shutil"
   ]
  },
  {
   "cell_type": "code",
   "execution_count": 24,
   "id": "0a4be7f4-ec71-48b1-aab5-cb83e4af2093",
   "metadata": {},
   "outputs": [
    {
     "data": {
      "text/plain": [
       "'../dataset/output/csoutshutil.csv'"
      ]
     },
     "execution_count": 24,
     "metadata": {},
     "output_type": "execute_result"
    }
   ],
   "source": [
    "shutil.copy(\"../dataset/customerdata.csv\",\n",
    "            \"../dataset/output/csoutshutil.csv\")"
   ]
  }
 ],
 "metadata": {
  "kernelspec": {
   "display_name": "Python 3 (ipykernel)",
   "language": "python",
   "name": "python3"
  },
  "language_info": {
   "codemirror_mode": {
    "name": "ipython",
    "version": 3
   },
   "file_extension": ".py",
   "mimetype": "text/x-python",
   "name": "python",
   "nbconvert_exporter": "python",
   "pygments_lexer": "ipython3",
   "version": "3.9.7"
  }
 },
 "nbformat": 4,
 "nbformat_minor": 5
}
