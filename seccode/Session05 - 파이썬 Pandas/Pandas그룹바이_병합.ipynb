{
 "cells": [
  {
   "cell_type": "code",
   "execution_count": 1,
   "id": "d4d367d6-977e-437d-b254-3c8e0232ba33",
   "metadata": {},
   "outputs": [],
   "source": [
    "import pandas as pd"
   ]
  },
  {
   "cell_type": "markdown",
   "id": "ab0fcd6c-0527-42a1-a60d-ddb6c4e2f41d",
   "metadata": {},
   "source": [
    "### 1. 데이터 불러오기"
   ]
  },
  {
   "cell_type": "code",
   "execution_count": 3,
   "id": "8e6b1e04-dab3-4148-9767-bdc1fa26a9af",
   "metadata": {},
   "outputs": [],
   "source": [
    "customerData = pd.read_csv(\"../dataset/customerdata.csv\")\n",
    "\n",
    "customerData.describe()\n",
    "\n",
    "groupKey = [\"EMI\"]\n",
    "\n",
    "customerData.groupby(by=groupKey)[\"AVGPRICE\"].describe()"
   ]
  },
  {
   "cell_type": "code",
   "execution_count": 15,
   "id": "bd1aca2b-fdfa-4403-8a7a-ba011b6c4ef8",
   "metadata": {},
   "outputs": [],
   "source": [
    "selloutData = pd.read_csv(\"../dataset/kopo_channel_seasonality_new.csv\")\n",
    "\n",
    "groupKey = [\"REGIONID\"]\n",
    "\n",
    "groupData = selloutData.groupby(by=groupKey)[\"QTY\"].agg([\"mean\"]).reset_index()\n",
    "groupData.rename(columns={\"mean\":\"QTY_MENA\"}, inplace=True)\n",
    "\n",
    "sortKey = [\"QTY_MENA\"]\n",
    "\n",
    "groupData.sort_values(sortKey, ascending=[False]).head(5)"
   ]
  },
  {
   "cell_type": "markdown",
   "id": "e1ff12d8-71d6-49c1-976a-6d69ec1ee935",
   "metadata": {},
   "source": [
    "### 2. 고급함수 (이동평균)"
   ]
  },
  {
   "cell_type": "code",
   "execution_count": 32,
   "id": "4483f0d4-1259-45fb-9818-0ad510b0d8dc",
   "metadata": {},
   "outputs": [],
   "source": [
    "kopoData = pd.read_csv(\"../dataset/kopo_product_volume.csv\")\n",
    "\n",
    "kopoData[\"MA\"] = \\\n",
    "    kopoData.VOLUME.rolling(window=3, center=True, min_periods=2).mean()\n",
    "\n",
    "sortKey = [\"REGIONID\",\"PRODUCTGROUP\",\"YEARWEEK\"]\n",
    "\n",
    "sortedData = \\\n",
    "    kopoData.sort_values(sortKey)\n",
    "\n",
    "sortedData[\"MA_NEW\"] = \\\n",
    "    sortedData.VOLUME.rolling(window=3, center=True, min_periods=2).mean()"
   ]
  }
 ],
 "metadata": {
  "kernelspec": {
   "display_name": "Python 3 (ipykernel)",
   "language": "python",
   "name": "python3"
  },
  "language_info": {
   "codemirror_mode": {
    "name": "ipython",
    "version": 3
   },
   "file_extension": ".py",
   "mimetype": "text/x-python",
   "name": "python",
   "nbconvert_exporter": "python",
   "pygments_lexer": "ipython3",
   "version": "3.9.7"
  }
 },
 "nbformat": 4,
 "nbformat_minor": 5
}
