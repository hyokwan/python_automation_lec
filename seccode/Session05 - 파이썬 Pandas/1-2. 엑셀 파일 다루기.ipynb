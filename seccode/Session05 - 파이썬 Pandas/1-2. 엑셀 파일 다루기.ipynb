{
 "cells": [
  {
   "cell_type": "markdown",
   "id": "db4db4cb-cce8-44ea-8a8d-e08708217149",
   "metadata": {},
   "source": [
    "# 1. 파일(csv, excel) 다루기\n"
   ]
  },
  {
   "cell_type": "markdown",
   "id": "a115b16e-cc6f-4f64-afed-0d553348cb90",
   "metadata": {
    "tags": []
   },
   "source": [
    "### 1. 파일 데이터 수집 및 저장 (csv)"
   ]
  },
  {
   "cell_type": "code",
   "execution_count": 1,
   "id": "49160a58-7d1d-4f31-8331-ddce7bb32826",
   "metadata": {},
   "outputs": [
    {
     "data": {
      "text/html": [
       "<div>\n",
       "<style scoped>\n",
       "    .dataframe tbody tr th:only-of-type {\n",
       "        vertical-align: middle;\n",
       "    }\n",
       "\n",
       "    .dataframe tbody tr th {\n",
       "        vertical-align: top;\n",
       "    }\n",
       "\n",
       "    .dataframe thead th {\n",
       "        text-align: right;\n",
       "    }\n",
       "</style>\n",
       "<table border=\"1\" class=\"dataframe\">\n",
       "  <thead>\n",
       "    <tr style=\"text-align: right;\">\n",
       "      <th></th>\n",
       "      <th>custid</th>\n",
       "      <th>avgprice</th>\n",
       "      <th>emi</th>\n",
       "      <th>devicecount</th>\n",
       "      <th>productage</th>\n",
       "      <th>cstype</th>\n",
       "    </tr>\n",
       "  </thead>\n",
       "  <tbody>\n",
       "    <tr>\n",
       "      <th>0</th>\n",
       "      <td>A13566</td>\n",
       "      <td>4273.900000</td>\n",
       "      <td>3</td>\n",
       "      <td>6</td>\n",
       "      <td>1.679181</td>\n",
       "      <td>Big-Screen-lover</td>\n",
       "    </tr>\n",
       "    <tr>\n",
       "      <th>1</th>\n",
       "      <td>A14219</td>\n",
       "      <td>3642.441950</td>\n",
       "      <td>2</td>\n",
       "      <td>4</td>\n",
       "      <td>2.682023</td>\n",
       "      <td>Sleeping-dog</td>\n",
       "    </tr>\n",
       "    <tr>\n",
       "      <th>2</th>\n",
       "      <td>A15312</td>\n",
       "      <td>3653.884565</td>\n",
       "      <td>2</td>\n",
       "      <td>5</td>\n",
       "      <td>3.208202</td>\n",
       "      <td>Sleeping-dog</td>\n",
       "    </tr>\n",
       "    <tr>\n",
       "      <th>3</th>\n",
       "      <td>A16605</td>\n",
       "      <td>3713.211107</td>\n",
       "      <td>2</td>\n",
       "      <td>6</td>\n",
       "      <td>0.900000</td>\n",
       "      <td>Early-bird</td>\n",
       "    </tr>\n",
       "    <tr>\n",
       "      <th>4</th>\n",
       "      <td>B10634</td>\n",
       "      <td>3391.074215</td>\n",
       "      <td>2</td>\n",
       "      <td>4</td>\n",
       "      <td>2.453656</td>\n",
       "      <td>Sleeping-dog</td>\n",
       "    </tr>\n",
       "  </tbody>\n",
       "</table>\n",
       "</div>"
      ],
      "text/plain": [
       "   custid     avgprice  emi  devicecount  productage            cstype\n",
       "0  A13566  4273.900000    3            6    1.679181  Big-Screen-lover\n",
       "1  A14219  3642.441950    2            4    2.682023      Sleeping-dog\n",
       "2  A15312  3653.884565    2            5    3.208202      Sleeping-dog\n",
       "3  A16605  3713.211107    2            6    0.900000        Early-bird\n",
       "4  B10634  3391.074215    2            4    2.453656      Sleeping-dog"
      ]
     },
     "execution_count": 1,
     "metadata": {},
     "output_type": "execute_result"
    }
   ],
   "source": [
    "# Pandas 패키지 불러오기\n",
    "import pandas as pd\n",
    " \n",
    "# CSV 파일을 읽어 Data Frame 변수에 저장하기\n",
    "customerData = pd.read_csv(\"../dataset/customerdata.csv\")\n",
    "\n",
    "# 컬럼명 변경\n",
    "customerData.columns = [\"custid\",\"avgprice\",\"emi\",\\\n",
    "                        \"devicecount\",\"productage\",\"cstype\"]\n",
    "\n",
    "# CSV 파일로 저장\n",
    "customerData.to_csv(\"../dataset/customerdata_out.csv\", index=False)\n",
    "customerData.head()\n"
   ]
  },
  {
   "cell_type": "markdown",
   "id": "8fff79cd-f17d-45e7-a537-bd7b86273985",
   "metadata": {},
   "source": [
    "### 2. 파일 데이터 수집 및 저장 (excel)"
   ]
  },
  {
   "cell_type": "code",
   "execution_count": 2,
   "id": "b41993e6-09b3-45a8-a194-22d38d1b9c1e",
   "metadata": {},
   "outputs": [
    {
     "data": {
      "text/html": [
       "<div>\n",
       "<style scoped>\n",
       "    .dataframe tbody tr th:only-of-type {\n",
       "        vertical-align: middle;\n",
       "    }\n",
       "\n",
       "    .dataframe tbody tr th {\n",
       "        vertical-align: top;\n",
       "    }\n",
       "\n",
       "    .dataframe thead th {\n",
       "        text-align: right;\n",
       "    }\n",
       "</style>\n",
       "<table border=\"1\" class=\"dataframe\">\n",
       "  <thead>\n",
       "    <tr style=\"text-align: right;\">\n",
       "      <th></th>\n",
       "      <th>custid</th>\n",
       "      <th>avgprice</th>\n",
       "      <th>emi</th>\n",
       "      <th>devicecount</th>\n",
       "      <th>productage</th>\n",
       "      <th>cstype</th>\n",
       "    </tr>\n",
       "  </thead>\n",
       "  <tbody>\n",
       "    <tr>\n",
       "      <th>0</th>\n",
       "      <td>A13566</td>\n",
       "      <td>4273.900000</td>\n",
       "      <td>3</td>\n",
       "      <td>6</td>\n",
       "      <td>1.679181</td>\n",
       "      <td>Big-Screen-lover</td>\n",
       "    </tr>\n",
       "    <tr>\n",
       "      <th>1</th>\n",
       "      <td>A14219</td>\n",
       "      <td>3642.441950</td>\n",
       "      <td>2</td>\n",
       "      <td>4</td>\n",
       "      <td>2.682023</td>\n",
       "      <td>Sleeping-dog</td>\n",
       "    </tr>\n",
       "    <tr>\n",
       "      <th>2</th>\n",
       "      <td>A15312</td>\n",
       "      <td>3653.884565</td>\n",
       "      <td>2</td>\n",
       "      <td>5</td>\n",
       "      <td>3.208202</td>\n",
       "      <td>Sleeping-dog</td>\n",
       "    </tr>\n",
       "    <tr>\n",
       "      <th>3</th>\n",
       "      <td>A16605</td>\n",
       "      <td>3713.211107</td>\n",
       "      <td>2</td>\n",
       "      <td>6</td>\n",
       "      <td>0.900000</td>\n",
       "      <td>Early-bird</td>\n",
       "    </tr>\n",
       "    <tr>\n",
       "      <th>4</th>\n",
       "      <td>B10634</td>\n",
       "      <td>3391.074215</td>\n",
       "      <td>2</td>\n",
       "      <td>4</td>\n",
       "      <td>2.453656</td>\n",
       "      <td>Sleeping-dog</td>\n",
       "    </tr>\n",
       "  </tbody>\n",
       "</table>\n",
       "</div>"
      ],
      "text/plain": [
       "   custid     avgprice  emi  devicecount  productage            cstype\n",
       "0  A13566  4273.900000    3            6    1.679181  Big-Screen-lover\n",
       "1  A14219  3642.441950    2            4    2.682023      Sleeping-dog\n",
       "2  A15312  3653.884565    2            5    3.208202      Sleeping-dog\n",
       "3  A16605  3713.211107    2            6    0.900000        Early-bird\n",
       "4  B10634  3391.074215    2            4    2.453656      Sleeping-dog"
      ]
     },
     "execution_count": 2,
     "metadata": {},
     "output_type": "execute_result"
    }
   ],
   "source": [
    "# Pandas 패키지 불러오기\n",
    "import pandas as pd\n",
    " \n",
    "# 엑셀 파일을 읽어 Data Frame 변수에 저장하기\n",
    "customerData = pd.read_excel(\"../dataset/customerdata.xlsx\")\n",
    "\n",
    "# 컬럼명 변경\n",
    "customerData.columns = [\"custid\",\"avgprice\",\"emi\",\\\n",
    "                        \"devicecount\",\"productage\",\"cstype\"]\n",
    "# 파일 저장\n",
    "customerData.to_excel(\"../dataset/customerdata_out.xlsx\", index=False)\n",
    "customerData.head()\n"
   ]
  },
  {
   "cell_type": "markdown",
   "id": "99478481-c8f4-47ae-ac48-5165662e6bda",
   "metadata": {},
   "source": [
    "### 3. 파일 데이터 수집 및 저장 (한글)"
   ]
  },
  {
   "cell_type": "code",
   "execution_count": 3,
   "id": "453cbd85-8ddc-4f25-aca3-fc83ed483f49",
   "metadata": {
    "jp-MarkdownHeadingCollapsed": true,
    "tags": []
   },
   "outputs": [
    {
     "data": {
      "text/html": [
       "<div>\n",
       "<style scoped>\n",
       "    .dataframe tbody tr th:only-of-type {\n",
       "        vertical-align: middle;\n",
       "    }\n",
       "\n",
       "    .dataframe tbody tr th {\n",
       "        vertical-align: top;\n",
       "    }\n",
       "\n",
       "    .dataframe thead th {\n",
       "        text-align: right;\n",
       "    }\n",
       "</style>\n",
       "<table border=\"1\" class=\"dataframe\">\n",
       "  <thead>\n",
       "    <tr style=\"text-align: right;\">\n",
       "      <th></th>\n",
       "      <th>REGIONID</th>\n",
       "      <th>REGIONNAME</th>\n",
       "    </tr>\n",
       "  </thead>\n",
       "  <tbody>\n",
       "    <tr>\n",
       "      <th>0</th>\n",
       "      <td>A00</td>\n",
       "      <td>아프리카</td>\n",
       "    </tr>\n",
       "    <tr>\n",
       "      <th>1</th>\n",
       "      <td>A01</td>\n",
       "      <td>미국</td>\n",
       "    </tr>\n",
       "  </tbody>\n",
       "</table>\n",
       "</div>"
      ],
      "text/plain": [
       "  REGIONID REGIONNAME\n",
       "0      A00       아프리카\n",
       "1      A01         미국"
      ]
     },
     "execution_count": 3,
     "metadata": {},
     "output_type": "execute_result"
    }
   ],
   "source": [
    "# Pandas 패키지 불러오기\n",
    "import pandas as pd\n",
    " \n",
    "# CSV 파일을 읽어올 때 encoding = “ms949” 옵션 정의\n",
    "regionData = pd.read_csv(\"../dataset/kopo_region_mst_hangul.csv\", \\\n",
    "                         encoding=\"ms949\")\n",
    "regionData.head(2)"
   ]
  },
  {
   "cell_type": "markdown",
   "id": "c3aca577-d560-434c-a61b-8605eea8759b",
   "metadata": {},
   "source": [
    "### 4. 파일 데이터 수집 및 저장 (웹)\n"
   ]
  },
  {
   "cell_type": "code",
   "execution_count": 4,
   "id": "215fc71f-b6af-4d4d-84fc-e8ca1d9d9580",
   "metadata": {},
   "outputs": [
    {
     "data": {
      "text/html": [
       "<div>\n",
       "<style scoped>\n",
       "    .dataframe tbody tr th:only-of-type {\n",
       "        vertical-align: middle;\n",
       "    }\n",
       "\n",
       "    .dataframe tbody tr th {\n",
       "        vertical-align: top;\n",
       "    }\n",
       "\n",
       "    .dataframe thead th {\n",
       "        text-align: right;\n",
       "    }\n",
       "</style>\n",
       "<table border=\"1\" class=\"dataframe\">\n",
       "  <thead>\n",
       "    <tr style=\"text-align: right;\">\n",
       "      <th></th>\n",
       "      <th>custid</th>\n",
       "      <th>avgprice</th>\n",
       "      <th>emi</th>\n",
       "      <th>devicecount</th>\n",
       "      <th>productage</th>\n",
       "      <th>cstype</th>\n",
       "    </tr>\n",
       "  </thead>\n",
       "  <tbody>\n",
       "    <tr>\n",
       "      <th>0</th>\n",
       "      <td>A13566</td>\n",
       "      <td>4273.900000</td>\n",
       "      <td>3</td>\n",
       "      <td>6</td>\n",
       "      <td>1.679181</td>\n",
       "      <td>Big-Screen-lover</td>\n",
       "    </tr>\n",
       "    <tr>\n",
       "      <th>1</th>\n",
       "      <td>A14219</td>\n",
       "      <td>3642.441950</td>\n",
       "      <td>2</td>\n",
       "      <td>4</td>\n",
       "      <td>2.682023</td>\n",
       "      <td>Sleeping-dog</td>\n",
       "    </tr>\n",
       "    <tr>\n",
       "      <th>2</th>\n",
       "      <td>A15312</td>\n",
       "      <td>3653.884565</td>\n",
       "      <td>2</td>\n",
       "      <td>5</td>\n",
       "      <td>3.208202</td>\n",
       "      <td>Sleeping-dog</td>\n",
       "    </tr>\n",
       "    <tr>\n",
       "      <th>3</th>\n",
       "      <td>A16605</td>\n",
       "      <td>3713.211107</td>\n",
       "      <td>2</td>\n",
       "      <td>6</td>\n",
       "      <td>0.900000</td>\n",
       "      <td>Early-bird</td>\n",
       "    </tr>\n",
       "    <tr>\n",
       "      <th>4</th>\n",
       "      <td>B10634</td>\n",
       "      <td>3391.074215</td>\n",
       "      <td>2</td>\n",
       "      <td>4</td>\n",
       "      <td>2.453656</td>\n",
       "      <td>Sleeping-dog</td>\n",
       "    </tr>\n",
       "  </tbody>\n",
       "</table>\n",
       "</div>"
      ],
      "text/plain": [
       "   custid     avgprice  emi  devicecount  productage            cstype\n",
       "0  A13566  4273.900000    3            6    1.679181  Big-Screen-lover\n",
       "1  A14219  3642.441950    2            4    2.682023      Sleeping-dog\n",
       "2  A15312  3653.884565    2            5    3.208202      Sleeping-dog\n",
       "3  A16605  3713.211107    2            6    0.900000        Early-bird\n",
       "4  B10634  3391.074215    2            4    2.453656      Sleeping-dog"
      ]
     },
     "execution_count": 4,
     "metadata": {},
     "output_type": "execute_result"
    }
   ],
   "source": [
    "# Pandas 패키지 불러오기\n",
    "import pandas as pd\n",
    " \n",
    "# CSV 파일을 읽어 Data Frame 변수에 저장하기\n",
    "customerData = pd.read_csv(\"https://raw.githubusercontent.com/hyokwan/python-lecture/master/dataset/customerdata.csv\")\n",
    "\n",
    "# 컬럼명 변경\n",
    "customerData.columns = [\"custid\",\"avgprice\",\"emi\",\\\n",
    "                        \"devicecount\",\"productage\",\"cstype\"]\n",
    "\n",
    "customerData.head()\n"
   ]
  },
  {
   "cell_type": "markdown",
   "id": "a9ccbc0c-c1cd-46ef-8769-c7b8b9309c95",
   "metadata": {},
   "source": [
    "[실습] ../dataset 폴더 내 kopo_product_volume.csv 파일을\n",
    "selloutdata 변수에 담으세요\n"
   ]
  },
  {
   "cell_type": "code",
   "execution_count": 5,
   "id": "f2062ae5-0985-4aa8-a8a8-3a77f1dadb81",
   "metadata": {},
   "outputs": [
    {
     "data": {
      "text/html": [
       "<div>\n",
       "<style scoped>\n",
       "    .dataframe tbody tr th:only-of-type {\n",
       "        vertical-align: middle;\n",
       "    }\n",
       "\n",
       "    .dataframe tbody tr th {\n",
       "        vertical-align: top;\n",
       "    }\n",
       "\n",
       "    .dataframe thead th {\n",
       "        text-align: right;\n",
       "    }\n",
       "</style>\n",
       "<table border=\"1\" class=\"dataframe\">\n",
       "  <thead>\n",
       "    <tr style=\"text-align: right;\">\n",
       "      <th></th>\n",
       "      <th>REGIONID</th>\n",
       "      <th>PRODUCTGROUP</th>\n",
       "      <th>YEARWEEK</th>\n",
       "      <th>VOLUME</th>\n",
       "    </tr>\n",
       "  </thead>\n",
       "  <tbody>\n",
       "    <tr>\n",
       "      <th>0</th>\n",
       "      <td>A01</td>\n",
       "      <td>ST0001</td>\n",
       "      <td>201415</td>\n",
       "      <td>810144</td>\n",
       "    </tr>\n",
       "    <tr>\n",
       "      <th>1</th>\n",
       "      <td>A01</td>\n",
       "      <td>ST0002</td>\n",
       "      <td>201415</td>\n",
       "      <td>128999</td>\n",
       "    </tr>\n",
       "    <tr>\n",
       "      <th>2</th>\n",
       "      <td>A01</td>\n",
       "      <td>ST0001</td>\n",
       "      <td>201418</td>\n",
       "      <td>671464</td>\n",
       "    </tr>\n",
       "    <tr>\n",
       "      <th>3</th>\n",
       "      <td>A01</td>\n",
       "      <td>ST0002</td>\n",
       "      <td>201418</td>\n",
       "      <td>134467</td>\n",
       "    </tr>\n",
       "    <tr>\n",
       "      <th>4</th>\n",
       "      <td>A01</td>\n",
       "      <td>ST0001</td>\n",
       "      <td>201413</td>\n",
       "      <td>470040</td>\n",
       "    </tr>\n",
       "  </tbody>\n",
       "</table>\n",
       "</div>"
      ],
      "text/plain": [
       "  REGIONID PRODUCTGROUP  YEARWEEK  VOLUME\n",
       "0      A01       ST0001    201415  810144\n",
       "1      A01       ST0002    201415  128999\n",
       "2      A01       ST0001    201418  671464\n",
       "3      A01       ST0002    201418  134467\n",
       "4      A01       ST0001    201413  470040"
      ]
     },
     "execution_count": 5,
     "metadata": {},
     "output_type": "execute_result"
    }
   ],
   "source": [
    "# Pandas 패키지 불러오기\n",
    "import pandas as pd\n",
    " \n",
    "# CSV 파일을 읽어 Data Frame 변수에 저장하기\n",
    "customerData = pd.read_csv(\"../dataset/kopo_product_volume.csv\")\n",
    "\n",
    "customerData.head()\n"
   ]
  },
  {
   "cell_type": "markdown",
   "id": "9bc31317-67be-434f-b890-e3e6bac89050",
   "metadata": {},
   "source": [
    "# 2. 디렉토리 다루기"
   ]
  },
  {
   "cell_type": "markdown",
   "id": "0ea6e7ad-348e-4af5-927a-9ca550229382",
   "metadata": {},
   "source": [
    "### 1. os 라이브러리"
   ]
  },
  {
   "cell_type": "code",
   "execution_count": 6,
   "id": "90055a0e-2740-4fc5-8889-25ed87db1b9b",
   "metadata": {},
   "outputs": [],
   "source": [
    "import os"
   ]
  },
  {
   "cell_type": "code",
   "execution_count": 7,
   "id": "123587da-fcb8-49ad-a4d2-ab31b5ba247b",
   "metadata": {},
   "outputs": [
    {
     "data": {
      "text/plain": [
       "'../dataset\\\\csfolder'"
      ]
     },
     "execution_count": 7,
     "metadata": {},
     "output_type": "execute_result"
    }
   ],
   "source": [
    "root = \"../dataset\"\n",
    "subdir = \"csfolder\"\n",
    "\n",
    "fullpath = os.path.join(root, subdir)\n",
    "fullpath"
   ]
  },
  {
   "cell_type": "code",
   "execution_count": 8,
   "id": "72e3dd2a-26f9-426e-87fb-eea99cbbbeaf",
   "metadata": {},
   "outputs": [
    {
     "data": {
      "text/plain": [
       "['test', '북미.txt', '인도.txt', '중국.txt']"
      ]
     },
     "execution_count": 8,
     "metadata": {},
     "output_type": "execute_result"
    }
   ],
   "source": [
    "fileNameList = os.listdir(fullpath)\n",
    "fileNameList"
   ]
  },
  {
   "cell_type": "code",
   "execution_count": 9,
   "id": "bc161ed0-136b-4b4a-8263-abc4aa99c7fb",
   "metadata": {},
   "outputs": [],
   "source": [
    "fullNamePath = os.path.join(fullpath, fileNameList[0])"
   ]
  },
  {
   "cell_type": "code",
   "execution_count": 10,
   "id": "34f3e12b-4c85-4a1b-91db-6261ee64e53e",
   "metadata": {},
   "outputs": [
    {
     "data": {
      "text/plain": [
       "'../dataset\\\\csfolder\\\\test'"
      ]
     },
     "execution_count": 10,
     "metadata": {},
     "output_type": "execute_result"
    }
   ],
   "source": [
    "fullNamePath"
   ]
  },
  {
   "cell_type": "code",
   "execution_count": 11,
   "id": "45d0f65a-1a9b-4d1f-860d-8a89008b844c",
   "metadata": {},
   "outputs": [
    {
     "data": {
      "text/plain": [
       "True"
      ]
     },
     "execution_count": 11,
     "metadata": {},
     "output_type": "execute_result"
    }
   ],
   "source": [
    "os.path.isdir(fullNamePath)"
   ]
  },
  {
   "cell_type": "code",
   "execution_count": 12,
   "id": "eced0039-3085-4f52-8774-bac7260974ad",
   "metadata": {},
   "outputs": [
    {
     "name": "stdout",
     "output_type": "stream",
     "text": [
      "폴더명: ../dataset\\csfolder\\test\n",
      "파일명: ../dataset\\csfolder\\북미.txt\n",
      "파일명: ../dataset\\csfolder\\인도.txt\n",
      "파일명: ../dataset\\csfolder\\중국.txt\n"
     ]
    }
   ],
   "source": [
    "## 접근 디렉토리 정의\n",
    "root=\"../dataset\"\n",
    "subdir = \"csfolder\"\n",
    "\n",
    "# 파일존재 경로로 이동\n",
    "targetPath = os.path.join(root,subdir)\n",
    "# 파일 및 폴더목록 저장\n",
    "fileNameList = os.listdir(fullpath)\n",
    "\n",
    "# 파일 및 폴더길이 저장\n",
    "fileNameLen = len(fileNameList)\n",
    "\n",
    "for i in range(0, fileNameLen):\n",
    "    fullNamePath = os.path.join(targetPath, fileNameList[i] )\n",
    "    # 디렉토리가 아니면 데이터를 읽는다\n",
    "    if os.path.isdir(fullNamePath) == False:\n",
    "        print(\"파일명: {}\".format(fullNamePath) )\n",
    "    else:\n",
    "        print(\"폴더명: {}\".format(fullNamePath) )\n"
   ]
  },
  {
   "cell_type": "markdown",
   "id": "3a3b2f17-ce4a-4225-8c90-f5e3df3dcdae",
   "metadata": {
    "tags": []
   },
   "source": [
    "### 2. glob 라이브러리"
   ]
  },
  {
   "cell_type": "code",
   "execution_count": 13,
   "id": "6ed0af41-2a57-4c74-813f-75cc020caff4",
   "metadata": {},
   "outputs": [],
   "source": [
    "from glob import glob"
   ]
  },
  {
   "cell_type": "code",
   "execution_count": 14,
   "id": "d5680ad4-9476-4906-92e9-656f07110d43",
   "metadata": {},
   "outputs": [
    {
     "data": {
      "text/plain": [
       "['../dataset\\\\csfolder\\\\북미.txt',\n",
       " '../dataset\\\\csfolder\\\\인도.txt',\n",
       " '../dataset\\\\csfolder\\\\중국.txt']"
      ]
     },
     "execution_count": 14,
     "metadata": {},
     "output_type": "execute_result"
    }
   ],
   "source": [
    "root = \"../dataset\"\n",
    "subdir = \"csfolder\"\n",
    "searchPattern = \"*.txt\"\n",
    "#파일존재 경로로 이동\n",
    "targetPattern = os.path.join(root,subdir, searchPattern)\n",
    "#파일 및 폴더목록 저장\n",
    "glob(targetPattern)"
   ]
  },
  {
   "cell_type": "code",
   "execution_count": 15,
   "id": "66bea5e4-7bab-4e77-b078-5fdae6f44adf",
   "metadata": {},
   "outputs": [],
   "source": [
    "import pandas as pd\n",
    "from glob import glob\n",
    "\n",
    "## 접근 디렉토리 정의\n",
    "root=\"../dataset\"\n",
    "subdir = \"csfolder\"\n",
    "searchPattern = \"*.txt\"\n",
    "# 파일존재 경로로 이동\n",
    "targetPattern = os.path.join(root,subdir,searchPattern)\n",
    "# 파일경로 저장\n",
    "targetList = glob(targetPattern)\n",
    "\n",
    "targetLen = len(targetList)\n",
    "# 빈 데이터프레임 정의\n",
    "FullDf = pd.DataFrame()\n",
    "# 데이터를 하나씩 읽으며 병합\n",
    "for i in range(0, targetLen):\n",
    "    indata = pd.read_csv(targetList[i])\n",
    "    FullDf = FullDf.append(indata)\n"
   ]
  },
  {
   "cell_type": "markdown",
   "id": "f583a144-6e65-4664-bc92-5ea36344f3bb",
   "metadata": {},
   "source": [
    "### 3. pickle"
   ]
  },
  {
   "cell_type": "code",
   "execution_count": 16,
   "id": "217e68ea-762c-4bea-ab75-092f764347c8",
   "metadata": {},
   "outputs": [],
   "source": [
    "import pickle"
   ]
  },
  {
   "cell_type": "code",
   "execution_count": 17,
   "id": "b3d3fc7b-7f1f-4729-aa50-764a671df82d",
   "metadata": {},
   "outputs": [],
   "source": [
    "data450 = pd.read_csv(\"../dataset/kopo_450data.csv\")"
   ]
  },
  {
   "cell_type": "code",
   "execution_count": 18,
   "id": "e9ef0a4d-360b-48d8-a90d-4315db2e6f00",
   "metadata": {},
   "outputs": [
    {
     "data": {
      "text/plain": [
       "(4500000, 16)"
      ]
     },
     "execution_count": 18,
     "metadata": {},
     "output_type": "execute_result"
    }
   ],
   "source": [
    "data450.shape"
   ]
  },
  {
   "cell_type": "code",
   "execution_count": 19,
   "id": "4d2f040c-4048-4d92-8c0d-46b9c4a44dae",
   "metadata": {},
   "outputs": [],
   "source": [
    "### 피클 파일 저장하기 (바이너리) ###\n",
    "with open(\"data450.pickle\",\"wb\") as fw:\n",
    "    pickle.dump(data450,fw)"
   ]
  },
  {
   "cell_type": "code",
   "execution_count": 20,
   "id": "e830a08e-45cd-476f-8f56-56d2c84270d2",
   "metadata": {},
   "outputs": [],
   "source": [
    "### 피클 파일 불러오기 (바이너리) ###\n",
    "with open(\"data450.pickle\",\"rb\") as fr:\n",
    "    data = pickle.load(fr)"
   ]
  },
  {
   "cell_type": "code",
   "execution_count": 21,
   "id": "f11a8da2-4401-4c55-9cf4-e823afc31113",
   "metadata": {},
   "outputs": [
    {
     "data": {
      "text/html": [
       "<div>\n",
       "<style scoped>\n",
       "    .dataframe tbody tr th:only-of-type {\n",
       "        vertical-align: middle;\n",
       "    }\n",
       "\n",
       "    .dataframe tbody tr th {\n",
       "        vertical-align: top;\n",
       "    }\n",
       "\n",
       "    .dataframe thead th {\n",
       "        text-align: right;\n",
       "    }\n",
       "</style>\n",
       "<table border=\"1\" class=\"dataframe\">\n",
       "  <thead>\n",
       "    <tr style=\"text-align: right;\">\n",
       "      <th></th>\n",
       "      <th>CUSTOMERCODE</th>\n",
       "      <th>STATENAME</th>\n",
       "      <th>ST</th>\n",
       "      <th>GENDER</th>\n",
       "      <th>DOB</th>\n",
       "      <th>GENDER1</th>\n",
       "      <th>EMAIL</th>\n",
       "      <th>FEST_CNT</th>\n",
       "      <th>TOTAL_AMOUNT</th>\n",
       "      <th>AC_AMOUNT</th>\n",
       "      <th>AV_AMOUNT</th>\n",
       "      <th>HA_AMOUNT</th>\n",
       "      <th>EMI_CE_AMOUNT</th>\n",
       "      <th>IS_HIGHEND</th>\n",
       "      <th>CNT_VIST</th>\n",
       "      <th>GAP_VISIT</th>\n",
       "    </tr>\n",
       "  </thead>\n",
       "  <tbody>\n",
       "    <tr>\n",
       "      <th>0</th>\n",
       "      <td>1503989</td>\n",
       "      <td>State2</td>\n",
       "      <td>2</td>\n",
       "      <td>Male</td>\n",
       "      <td>0</td>\n",
       "      <td>1</td>\n",
       "      <td>1</td>\n",
       "      <td>0</td>\n",
       "      <td>30300</td>\n",
       "      <td>0</td>\n",
       "      <td>30300</td>\n",
       "      <td>0</td>\n",
       "      <td>0</td>\n",
       "      <td>0</td>\n",
       "      <td>1</td>\n",
       "      <td>0</td>\n",
       "    </tr>\n",
       "    <tr>\n",
       "      <th>1</th>\n",
       "      <td>1190338</td>\n",
       "      <td>State2</td>\n",
       "      <td>2</td>\n",
       "      <td>Male</td>\n",
       "      <td>0</td>\n",
       "      <td>1</td>\n",
       "      <td>0</td>\n",
       "      <td>1</td>\n",
       "      <td>46500</td>\n",
       "      <td>0</td>\n",
       "      <td>46500</td>\n",
       "      <td>0</td>\n",
       "      <td>0</td>\n",
       "      <td>0</td>\n",
       "      <td>1</td>\n",
       "      <td>0</td>\n",
       "    </tr>\n",
       "  </tbody>\n",
       "</table>\n",
       "</div>"
      ],
      "text/plain": [
       "   CUSTOMERCODE STATENAME  ST GENDER  DOB  GENDER1  EMAIL  FEST_CNT  \\\n",
       "0       1503989    State2   2   Male    0        1      1         0   \n",
       "1       1190338    State2   2   Male    0        1      0         1   \n",
       "\n",
       "   TOTAL_AMOUNT  AC_AMOUNT  AV_AMOUNT  HA_AMOUNT  EMI_CE_AMOUNT  IS_HIGHEND  \\\n",
       "0         30300          0      30300          0              0           0   \n",
       "1         46500          0      46500          0              0           0   \n",
       "\n",
       "   CNT_VIST  GAP_VISIT  \n",
       "0         1          0  \n",
       "1         1          0  "
      ]
     },
     "execution_count": 21,
     "metadata": {},
     "output_type": "execute_result"
    }
   ],
   "source": [
    "data.head(2)"
   ]
  },
  {
   "cell_type": "code",
   "execution_count": 22,
   "id": "22445be7-6a61-40e2-989c-abb8e8496e65",
   "metadata": {},
   "outputs": [
    {
     "data": {
      "text/html": [
       "<div>\n",
       "<style scoped>\n",
       "    .dataframe tbody tr th:only-of-type {\n",
       "        vertical-align: middle;\n",
       "    }\n",
       "\n",
       "    .dataframe tbody tr th {\n",
       "        vertical-align: top;\n",
       "    }\n",
       "\n",
       "    .dataframe thead th {\n",
       "        text-align: right;\n",
       "    }\n",
       "</style>\n",
       "<table border=\"1\" class=\"dataframe\">\n",
       "  <thead>\n",
       "    <tr style=\"text-align: right;\">\n",
       "      <th></th>\n",
       "      <th>CUSTOMERCODE</th>\n",
       "      <th>STATENAME</th>\n",
       "      <th>ST</th>\n",
       "      <th>GENDER</th>\n",
       "      <th>DOB</th>\n",
       "      <th>GENDER1</th>\n",
       "      <th>EMAIL</th>\n",
       "      <th>FEST_CNT</th>\n",
       "      <th>TOTAL_AMOUNT</th>\n",
       "      <th>AC_AMOUNT</th>\n",
       "      <th>AV_AMOUNT</th>\n",
       "      <th>HA_AMOUNT</th>\n",
       "      <th>EMI_CE_AMOUNT</th>\n",
       "      <th>IS_HIGHEND</th>\n",
       "      <th>CNT_VIST</th>\n",
       "      <th>GAP_VISIT</th>\n",
       "    </tr>\n",
       "  </thead>\n",
       "  <tbody>\n",
       "    <tr>\n",
       "      <th>0</th>\n",
       "      <td>1503989</td>\n",
       "      <td>State2</td>\n",
       "      <td>2</td>\n",
       "      <td>Male</td>\n",
       "      <td>0</td>\n",
       "      <td>1</td>\n",
       "      <td>1</td>\n",
       "      <td>0</td>\n",
       "      <td>30300</td>\n",
       "      <td>0</td>\n",
       "      <td>30300</td>\n",
       "      <td>0</td>\n",
       "      <td>0</td>\n",
       "      <td>0</td>\n",
       "      <td>1</td>\n",
       "      <td>0</td>\n",
       "    </tr>\n",
       "    <tr>\n",
       "      <th>1</th>\n",
       "      <td>1190338</td>\n",
       "      <td>State2</td>\n",
       "      <td>2</td>\n",
       "      <td>Male</td>\n",
       "      <td>0</td>\n",
       "      <td>1</td>\n",
       "      <td>0</td>\n",
       "      <td>1</td>\n",
       "      <td>46500</td>\n",
       "      <td>0</td>\n",
       "      <td>46500</td>\n",
       "      <td>0</td>\n",
       "      <td>0</td>\n",
       "      <td>0</td>\n",
       "      <td>1</td>\n",
       "      <td>0</td>\n",
       "    </tr>\n",
       "  </tbody>\n",
       "</table>\n",
       "</div>"
      ],
      "text/plain": [
       "   CUSTOMERCODE STATENAME  ST GENDER  DOB  GENDER1  EMAIL  FEST_CNT  \\\n",
       "0       1503989    State2   2   Male    0        1      1         0   \n",
       "1       1190338    State2   2   Male    0        1      0         1   \n",
       "\n",
       "   TOTAL_AMOUNT  AC_AMOUNT  AV_AMOUNT  HA_AMOUNT  EMI_CE_AMOUNT  IS_HIGHEND  \\\n",
       "0         30300          0      30300          0              0           0   \n",
       "1         46500          0      46500          0              0           0   \n",
       "\n",
       "   CNT_VIST  GAP_VISIT  \n",
       "0         1          0  \n",
       "1         1          0  "
      ]
     },
     "execution_count": 22,
     "metadata": {},
     "output_type": "execute_result"
    }
   ],
   "source": [
    "import pandas as pd\n",
    "\n",
    "data450 = pd.read_csv(\"../dataset/kopo_450data.csv\")\n",
    "\n",
    "data450.shape\n",
    "\n",
    "### 피클 파일 저장하기 (바이너리) ###\n",
    "with open(\"data450.pickle\",\"wb\") as fw:\n",
    "    pickle.dump(data450,fw)\n",
    "\n",
    "### 피클 파일 불러오기 (바이너리) ###\n",
    "with open(\"data450.pickle\",\"rb\") as fr:\n",
    "    data = pickle.load(fr)\n",
    "\n",
    "data.head(2)\n"
   ]
  },
  {
   "cell_type": "markdown",
   "id": "cc03baf6-9c41-4252-87d0-771759f99574",
   "metadata": {},
   "source": [
    "### 4. shutil"
   ]
  },
  {
   "cell_type": "code",
   "execution_count": 23,
   "id": "cd90f43b-b40e-486f-a885-cf9b346b364b",
   "metadata": {},
   "outputs": [],
   "source": [
    "import shutil"
   ]
  },
  {
   "cell_type": "code",
   "execution_count": 24,
   "id": "85bb7470-ba4f-421d-8000-d206cd30869e",
   "metadata": {},
   "outputs": [
    {
     "data": {
      "text/plain": [
       "'data450_2.pickle'"
      ]
     },
     "execution_count": 24,
     "metadata": {},
     "output_type": "execute_result"
    }
   ],
   "source": [
    "shutil.copy(\"data450.pickle\", \"data450_2.pickle\")"
   ]
  },
  {
   "cell_type": "code",
   "execution_count": 25,
   "id": "a945afd5-b3d1-45fc-9249-48570cd0bc6d",
   "metadata": {},
   "outputs": [
    {
     "data": {
      "text/plain": [
       "'data450_2.pickle'"
      ]
     },
     "execution_count": 25,
     "metadata": {},
     "output_type": "execute_result"
    }
   ],
   "source": [
    "import shutil\n",
    "\n",
    "# shutil.copy 메타정보 외 저장 예전날짜 적용\n",
    "# shutil.copy2 메타정보 함께 저장 최근날짜 적용\n",
    "\n",
    "shutil.copy(\"data450.pickle\",\"data450_2.pickle\")\n",
    "\n",
    "# 디렉토리 삭제\n",
    "# shutil.rmtree(\"./testdir/\")\n"
   ]
  }
 ],
 "metadata": {
  "kernelspec": {
   "display_name": "Python 3 (ipykernel)",
   "language": "python",
   "name": "python3"
  },
  "language_info": {
   "codemirror_mode": {
    "name": "ipython",
    "version": 3
   },
   "file_extension": ".py",
   "mimetype": "text/x-python",
   "name": "python",
   "nbconvert_exporter": "python",
   "pygments_lexer": "ipython3",
   "version": "3.9.7"
  }
 },
 "nbformat": 4,
 "nbformat_minor": 5
}
