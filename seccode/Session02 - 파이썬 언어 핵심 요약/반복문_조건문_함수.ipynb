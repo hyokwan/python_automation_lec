{
 "cells": [
  {
   "cell_type": "code",
   "execution_count": 22,
   "id": "c3c40467-ae00-45de-bc98-f1e0492b6ff2",
   "metadata": {},
   "outputs": [],
   "source": [
    "import pandas as pd"
   ]
  },
  {
   "cell_type": "code",
   "execution_count": 24,
   "id": "5e95e5b2-0ea1-42e4-9840-b36ed21d64f2",
   "metadata": {},
   "outputs": [],
   "source": [
    "indata = pd.read_csv(\"../dataset/kopo_product_volume.csv\")"
   ]
  },
  {
   "cell_type": "code",
   "execution_count": 28,
   "id": "477f5bb6-c877-48a0-a4aa-529700934c75",
   "metadata": {},
   "outputs": [
    {
     "data": {
      "text/plain": [
       "['ST0001', 'ST0002']"
      ]
     },
     "execution_count": 28,
     "metadata": {},
     "output_type": "execute_result"
    }
   ],
   "source": [
    "list( indata.PRODUCTGROUP.drop_duplicates() )"
   ]
  },
  {
   "cell_type": "code",
   "execution_count": 29,
   "id": "bd6d9a3b-703c-4ccc-9ad2-c846dd59bb3f",
   "metadata": {},
   "outputs": [],
   "source": [
    "tvList = list( indata.PRODUCTGROUP.drop_duplicates() )\n",
    "\n",
    "### 미션은 모든 제품코드 앞에 접두어 LEDTV_\n",
    "preFix = \"LEDTV_\"\n",
    "tvListLen = len(tvList)\n",
    "for i in range(0, tvListLen):\n",
    "    tvList[i] = preFix + tvList[i] "
   ]
  },
  {
   "cell_type": "code",
   "execution_count": 150,
   "id": "b6dda58e-73ea-4f41-98f7-b6a94b72545d",
   "metadata": {},
   "outputs": [],
   "source": [
    "# print 다양화\n",
    "i=0\n",
    "result = 100"
   ]
  },
  {
   "cell_type": "code",
   "execution_count": 151,
   "id": "5b7791f6-4bd1-4ff2-ac01-4e620f0b9fcc",
   "metadata": {},
   "outputs": [
    {
     "data": {
      "text/plain": [
       "' 0 단계에서 결과값이 100 입니다'"
      ]
     },
     "execution_count": 151,
     "metadata": {},
     "output_type": "execute_result"
    }
   ],
   "source": [
    "\" {} 단계에서 결과값이 {} 입니다\".format(i, result)"
   ]
  },
  {
   "cell_type": "code",
   "execution_count": 152,
   "id": "9fb19dc2-15fb-4a58-961c-d38ce1782844",
   "metadata": {},
   "outputs": [
    {
     "name": "stdout",
     "output_type": "stream",
     "text": [
      "모델명 길이정제: U 오류\n"
     ]
    }
   ],
   "source": [
    "model = \"U\"\n",
    "prefix = \"LEDTV_\"\n",
    "# 모델코드에서 prefix가 없으면\n",
    "listLen = 0\n",
    "if len(model) > 5:\n",
    "    model = model+prefix\n",
    "    print(\"모델명 길이정제: 1단계 진입\")\n",
    "elif len(model) > 2:\n",
    "    model = model+prefix\n",
    "    print(\"모델명 길이정제: 1단계 진입\")\n",
    "else:  \n",
    "    pass\n",
    "    print(\"모델명 길이정제: {} 오류\".format(model) )"
   ]
  },
  {
   "cell_type": "markdown",
   "id": "5dee5f64-2d57-4bb2-8f4c-973b5c6e25c9",
   "metadata": {},
   "source": [
    "tvList2 = [ 'UN40EN001', 'LEDTV_UN40EN002', 'LEDTV_UN40EN003’, ‘UN40EN004']\n",
    "리스트에서 LEDTV_가 한 개만 앞에 붙도록 하세요]"
   ]
  },
  {
   "cell_type": "markdown",
   "id": "fb89c86f-0e38-4cb8-9767-bc53a1c97f55",
   "metadata": {},
   "source": [
    "tvList2 = [ 'UN40EN001', 'LEDTV_UN40EN002', 'LEDTV_UN40EN003’, ‘UN40EN004']\n",
    "리스트에서 LEDTV_가 한 개만 앞에 붙도록 하세]"
   ]
  },
  {
   "cell_type": "code",
   "execution_count": 165,
   "id": "71b24e96-a723-402b-8085-923b5620f8c6",
   "metadata": {},
   "outputs": [],
   "source": [
    "tvList2 = [ 'UN40EN001', 'LEDTV_UN40EN002', 'LEDTV_UN40EN003', 'UN40EN004']"
   ]
  },
  {
   "cell_type": "code",
   "execution_count": 166,
   "id": "8c62aa01-ddbb-4fd6-aec9-7ee90863ef3e",
   "metadata": {},
   "outputs": [],
   "source": [
    "preFix = \"LEDTV_\""
   ]
  },
  {
   "cell_type": "code",
   "execution_count": 167,
   "id": "36c55466-e477-43fe-a30d-2f07b2ea067f",
   "metadata": {},
   "outputs": [],
   "source": [
    "tvList2Len = len(tvList2)"
   ]
  },
  {
   "cell_type": "code",
   "execution_count": 168,
   "id": "f07a3264-a062-44de-b2d0-7f7c0d56beca",
   "metadata": {},
   "outputs": [],
   "source": [
    "for i in range(0, tvList2Len):\n",
    "    eachItem = tvList2[i]\n",
    "    # 만약 prefix가 붙어 있지 않은 경우에는 prefix를 붙인다.\n",
    "    if eachItem.count(preFix) == 0:\n",
    "        eachItem = preFix + eachItem\n",
    "        tvList2[i] = eachItem\n",
    "    # 만약 prefix가 붙어 있는경우에는 기존 prefix를 지우고 다시 붙인다\n",
    "    elif eachItem.count(preFix) >= 1:\n",
    "        eachItem = eachItem.replace(preFix,\"\")\n",
    "        eachItem = preFix + eachItem\n",
    "        tvList2[i] = eachItem\n",
    "    else:\n",
    "        pass\n",
    "        print(\"{} 해당 모델은 모델 조건식에 포함되지 않음\".format(eachItem) )"
   ]
  },
  {
   "cell_type": "markdown",
   "id": "b0b857a7-2fe4-4a91-aa17-657e2de4eb06",
   "metadata": {
    "tags": []
   },
   "source": [
    "# 디버깅"
   ]
  },
  {
   "cell_type": "code",
   "execution_count": 164,
   "id": "7cf61974-263d-4f33-a268-a6490e3821ae",
   "metadata": {},
   "outputs": [],
   "source": [
    "i=0"
   ]
  },
  {
   "cell_type": "code",
   "execution_count": 100,
   "id": "c4976e61-8832-4ccb-a98e-bfc399c271a2",
   "metadata": {},
   "outputs": [],
   "source": [
    "eachItem = tvList2[i]\n",
    "# 만약 prefix가 붙어 있지 않은 경우에는 prefix를 붙인다.\n",
    "if eachItem.count(preFix) == 0:\n",
    "    eachItem = preFix + eachItem\n",
    "    tvList2[i] = eachItem\n",
    "# 만약 prefix가 붙어 있는경우에는 기존 prefix를 지우고 다시 붙인다\n",
    "elif eachItem.count(preFix) >= 1:\n",
    "    eachItem = eachItem.replace(preFix,\"\")\n",
    "    eachItem = preFix + eachItem\n",
    "    tvList2[i] = eachItem\n",
    "else:\n",
    "    pass\n",
    "    print(\"{} 해당 모델은 모델 조건식에 포함되지 않음\".format(eachItem) )\n",
    "eachItem = preFix + eachItem\n",
    "tvList2[i] = eachItem"
   ]
  },
  {
   "cell_type": "code",
   "execution_count": 101,
   "id": "e3e3c2ba-0439-46b8-a40c-174ccb6d3f90",
   "metadata": {},
   "outputs": [
    {
     "data": {
      "text/plain": [
       "['LEDTV_UN40EN001', 'LEDTV_UN40EN002', 'LEDTV_UN40EN003', 'LEDTV_UN40EN004']"
      ]
     },
     "execution_count": 101,
     "metadata": {},
     "output_type": "execute_result"
    }
   ],
   "source": [
    "tvList2"
   ]
  },
  {
   "cell_type": "code",
   "execution_count": null,
   "id": "6126fd17-3cb0-40f5-8207-df874ffe2058",
   "metadata": {},
   "outputs": [],
   "source": []
  },
  {
   "cell_type": "code",
   "execution_count": 116,
   "id": "bc4b947f-4ba9-4b57-ab39-0cba13863ede",
   "metadata": {},
   "outputs": [],
   "source": [
    "a = 10\n",
    "b = 5.3\n",
    "displayDigit = a/b"
   ]
  },
  {
   "cell_type": "code",
   "execution_count": 118,
   "id": "6504b873-9a5c-4ec0-8d89-0585bb683306",
   "metadata": {},
   "outputs": [],
   "source": [
    "# STEP1: 소수점 표현자리수 만큼 10^2를 해준다\n",
    "# STEP2: int로 캐스팅 후 소수점 나머지 자리수를 제거한다\n",
    "# STEP3: 10^2 나누어준다"
   ]
  },
  {
   "cell_type": "code",
   "execution_count": null,
   "id": "939d98c9-50f4-4fb6-a207-15b37a6550f3",
   "metadata": {},
   "outputs": [],
   "source": [
    "# STEP1: 소수점 표현자리수 만큼 10^2를 해준다"
   ]
  },
  {
   "cell_type": "code",
   "execution_count": 137,
   "id": "ac600f60-2c83-4383-b22c-510ec579443e",
   "metadata": {},
   "outputs": [],
   "source": [
    "### 함수설명: 실수값을 받아서 소수점 둘쨰자리 내림처리\n",
    "### 함수파라미터 :\n",
    "### - displayDigit: 둘쨰자리 반올림 대상 실수값\n",
    "def floorFunc(displayDigit):\n",
    "\n",
    "    # displayDigit = 1.8288282822\n",
    "    step1 = displayDigit*(10**2)\n",
    "    step2 = int(step1)\n",
    "    step3 = step2/(10**2)\n",
    "\n",
    "    return step3"
   ]
  },
  {
   "cell_type": "code",
   "execution_count": 145,
   "id": "ed36ee69-b204-4184-8670-a30147fd1e30",
   "metadata": {},
   "outputs": [],
   "source": [
    "### 함수설명: 실수값을 받아서 소수점 둘쨰자리 내림처리\n",
    "### 함수파라미터 :\n",
    "### - displayDigit: 둘쨰자리 반올림 대상 실수값\n",
    "### - option : 반올림 자리수\n",
    "def floorFunc(displayDigit, option):\n",
    "\n",
    "    # displayDigit = 1.8288282822\n",
    "    # option = 3\n",
    "    step1 = displayDigit*(10**option)\n",
    "    step2 = int(step1)\n",
    "    step3 = step2/(10**option)\n",
    "    return step3"
   ]
  },
  {
   "cell_type": "code",
   "execution_count": 147,
   "id": "2a93b465-2fdc-4ec9-80d9-c0d1aff1aaa1",
   "metadata": {},
   "outputs": [],
   "source": [
    "from fintechlab import CommonFunction as cf"
   ]
  },
  {
   "cell_type": "code",
   "execution_count": 149,
   "id": "829775ae-3e35-44c9-9a05-25dc9cf6baf9",
   "metadata": {},
   "outputs": [
    {
     "data": {
      "text/plain": [
       "'202315'"
      ]
     },
     "execution_count": 149,
     "metadata": {},
     "output_type": "execute_result"
    }
   ],
   "source": [
    "cf.postWeek(202215, 52)"
   ]
  },
  {
   "cell_type": "code",
   "execution_count": null,
   "id": "afe16a2e-c47d-496f-84c9-e6d8b2b4d184",
   "metadata": {},
   "outputs": [],
   "source": []
  },
  {
   "cell_type": "code",
   "execution_count": 146,
   "id": "7888659c-27f8-4c6a-9bf1-c6f7d2312293",
   "metadata": {},
   "outputs": [
    {
     "data": {
      "text/plain": [
       "123.3248"
      ]
     },
     "execution_count": 146,
     "metadata": {},
     "output_type": "execute_result"
    }
   ],
   "source": [
    "floorFunc(123.3248932, 4)"
   ]
  },
  {
   "cell_type": "code",
   "execution_count": null,
   "id": "014e9279-d96a-4dd3-bf2d-8b285d5e8f94",
   "metadata": {},
   "outputs": [],
   "source": []
  },
  {
   "cell_type": "code",
   "execution_count": null,
   "id": "cbf3d09b-e7ab-4886-a46f-33a3d9ac1edc",
   "metadata": {},
   "outputs": [],
   "source": []
  },
  {
   "cell_type": "code",
   "execution_count": null,
   "id": "d11b7c75-aa30-44bb-bf19-f12da20b41e2",
   "metadata": {},
   "outputs": [],
   "source": []
  },
  {
   "cell_type": "code",
   "execution_count": 141,
   "id": "12581e4d-67a5-4016-b701-d23efdaf7c84",
   "metadata": {},
   "outputs": [],
   "source": [
    "code100 = 1.33333333"
   ]
  },
  {
   "cell_type": "code",
   "execution_count": 142,
   "id": "944de2d2-6c07-43e5-9265-ef935bde4f27",
   "metadata": {},
   "outputs": [
    {
     "data": {
      "text/plain": [
       "1.33"
      ]
     },
     "execution_count": 142,
     "metadata": {},
     "output_type": "execute_result"
    }
   ],
   "source": [
    "reusult1 = floorFunc(code100)\n",
    "reusult1"
   ]
  },
  {
   "cell_type": "code",
   "execution_count": 143,
   "id": "4f6c0404-388d-472c-b9ec-d1f55caf3dd5",
   "metadata": {},
   "outputs": [
    {
     "data": {
      "text/plain": [
       "2.32"
      ]
     },
     "execution_count": 143,
     "metadata": {},
     "output_type": "execute_result"
    }
   ],
   "source": [
    "code1000 = 2.3248792347029\n",
    "reusult2 = floorFunc(code1000)\n",
    "reusult2"
   ]
  },
  {
   "cell_type": "code",
   "execution_count": null,
   "id": "ce368c32-d6d3-45dc-85ea-180c7eba8e57",
   "metadata": {},
   "outputs": [],
   "source": []
  },
  {
   "cell_type": "code",
   "execution_count": null,
   "id": "e1438ef9-32e2-4280-b554-429949930ef7",
   "metadata": {},
   "outputs": [],
   "source": []
  },
  {
   "cell_type": "code",
   "execution_count": 83,
   "id": "80546a2d-cc63-4add-9314-e069b79be2f3",
   "metadata": {},
   "outputs": [
    {
     "data": {
      "text/plain": [
       "['UN40EN001', 'LEDTV_UN40EN002', 'LEDTV_UN40EN003', 'UN40EN004']"
      ]
     },
     "execution_count": 83,
     "metadata": {},
     "output_type": "execute_result"
    }
   ],
   "source": [
    "tvList2"
   ]
  },
  {
   "cell_type": "code",
   "execution_count": null,
   "id": "d9274ba6-2018-4afe-8aaf-c5c5d8320cae",
   "metadata": {},
   "outputs": [],
   "source": []
  },
  {
   "cell_type": "code",
   "execution_count": null,
   "id": "140f99c8-01bd-4223-bdc7-c93002df2ce7",
   "metadata": {},
   "outputs": [],
   "source": []
  },
  {
   "cell_type": "code",
   "execution_count": null,
   "id": "883d8085-acb1-4d6a-b9f5-672f0fb69a2b",
   "metadata": {},
   "outputs": [],
   "source": []
  },
  {
   "cell_type": "code",
   "execution_count": 71,
   "id": "1f2d4fc1-ecb1-4cc0-8de6-ea544c422f77",
   "metadata": {},
   "outputs": [
    {
     "data": {
      "text/plain": [
       "'UN40EN002'"
      ]
     },
     "execution_count": 71,
     "metadata": {},
     "output_type": "execute_result"
    }
   ],
   "source": [
    "eachItem = eachItem.replace(preFix,\"\")"
   ]
  },
  {
   "cell_type": "code",
   "execution_count": null,
   "id": "273f7256-0b2d-4d05-b194-32b8607c2db8",
   "metadata": {},
   "outputs": [],
   "source": []
  },
  {
   "cell_type": "code",
   "execution_count": null,
   "id": "9bde9959-fe6c-4660-b5be-7c8fc9db43e1",
   "metadata": {},
   "outputs": [],
   "source": []
  },
  {
   "cell_type": "code",
   "execution_count": 66,
   "id": "099f53f4-2531-4891-942d-f3a3e05306c5",
   "metadata": {},
   "outputs": [
    {
     "data": {
      "text/plain": [
       "'LEDTV_UN40EN001'"
      ]
     },
     "execution_count": 66,
     "metadata": {},
     "output_type": "execute_result"
    }
   ],
   "source": [
    "eachItem"
   ]
  },
  {
   "cell_type": "code",
   "execution_count": 62,
   "id": "81c272f3-2609-4a72-a79a-abac02c30bc4",
   "metadata": {},
   "outputs": [
    {
     "data": {
      "text/plain": [
       "True"
      ]
     },
     "execution_count": 62,
     "metadata": {},
     "output_type": "execute_result"
    }
   ],
   "source": [
    "tvList2[0].count(preFix) == 0 "
   ]
  },
  {
   "cell_type": "code",
   "execution_count": 60,
   "id": "d8885407-405a-4ba6-b9b3-0595ac08656b",
   "metadata": {},
   "outputs": [
    {
     "data": {
      "text/plain": [
       "'UN40EN001'"
      ]
     },
     "execution_count": 60,
     "metadata": {},
     "output_type": "execute_result"
    }
   ],
   "source": [
    "tvList2[0]"
   ]
  },
  {
   "cell_type": "code",
   "execution_count": null,
   "id": "ac72f0bb-d06f-4e01-a9d5-807da0c2909a",
   "metadata": {},
   "outputs": [],
   "source": []
  },
  {
   "cell_type": "code",
   "execution_count": null,
   "id": "292b40a8-a618-4a0a-a63f-7a42ee76d6dd",
   "metadata": {},
   "outputs": [],
   "source": []
  },
  {
   "cell_type": "code",
   "execution_count": null,
   "id": "1b83096e-fbe2-4ac9-b14c-58cf43b7a449",
   "metadata": {},
   "outputs": [],
   "source": []
  },
  {
   "cell_type": "code",
   "execution_count": null,
   "id": "c03f2436-c1cd-41c6-bd2e-7689973b903d",
   "metadata": {},
   "outputs": [],
   "source": [
    "tvList2 = [ 'UN40EN001', \n",
    "           'LEDTV_UN40EN002', \n",
    "           'LEDTV_LEDTV_UN40EN003', \n",
    "           'UN40EN004']"
   ]
  },
  {
   "cell_type": "code",
   "execution_count": null,
   "id": "e999c071-0f3e-4fa3-85a8-d1aa8f0f6333",
   "metadata": {},
   "outputs": [],
   "source": []
  },
  {
   "cell_type": "code",
   "execution_count": 40,
   "id": "a87cb086-8396-471a-b3d2-b852b7575838",
   "metadata": {},
   "outputs": [],
   "source": [
    "tvList2 = [ 'UN40EN001', \n",
    "           'LEDTV_UN40EN002', \n",
    "           'LEDTV_LEDTV_UN40EN003', \n",
    "           'UN40EN004']"
   ]
  },
  {
   "cell_type": "code",
   "execution_count": null,
   "id": "514f0c84-ea69-497c-ae1e-3076e346d40c",
   "metadata": {},
   "outputs": [],
   "source": []
  },
  {
   "cell_type": "code",
   "execution_count": null,
   "id": "1be88bc6-db3c-4435-94d5-c80d5972bddc",
   "metadata": {},
   "outputs": [],
   "source": []
  },
  {
   "cell_type": "code",
   "execution_count": 15,
   "id": "23f8bb9a-e9b7-4d35-837f-aa100a082d2f",
   "metadata": {},
   "outputs": [],
   "source": [
    "tvList[0] = preFix + tvList[0] \n",
    "tvList[1] = preFix + tvList[1] \n",
    "tvList[2] = preFix + tvList[2] \n",
    "tvList[3] = preFix + tvList[3] "
   ]
  },
  {
   "cell_type": "code",
   "execution_count": null,
   "id": "0469a490-beb7-4620-bb43-d63dcb78393f",
   "metadata": {},
   "outputs": [],
   "source": []
  },
  {
   "cell_type": "code",
   "execution_count": null,
   "id": "aeb4ea29-840b-4ef9-b783-0a92259339ba",
   "metadata": {},
   "outputs": [],
   "source": []
  },
  {
   "cell_type": "code",
   "execution_count": null,
   "id": "0706ab1b-2109-41dc-8129-40861b8ac23b",
   "metadata": {},
   "outputs": [],
   "source": []
  },
  {
   "cell_type": "code",
   "execution_count": null,
   "id": "65c70b29-34ff-4123-8c30-92f8de9aab7b",
   "metadata": {},
   "outputs": [],
   "source": []
  },
  {
   "cell_type": "code",
   "execution_count": 10,
   "id": "19c1cbc9-3b6a-42e9-8846-b8243d3fcdfe",
   "metadata": {},
   "outputs": [
    {
     "data": {
      "text/plain": [
       "False"
      ]
     },
     "execution_count": 10,
     "metadata": {},
     "output_type": "execute_result"
    }
   ],
   "source": [
    "a<b"
   ]
  },
  {
   "cell_type": "code",
   "execution_count": null,
   "id": "9e763353-1329-427f-ad81-fb810fc6ce76",
   "metadata": {},
   "outputs": [],
   "source": []
  }
 ],
 "metadata": {
  "kernelspec": {
   "display_name": "Python 3 (ipykernel)",
   "language": "python",
   "name": "python3"
  },
  "language_info": {
   "codemirror_mode": {
    "name": "ipython",
    "version": 3
   },
   "file_extension": ".py",
   "mimetype": "text/x-python",
   "name": "python",
   "nbconvert_exporter": "python",
   "pygments_lexer": "ipython3",
   "version": "3.9.7"
  }
 },
 "nbformat": 4,
 "nbformat_minor": 5
}
