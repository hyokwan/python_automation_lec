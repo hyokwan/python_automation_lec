{
 "cells": [
  {
   "cell_type": "markdown",
   "id": "bee7aacb-09c9-4a6c-813f-9e1f60c9f541",
   "metadata": {
    "tags": []
   },
   "source": [
    "### 1. 리스트"
   ]
  },
  {
   "cell_type": "code",
   "execution_count": 6,
   "id": "fabb90b7-26a9-4575-8abe-eb317a0badcb",
   "metadata": {},
   "outputs": [],
   "source": [
    "inData = \"SEC_201511_DV510_100\""
   ]
  },
  {
   "cell_type": "code",
   "execution_count": 14,
   "id": "36184229-27e6-470f-908f-59322783d3de",
   "metadata": {},
   "outputs": [
    {
     "data": {
      "text/plain": [
       "'SEC'"
      ]
     },
     "execution_count": 14,
     "metadata": {},
     "output_type": "execute_result"
    }
   ],
   "source": [
    "inData[0:3]"
   ]
  },
  {
   "cell_type": "code",
   "execution_count": 7,
   "id": "6a4d8510-52c5-45a9-a9d5-43993f311084",
   "metadata": {},
   "outputs": [],
   "source": [
    "delimiter = \"_\""
   ]
  },
  {
   "cell_type": "code",
   "execution_count": 9,
   "id": "234bdc9d-123b-42dd-8609-9eb9555318e2",
   "metadata": {},
   "outputs": [],
   "source": [
    "inList = inData.split(delimiter)"
   ]
  },
  {
   "cell_type": "code",
   "execution_count": 35,
   "id": "caf4c7ba-df5d-41f2-8974-bcceb6906c27",
   "metadata": {},
   "outputs": [],
   "source": [
    "import pandas as pd"
   ]
  },
  {
   "cell_type": "code",
   "execution_count": 37,
   "id": "3ee378a8-d1e2-41a1-be5b-6f9b97b30648",
   "metadata": {},
   "outputs": [],
   "source": [
    "data1 = pd.read_csv(\"../dataset/pro_actual_sales.csv\")"
   ]
  },
  {
   "cell_type": "code",
   "execution_count": 43,
   "id": "1efd3892-747f-48ca-bffa-8fd3d5d31ef1",
   "metadata": {},
   "outputs": [],
   "source": [
    "productList= list(data1.productSeg3)"
   ]
  },
  {
   "cell_type": "code",
   "execution_count": 45,
   "id": "f7960a92-76db-4a48-8129-a076e90d6068",
   "metadata": {},
   "outputs": [],
   "source": [
    "productList = [\"UN50EN001\",\"UN50EN002\",\"UN50EN003\",\"UN50EN004\"]"
   ]
  },
  {
   "cell_type": "code",
   "execution_count": 46,
   "id": "cf17ef15-70ff-4e58-bcc1-9d61706ae761",
   "metadata": {},
   "outputs": [],
   "source": [
    "newProduct = \"UN55EN001\""
   ]
  },
  {
   "cell_type": "code",
   "execution_count": 47,
   "id": "3936628b-08dc-427b-92f1-8b1b1d4cedef",
   "metadata": {},
   "outputs": [],
   "source": [
    "productList.append(newProduct)"
   ]
  },
  {
   "cell_type": "code",
   "execution_count": 49,
   "id": "c9a5064e-a6a1-43a0-a196-2d1fcf7c1668",
   "metadata": {},
   "outputs": [],
   "source": [
    "productList[0] = \"LEDTV_\" + productList[0] "
   ]
  },
  {
   "cell_type": "code",
   "execution_count": null,
   "id": "646ab5e4-159a-4679-8f9e-ca004cfe6be2",
   "metadata": {},
   "outputs": [],
   "source": []
  },
  {
   "cell_type": "code",
   "execution_count": null,
   "id": "7436eaba-f12d-4e58-b97b-ae66aaebf068",
   "metadata": {},
   "outputs": [],
   "source": []
  },
  {
   "cell_type": "code",
   "execution_count": 134,
   "id": "a19e7be8-fc4f-4b82-b68a-c92322ef2005",
   "metadata": {},
   "outputs": [],
   "source": [
    "productList = ['LEDTV_UN50EN001', 'UN50EN002', 'UN50EN003', 'UN50EN004', 'UN55EN001']\n",
    "productList[0] = \"abc\"\n",
    "productList\n",
    "productList[0:4]\n",
    "type( inList )"
   ]
  },
  {
   "cell_type": "code",
   "execution_count": 51,
   "id": "b4d5c09c-2183-4528-a48b-d54cba3909fb",
   "metadata": {},
   "outputs": [],
   "source": [
    "## 집합연산"
   ]
  },
  {
   "cell_type": "code",
   "execution_count": 74,
   "id": "7b7a07bd-18c5-44de-af52-3af46e798b48",
   "metadata": {},
   "outputs": [],
   "source": [
    "selloutList = [\"100\", \"200\", \"300\", \"400\", \"500\", \"600\"]"
   ]
  },
  {
   "cell_type": "code",
   "execution_count": 63,
   "id": "653cce64-2c3a-4b8c-8ac9-fc7efe912f09",
   "metadata": {},
   "outputs": [],
   "source": [
    "### 최소값과 최대값을 뺀 평균을구한다!"
   ]
  },
  {
   "cell_type": "code",
   "execution_count": 67,
   "id": "b3e4d213-f61b-4670-86bf-673d1dc41de5",
   "metadata": {},
   "outputs": [],
   "source": [
    "minValue = min(selloutList)\n",
    "maxValue = max(selloutList)"
   ]
  },
  {
   "cell_type": "code",
   "execution_count": 68,
   "id": "a519366f-f603-4282-9521-b26db40fb80e",
   "metadata": {},
   "outputs": [],
   "source": [
    "selloutList.remove(minValue)\n",
    "selloutList.remove(maxValue)"
   ]
  },
  {
   "cell_type": "code",
   "execution_count": 71,
   "id": "a450ce52-bc5e-4156-bb4f-9e7be8539e17",
   "metadata": {},
   "outputs": [],
   "source": [
    "finalLen = len(selloutList)\n",
    "finalSum = sum(selloutList)"
   ]
  },
  {
   "cell_type": "code",
   "execution_count": 72,
   "id": "a1e66126-7460-410b-b1d6-c1a0e44afd34",
   "metadata": {},
   "outputs": [],
   "source": [
    "answer = finalSum/finalLen"
   ]
  },
  {
   "cell_type": "code",
   "execution_count": 73,
   "id": "fe52f66e-0ee8-4085-946b-c1c77e9e6b08",
   "metadata": {},
   "outputs": [
    {
     "data": {
      "text/plain": [
       "350.0"
      ]
     },
     "execution_count": 73,
     "metadata": {},
     "output_type": "execute_result"
    }
   ],
   "source": [
    "answer"
   ]
  },
  {
   "cell_type": "code",
   "execution_count": 64,
   "id": "ad832e6e-a6d9-4296-8bd3-f20aae2a098f",
   "metadata": {},
   "outputs": [
    {
     "data": {
      "text/plain": [
       "350.0"
      ]
     },
     "execution_count": 64,
     "metadata": {},
     "output_type": "execute_result"
    }
   ],
   "source": [
    "sum(selloutList) / len(selloutList)"
   ]
  },
  {
   "cell_type": "markdown",
   "id": "98bb9c37-9525-4037-bf01-a854d3df3c69",
   "metadata": {},
   "source": [
    "### 3. Pandas DataFrame"
   ]
  },
  {
   "cell_type": "code",
   "execution_count": 95,
   "id": "70de3c4c-2e65-4eb8-bfe3-c1593b0ce05d",
   "metadata": {},
   "outputs": [],
   "source": [
    "import pandas as pd\n",
    "\n",
    "itemList = [\"DB510\",\"DB520\",\"DB530\"]\n",
    "selloutList = [100, 250, 300]\n",
    "\n",
    "finalDf = pd.DataFrame( zip(itemList,selloutList) )"
   ]
  },
  {
   "cell_type": "code",
   "execution_count": 97,
   "id": "fc1159d7-5843-44d0-b1b9-f66b62ffa431",
   "metadata": {},
   "outputs": [],
   "source": [
    "finalDf.columns = [\"ITEM\",\"QTY\"]"
   ]
  },
  {
   "cell_type": "code",
   "execution_count": 100,
   "id": "b291746f-b2ba-4326-8597-88944a2f7533",
   "metadata": {},
   "outputs": [],
   "source": [
    "finalDf.to_csv( \"./result.csv\" )"
   ]
  },
  {
   "cell_type": "markdown",
   "id": "17642488-8ef5-4afc-91e9-4f6f8dca3b74",
   "metadata": {},
   "source": [
    "# 형변환"
   ]
  },
  {
   "cell_type": "code",
   "execution_count": 124,
   "id": "b0932828-2d3a-404c-9237-a2cbb48c1dcf",
   "metadata": {},
   "outputs": [],
   "source": [
    "yearweekValue = 202210"
   ]
  },
  {
   "cell_type": "code",
   "execution_count": 125,
   "id": "7d90bee0-61f9-4a82-b51f-71cbf0329fd3",
   "metadata": {},
   "outputs": [],
   "source": [
    "yearweekValue = str(yearweekValue)"
   ]
  },
  {
   "cell_type": "code",
   "execution_count": 126,
   "id": "4fcfc835-b71c-4eef-9ca2-89c181e15337",
   "metadata": {},
   "outputs": [
    {
     "data": {
      "text/plain": [
       "str"
      ]
     },
     "execution_count": 126,
     "metadata": {},
     "output_type": "execute_result"
    }
   ],
   "source": [
    "type(yearweekValue)"
   ]
  },
  {
   "cell_type": "code",
   "execution_count": 120,
   "id": "e6626c3a-ead4-42fb-9f92-e97d68c0b0a2",
   "metadata": {},
   "outputs": [],
   "source": [
    "yearValue = int( yearweekValue / 100 )"
   ]
  },
  {
   "cell_type": "code",
   "execution_count": 122,
   "id": "5b2e3455-cd33-4278-ad3a-969167c39fa9",
   "metadata": {},
   "outputs": [
    {
     "data": {
      "text/plain": [
       "10"
      ]
     },
     "execution_count": 122,
     "metadata": {},
     "output_type": "execute_result"
    }
   ],
   "source": [
    "weekValue = yearweekValue % 100\n",
    "weekValue"
   ]
  },
  {
   "cell_type": "code",
   "execution_count": 111,
   "id": "d503e7d7-18d7-4c7c-af90-c9094ab3a5b6",
   "metadata": {},
   "outputs": [],
   "source": [
    "yearLen = 4"
   ]
  },
  {
   "cell_type": "code",
   "execution_count": 112,
   "id": "5248ffaa-6692-4d02-b5c4-df0b82fc09f7",
   "metadata": {},
   "outputs": [],
   "source": [
    "yearValue = yearweekValue[0:yearLen]"
   ]
  },
  {
   "cell_type": "code",
   "execution_count": 113,
   "id": "fa44ea0a-0c32-48c7-82a2-bb07aad0fdde",
   "metadata": {},
   "outputs": [],
   "source": [
    "weekValue = yearweekValue[yearLen:]"
   ]
  },
  {
   "cell_type": "code",
   "execution_count": 114,
   "id": "8c4ebcdf-b15e-4c34-9cd7-4860e38d429d",
   "metadata": {},
   "outputs": [
    {
     "data": {
      "text/plain": [
       "'10'"
      ]
     },
     "execution_count": 114,
     "metadata": {},
     "output_type": "execute_result"
    }
   ],
   "source": [
    "weekValue"
   ]
  },
  {
   "cell_type": "code",
   "execution_count": 133,
   "id": "3ae8184e-d8e8-4ac8-a2d8-26fd243fe328",
   "metadata": {},
   "outputs": [
    {
     "data": {
      "text/html": [
       "<div>\n",
       "<style scoped>\n",
       "    .dataframe tbody tr th:only-of-type {\n",
       "        vertical-align: middle;\n",
       "    }\n",
       "\n",
       "    .dataframe tbody tr th {\n",
       "        vertical-align: top;\n",
       "    }\n",
       "\n",
       "    .dataframe thead th {\n",
       "        text-align: right;\n",
       "    }\n",
       "</style>\n",
       "<table border=\"1\" class=\"dataframe\">\n",
       "  <thead>\n",
       "    <tr style=\"text-align: right;\">\n",
       "      <th></th>\n",
       "      <th>ITEM_NAME</th>\n",
       "    </tr>\n",
       "  </thead>\n",
       "  <tbody>\n",
       "    <tr>\n",
       "      <th>0</th>\n",
       "      <td>DB510</td>\n",
       "    </tr>\n",
       "    <tr>\n",
       "      <th>1</th>\n",
       "      <td>DB520</td>\n",
       "    </tr>\n",
       "  </tbody>\n",
       "</table>\n",
       "</div>"
      ],
      "text/plain": [
       "  ITEM_NAME\n",
       "0     DB510\n",
       "1     DB520"
      ]
     },
     "execution_count": 133,
     "metadata": {},
     "output_type": "execute_result"
    }
   ],
   "source": [
    "# 단일 리스트로 데이터프레임 만들기\n",
    "itemList = [\"DB510\",\"DB520\"]\n",
    "itemDf = pd.DataFrame(itemList, columns = [\"ITEM_NAME\"])\n",
    "itemDf"
   ]
  },
  {
   "cell_type": "code",
   "execution_count": 127,
   "id": "d191b888-51c7-41cd-8755-14374000d1a8",
   "metadata": {},
   "outputs": [],
   "source": [
    "#클립보드 데이터 수집\n",
    "clipData = pd.read_clipboard()"
   ]
  }
 ],
 "metadata": {
  "kernelspec": {
   "display_name": "Python 3 (ipykernel)",
   "language": "python",
   "name": "python3"
  },
  "language_info": {
   "codemirror_mode": {
    "name": "ipython",
    "version": 3
   },
   "file_extension": ".py",
   "mimetype": "text/x-python",
   "name": "python",
   "nbconvert_exporter": "python",
   "pygments_lexer": "ipython3",
   "version": "3.9.7"
  }
 },
 "nbformat": 4,
 "nbformat_minor": 5
}
