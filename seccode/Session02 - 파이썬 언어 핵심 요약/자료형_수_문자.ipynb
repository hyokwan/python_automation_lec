{
 "cells": [
  {
   "cell_type": "markdown",
   "id": "0fcedebf-85ee-4239-847d-07e3b431b4fc",
   "metadata": {},
   "source": [
    "# 1. 라이브러리 불러오기"
   ]
  },
  {
   "cell_type": "markdown",
   "id": "61e2c0b4-8fc2-4b13-978a-2d53ea01f002",
   "metadata": {},
   "source": [
    "### 1. 수 연산"
   ]
  },
  {
   "cell_type": "code",
   "execution_count": 19,
   "id": "219be4a1-e0eb-4912-9b47-770f18a411cd",
   "metadata": {},
   "outputs": [],
   "source": [
    "aValue = 10\n",
    "bValue = 0.2"
   ]
  },
  {
   "cell_type": "code",
   "execution_count": 49,
   "id": "9e8723d6-e16e-4785-8b0c-008595634bc8",
   "metadata": {},
   "outputs": [],
   "source": [
    "# mod 연산은 패턴을 찾아내는데 활용\n",
    "# 예: 4주에 한번 판매량 요청 ( 주차 % 4[패턴값] = 0 -> 로직 작성)"
   ]
  },
  {
   "cell_type": "code",
   "execution_count": 51,
   "id": "78df478a-fa04-4cef-92a6-57769dfc58ff",
   "metadata": {},
   "outputs": [],
   "source": [
    "week = 20\n",
    "pattern = 4"
   ]
  },
  {
   "cell_type": "code",
   "execution_count": 52,
   "id": "6aa7311d-386d-4a3c-98d8-816c930d1230",
   "metadata": {},
   "outputs": [
    {
     "data": {
      "text/plain": [
       "0"
      ]
     },
     "execution_count": 52,
     "metadata": {},
     "output_type": "execute_result"
    }
   ],
   "source": [
    "week % pattern"
   ]
  },
  {
   "cell_type": "code",
   "execution_count": null,
   "id": "ce34e448-fe65-485f-bd07-3a64a8997ff7",
   "metadata": {},
   "outputs": [],
   "source": [
    "# 수요예측을 하는데."
   ]
  },
  {
   "cell_type": "markdown",
   "id": "ee9dc912-b633-4d3b-b213-8776d1ab966d",
   "metadata": {},
   "source": [
    "실습 현재 시간과 분을 입력값으로 받아서\n",
    "두개의 값을 더하는 연산을 수행하세요\n"
   ]
  },
  {
   "cell_type": "markdown",
   "id": "29f289dc-6426-4bd6-838f-ee8c01ee3183",
   "metadata": {},
   "source": [
    "1. 실시간 시간반영 코드"
   ]
  },
  {
   "cell_type": "code",
   "execution_count": 61,
   "id": "b6ad5a58-4d33-4982-8e8f-9f6b4b0e0a71",
   "metadata": {},
   "outputs": [
    {
     "data": {
      "text/plain": [
       "'C:\\\\Users\\\\kopo\\\\seccode\\\\Session02 - 파이썬 언어 핵심 요약'"
      ]
     },
     "execution_count": 61,
     "metadata": {},
     "output_type": "execute_result"
    }
   ],
   "source": [
    "pwd"
   ]
  },
  {
   "cell_type": "code",
   "execution_count": 48,
   "id": "32d4d0e9-af4d-4637-950c-4130be47cfbb",
   "metadata": {},
   "outputs": [
    {
     "data": {
      "text/plain": [
       "68"
      ]
     },
     "execution_count": 48,
     "metadata": {},
     "output_type": "execute_result"
    }
   ],
   "source": [
    "import datetime as dt\n",
    "\n",
    "# 라이브러리를 활용하여 현재시간 가져오기\n",
    "currentDate = dt.datetime.now()\n",
    "\n",
    "# 시간 및 분 정보 가져오기\n",
    "currentHour = currentDate.hour\n",
    "currentMin = currentDate.minute\n",
    "\n",
    "answer = currentHour + currentMin\n",
    "answer"
   ]
  },
  {
   "cell_type": "markdown",
   "id": "767dd5b3-f6a8-4647-997c-eb71a30017c5",
   "metadata": {},
   "source": [
    "# 2. 문자열 연산"
   ]
  },
  {
   "cell_type": "code",
   "execution_count": 53,
   "id": "ee281fae-b764-436f-bfde-3959268519ec",
   "metadata": {},
   "outputs": [
    {
     "data": {
      "text/plain": [
       "'SEC_20220329'"
      ]
     },
     "execution_count": 53,
     "metadata": {},
     "output_type": "execute_result"
    }
   ],
   "source": [
    "# 문자열 붙이기\n",
    "stringValue = \"SEC\"\n",
    "\n",
    "type(stringValue)\n",
    "\n",
    "data1 = \"SEC\"\n",
    "delimiter = \"_\"\n",
    "data2 = \"20220329\"\n",
    "data1 + delimiter + data2"
   ]
  },
  {
   "cell_type": "code",
   "execution_count": 54,
   "id": "58b9d9b9-6369-46cf-a2d0-bcc997cb6e5e",
   "metadata": {},
   "outputs": [
    {
     "data": {
      "text/plain": [
       "'202210'"
      ]
     },
     "execution_count": 54,
     "metadata": {},
     "output_type": "execute_result"
    }
   ],
   "source": [
    "# 인덱스로 문자열 분리하기\n",
    "\n",
    "indata = \"202210_SEC\"\n",
    "yearweekLen = 6\n",
    "indata[0:yearweekLen]"
   ]
  },
  {
   "cell_type": "code",
   "execution_count": 55,
   "id": "edf5263f-b796-454f-a781-fd77797bb489",
   "metadata": {},
   "outputs": [],
   "source": [
    "# 이외 유용한 함수 (count, upper, replace, split)"
   ]
  },
  {
   "cell_type": "code",
   "execution_count": 36,
   "id": "5ab56ad8-e9d3-4c4e-bf81-65b97b3a2377",
   "metadata": {},
   "outputs": [],
   "source": [
    "## count upper replace , split"
   ]
  },
  {
   "cell_type": "code",
   "execution_count": 56,
   "id": "b97d7929-a475-4c08-8f4e-f8f009533cbb",
   "metadata": {},
   "outputs": [
    {
     "data": {
      "text/plain": [
       "'100'"
      ]
     },
     "execution_count": 56,
     "metadata": {},
     "output_type": "execute_result"
    }
   ],
   "source": [
    "# split\n",
    "indata = \"SEC_201512_100\"\n",
    "inlist = indata.split(\"_\")\n",
    "inlist[2]"
   ]
  },
  {
   "cell_type": "code",
   "execution_count": 60,
   "id": "10525ab7-0760-419f-a555-8c0335a1dcdb",
   "metadata": {},
   "outputs": [
    {
     "data": {
      "text/plain": [
       "'2022_11'"
      ]
     },
     "execution_count": 60,
     "metadata": {},
     "output_type": "execute_result"
    }
   ],
   "source": [
    "# replace\n",
    "\n",
    "targetItem = \"2022W11\"\n",
    "cleansedData = targetItem.replace(\"W\",\"_\")\n",
    "cleansedData"
   ]
  },
  {
   "cell_type": "code",
   "execution_count": 58,
   "id": "358f75af-9024-4671-8d42-f014f64ec532",
   "metadata": {},
   "outputs": [
    {
     "data": {
      "text/plain": [
       "1"
      ]
     },
     "execution_count": 58,
     "metadata": {},
     "output_type": "execute_result"
    }
   ],
   "source": [
    "# upper, count\n",
    "yearweek1 = \"2022w11\"\n",
    "yearweek2 = \"2022W11\"\n",
    "delimiter = \"W\"\n",
    "\n",
    "cleansedData = yearweek1.upper()\n",
    "cleansedData.upper().count(delimiter)"
   ]
  },
  {
   "cell_type": "code",
   "execution_count": null,
   "id": "ef42ea4f-2fe0-4028-970a-63bca9ee0e84",
   "metadata": {},
   "outputs": [],
   "source": []
  },
  {
   "cell_type": "code",
   "execution_count": null,
   "id": "55b65364-948c-4970-a9d6-28a4fbfef848",
   "metadata": {},
   "outputs": [],
   "source": []
  },
  {
   "cell_type": "code",
   "execution_count": null,
   "id": "0456671e-3b48-4f01-b4ee-26ad03b19084",
   "metadata": {},
   "outputs": [],
   "source": []
  },
  {
   "cell_type": "code",
   "execution_count": null,
   "id": "0cfde868-97e2-48b1-af24-ca0b71f50389",
   "metadata": {},
   "outputs": [],
   "source": []
  },
  {
   "cell_type": "code",
   "execution_count": null,
   "id": "156cbe91-48b5-40e3-90fc-58cd705fd482",
   "metadata": {},
   "outputs": [],
   "source": []
  },
  {
   "cell_type": "code",
   "execution_count": 20,
   "id": "e486a06b-2616-48d5-bfec-8dd145dcc8b0",
   "metadata": {},
   "outputs": [],
   "source": [
    "targetModel = \"LEDTV_UN50EN001\""
   ]
  },
  {
   "cell_type": "code",
   "execution_count": 16,
   "id": "238d50de-f7e2-4690-8c68-52c83ff40423",
   "metadata": {},
   "outputs": [],
   "source": [
    "prefix = \"LEDTV_\""
   ]
  },
  {
   "cell_type": "code",
   "execution_count": 18,
   "id": "72a35ec7-dfcf-45ea-a570-a63e6aba3f49",
   "metadata": {},
   "outputs": [],
   "source": [
    "finalModel = prefix+targetModel"
   ]
  },
  {
   "cell_type": "code",
   "execution_count": 21,
   "id": "d6c0cd5c-0aa4-419f-8d74-5715a5b83132",
   "metadata": {},
   "outputs": [
    {
     "data": {
      "text/plain": [
       "1"
      ]
     },
     "execution_count": 21,
     "metadata": {},
     "output_type": "execute_result"
    }
   ],
   "source": [
    "targetModel.count(prefix)"
   ]
  },
  {
   "cell_type": "code",
   "execution_count": null,
   "id": "23022b75-aa8f-44ad-9712-8e3910b4fbce",
   "metadata": {},
   "outputs": [],
   "source": []
  },
  {
   "cell_type": "code",
   "execution_count": null,
   "id": "b9c2900a-291a-4f38-8740-0d02b067237b",
   "metadata": {},
   "outputs": [],
   "source": [
    "yearweek = \"2017W28\""
   ]
  },
  {
   "cell_type": "code",
   "execution_count": null,
   "id": "ba7aaeef-45d1-46a6-bd00-e9c1eede1bb4",
   "metadata": {},
   "outputs": [],
   "source": []
  },
  {
   "cell_type": "code",
   "execution_count": null,
   "id": "e8b509a8-6ef2-4a77-bef2-9c96d6775a51",
   "metadata": {},
   "outputs": [],
   "source": [
    "print(yearweek.count('W’))\n",
    "\n",
    "#문자열 위치확인 (index)\n",
    "print(yearweek.index('W'))"
   ]
  },
  {
   "cell_type": "code",
   "execution_count": null,
   "id": "294596bf-7fda-44dc-bdc2-95735721073c",
   "metadata": {},
   "outputs": [],
   "source": []
  },
  {
   "cell_type": "code",
   "execution_count": null,
   "id": "a4ff4786-6b06-47d3-906d-e7bbacaac764",
   "metadata": {},
   "outputs": [],
   "source": []
  },
  {
   "cell_type": "code",
   "execution_count": null,
   "id": "f5aff591-1a83-4b97-a5e7-7734d8a20545",
   "metadata": {},
   "outputs": [],
   "source": []
  },
  {
   "cell_type": "code",
   "execution_count": null,
   "id": "65a97a52-2031-4daa-be5a-1afbe6b4a375",
   "metadata": {},
   "outputs": [],
   "source": []
  },
  {
   "cell_type": "code",
   "execution_count": 10,
   "id": "6e618287-e071-48e9-adde-48049b534523",
   "metadata": {},
   "outputs": [
    {
     "data": {
      "text/plain": [
       "'A01'"
      ]
     },
     "execution_count": 10,
     "metadata": {},
     "output_type": "execute_result"
    }
   ],
   "source": [
    "subsidiary = indata[0:3]\n",
    "subsidiary"
   ]
  },
  {
   "cell_type": "code",
   "execution_count": null,
   "id": "188a9f34-13ba-42d2-b372-760287ec946b",
   "metadata": {},
   "outputs": [],
   "source": []
  },
  {
   "cell_type": "code",
   "execution_count": null,
   "id": "24faa358-358b-45a3-9e1c-b0fd0c5436d8",
   "metadata": {},
   "outputs": [],
   "source": []
  },
  {
   "cell_type": "code",
   "execution_count": null,
   "id": "96115690-b6fb-4bc8-8684-4a1d96b08c35",
   "metadata": {},
   "outputs": [],
   "source": []
  },
  {
   "cell_type": "code",
   "execution_count": null,
   "id": "794ee461-202d-4922-ad11-01e292f74df1",
   "metadata": {},
   "outputs": [],
   "source": []
  },
  {
   "cell_type": "code",
   "execution_count": null,
   "id": "ecfcd464-278d-416b-84ce-20b5f575dd7f",
   "metadata": {},
   "outputs": [],
   "source": []
  },
  {
   "cell_type": "code",
   "execution_count": 52,
   "id": "11eb6227-05b5-4866-b04e-f4113a5a812b",
   "metadata": {},
   "outputs": [
    {
     "data": {
      "text/plain": [
       "30"
      ]
     },
     "execution_count": 52,
     "metadata": {},
     "output_type": "execute_result"
    }
   ],
   "source": [
    "hour = 11\n",
    "minute = 19\n",
    "\n",
    "answer = hour+minute\n",
    "answer"
   ]
  },
  {
   "cell_type": "code",
   "execution_count": null,
   "id": "c8b9a8a9-903c-4606-86d2-817f3f715c46",
   "metadata": {},
   "outputs": [],
   "source": []
  },
  {
   "cell_type": "code",
   "execution_count": 32,
   "id": "15ec54ae-c30f-4105-bc58-388c5deb7999",
   "metadata": {},
   "outputs": [],
   "source": [
    "indata = 20"
   ]
  },
  {
   "cell_type": "code",
   "execution_count": 33,
   "id": "5a258400-a045-41f6-98fb-c8cc45b36986",
   "metadata": {},
   "outputs": [],
   "source": [
    "promotion  = 0.3"
   ]
  },
  {
   "cell_type": "code",
   "execution_count": 34,
   "id": "46e08ae7-faa5-4514-b7d8-ad69f37426b5",
   "metadata": {},
   "outputs": [
    {
     "data": {
      "text/plain": [
       "6.0"
      ]
     },
     "execution_count": 34,
     "metadata": {},
     "output_type": "execute_result"
    }
   ],
   "source": [
    "promotion * indata"
   ]
  },
  {
   "cell_type": "code",
   "execution_count": null,
   "id": "7def8ec5-e1f8-446a-a4cd-7799beafc762",
   "metadata": {},
   "outputs": [],
   "source": []
  },
  {
   "cell_type": "code",
   "execution_count": 31,
   "id": "0c572a90-3d41-46c8-abad-d5f4c798061e",
   "metadata": {},
   "outputs": [
    {
     "data": {
      "text/plain": [
       "0"
      ]
     },
     "execution_count": 31,
     "metadata": {},
     "output_type": "execute_result"
    }
   ],
   "source": [
    "20 % 2"
   ]
  },
  {
   "cell_type": "code",
   "execution_count": 27,
   "id": "e4b0b003-12fd-44cb-a68f-688076c73f5b",
   "metadata": {},
   "outputs": [
    {
     "data": {
      "text/plain": [
       "8"
      ]
     },
     "execution_count": 27,
     "metadata": {},
     "output_type": "execute_result"
    }
   ],
   "source": [
    "2 ** 3"
   ]
  },
  {
   "cell_type": "code",
   "execution_count": null,
   "id": "8d4b831d-9f2e-49c3-a7f3-e4cbb8b0934a",
   "metadata": {},
   "outputs": [],
   "source": []
  },
  {
   "cell_type": "code",
   "execution_count": null,
   "id": "0f725199-a849-459a-9e8b-041c20e967e4",
   "metadata": {},
   "outputs": [],
   "source": []
  },
  {
   "cell_type": "code",
   "execution_count": 21,
   "id": "9b59dc4c-44ca-4b8c-81ca-8bfb71405b53",
   "metadata": {},
   "outputs": [
    {
     "data": {
      "text/plain": [
       "float"
      ]
     },
     "execution_count": 21,
     "metadata": {},
     "output_type": "execute_result"
    }
   ],
   "source": [
    "type(bValue)"
   ]
  },
  {
   "cell_type": "code",
   "execution_count": null,
   "id": "bb2e949a-389e-470e-bfde-c00e9f724dd1",
   "metadata": {},
   "outputs": [],
   "source": []
  },
  {
   "cell_type": "code",
   "execution_count": null,
   "id": "97b40bb2-c6c9-47a5-bd3f-e581cd384b00",
   "metadata": {},
   "outputs": [],
   "source": []
  },
  {
   "cell_type": "code",
   "execution_count": 11,
   "id": "d4dff1c4-868a-4c27-9a7b-79ea4c7b63a9",
   "metadata": {},
   "outputs": [],
   "source": [
    "indata = 20"
   ]
  },
  {
   "cell_type": "code",
   "execution_count": 12,
   "id": "a2a02e03-c400-493e-b9aa-593e55e04a52",
   "metadata": {},
   "outputs": [],
   "source": [
    "proPercent = 0.5"
   ]
  },
  {
   "cell_type": "code",
   "execution_count": 13,
   "id": "4056387b-0ebe-4aa3-8341-cdadb2d3ecf9",
   "metadata": {},
   "outputs": [],
   "source": [
    "indata = indata * proPercent"
   ]
  },
  {
   "cell_type": "code",
   "execution_count": 14,
   "id": "15e4eb67-ed49-4399-b93a-0d9ab97585c7",
   "metadata": {},
   "outputs": [
    {
     "data": {
      "text/plain": [
       "10.0"
      ]
     },
     "execution_count": 14,
     "metadata": {},
     "output_type": "execute_result"
    }
   ],
   "source": [
    "indata"
   ]
  },
  {
   "cell_type": "code",
   "execution_count": null,
   "id": "3d8e771a-03f9-4c6d-b3e8-90f9187933cc",
   "metadata": {},
   "outputs": [],
   "source": []
  },
  {
   "cell_type": "markdown",
   "id": "94613643-00a2-47d6-9f49-c1ae7f83c6f6",
   "metadata": {
    "jp-MarkdownHeadingCollapsed": true,
    "tags": []
   },
   "source": [
    "### 1. 데이터 불러오기"
   ]
  },
  {
   "cell_type": "code",
   "execution_count": 6,
   "id": "51e1aeed-137a-4039-8f92-2e84ac05127a",
   "metadata": {},
   "outputs": [],
   "source": [
    "a"
   ]
  }
 ],
 "metadata": {
  "kernelspec": {
   "display_name": "Python 3 (ipykernel)",
   "language": "python",
   "name": "python3"
  },
  "language_info": {
   "codemirror_mode": {
    "name": "ipython",
    "version": 3
   },
   "file_extension": ".py",
   "mimetype": "text/x-python",
   "name": "python",
   "nbconvert_exporter": "python",
   "pygments_lexer": "ipython3",
   "version": "3.9.7"
  }
 },
 "nbformat": 4,
 "nbformat_minor": 5
}
