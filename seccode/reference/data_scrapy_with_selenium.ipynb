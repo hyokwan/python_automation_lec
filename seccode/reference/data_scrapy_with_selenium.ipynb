{
 "cells": [
  {
   "cell_type": "markdown",
   "id": "c75f8f34-57f6-4268-bfcd-ebf032b25e25",
   "metadata": {},
   "source": [
    "### 요부분만 추가 Extract_News.columns = [\"기사제목\", \"요약내용\", \"날짜\", \"LINK\"]"
   ]
  },
  {
   "cell_type": "code",
   "execution_count": 24,
   "id": "08c650f2-7a0d-4df9-93db-ce76bb2df1b9",
   "metadata": {},
   "outputs": [],
   "source": [
    "import time"
   ]
  },
  {
   "cell_type": "code",
   "execution_count": 25,
   "id": "b5274bd4-ccc2-45b4-85f7-17cb2e3ad149",
   "metadata": {},
   "outputs": [],
   "source": [
    "import pandas as pd\n",
    "import requests\n",
    "import bs4\n",
    "from bs4 import BeautifulSoup\n",
    "from selenium import webdriver\n",
    "from selenium.webdriver.common.keys import Keys\n",
    "from selenium.webdriver.support.ui import Select\n",
    "# Setting\n",
    "driver_loc = \"../externlib/chromedriver/chromedriver.exe\"\n",
    "options = webdriver.ChromeOptions()\n",
    "options.add_argument(\"window-size=1920x1080\")\n",
    "driver = webdriver.Chrome(driver_loc, options=options)\n",
    "driver.implicitly_wait(5)"
   ]
  },
  {
   "cell_type": "code",
   "execution_count": 26,
   "id": "486caf0a-7726-4d8d-866f-8b5b1a25fe5c",
   "metadata": {},
   "outputs": [],
   "source": [
    "import warnings"
   ]
  },
  {
   "cell_type": "code",
   "execution_count": 27,
   "id": "52f59a1a-7c29-4f66-b3f5-f9843c735e89",
   "metadata": {},
   "outputs": [],
   "source": [
    "warnings.filterwarnings(action=\"ignore\")"
   ]
  },
  {
   "cell_type": "markdown",
   "id": "b0a27801-59bb-4756-9a3b-4244f30d5d26",
   "metadata": {},
   "source": [
    "# 1. 메인페이지 접속 및 쿠키 accecpt 클릭"
   ]
  },
  {
   "cell_type": "code",
   "execution_count": 28,
   "id": "ae1bdf6b-4b20-4d41-8c37-9641a554e982",
   "metadata": {},
   "outputs": [],
   "source": [
    "# 웹페이지 접속\n",
    "targetUrl = \"https://www.eurovent-certification.com/en/#\"\n",
    "driver.get(targetUrl)"
   ]
  },
  {
   "cell_type": "code",
   "execution_count": 29,
   "id": "ca2b707d-210c-4d64-a61b-1b7afab2e71e",
   "metadata": {},
   "outputs": [],
   "source": [
    "time.sleep(1)"
   ]
  },
  {
   "cell_type": "code",
   "execution_count": 30,
   "id": "7090de55-b0f0-4981-986c-0182056dc7df",
   "metadata": {},
   "outputs": [],
   "source": [
    "main_window_handle = None\n",
    "while not main_window_handle:\n",
    "    main_window_handle = driver.current_window_handle"
   ]
  },
  {
   "cell_type": "code",
   "execution_count": 31,
   "id": "6888a4ad-35b8-400c-a07f-9a4350542450",
   "metadata": {},
   "outputs": [],
   "source": [
    "okXpath = '//*[@id=\"tarteaucitronPersonalize2\"]'"
   ]
  },
  {
   "cell_type": "code",
   "execution_count": 32,
   "id": "d6f1167d-888a-48da-b4b5-c45dc9f2a355",
   "metadata": {},
   "outputs": [],
   "source": [
    "# 페이지 Serrch버튼 찾아서 클릭\n",
    "driver.find_element_by_xpath(okXpath).click()"
   ]
  },
  {
   "cell_type": "markdown",
   "id": "29564a9f-6028-45b8-b8f0-43c66747afe0",
   "metadata": {},
   "source": [
    "# 2. 프로덕트 패밀리 선택"
   ]
  },
  {
   "cell_type": "code",
   "execution_count": 33,
   "id": "010376da-7701-4a2c-9dd9-de66201c87e3",
   "metadata": {},
   "outputs": [],
   "source": [
    "productFamilyXpath = '/html/body/div[1]/div[1]/div[2]/div/div/div[2]/div[2]/div/div[1]/form/div[1]/div/button/div/div/div'"
   ]
  },
  {
   "cell_type": "code",
   "execution_count": 34,
   "id": "7badc1ea-f425-4e02-94a6-749c4b5075a1",
   "metadata": {},
   "outputs": [],
   "source": [
    "driver.find_element_by_xpath(productFamilyXpath)\n",
    "\n",
    "driver.find_element_by_xpath(productFamilyXpath).click()\n",
    "\n",
    "inputBox = '/html/body/div[1]/div[1]/div[2]/div/div/div[2]/div[2]/div/div[1]/form/div[1]/div/div/div[1]/input'\n",
    "\n",
    "driver.find_element_by_xpath(inputBox).send_keys(\"air condition\")\n",
    "\n",
    "driver.find_element_by_xpath(inputBox).send_keys(Keys.ENTER)"
   ]
  },
  {
   "cell_type": "markdown",
   "id": "05a23e8c-2ee5-466c-b03c-8ddb724daea2",
   "metadata": {},
   "source": [
    "# 3. 프로덕트 타입 선택"
   ]
  },
  {
   "cell_type": "code",
   "execution_count": 35,
   "id": "22342473-60df-4e12-8772-ea58979cb752",
   "metadata": {},
   "outputs": [],
   "source": [
    "pTypeXpath = '/html/body/div[1]/div[1]/div[2]/div/div/div[2]/div[2]/div/div[1]/form/div[2]/div/button/div/div/div'"
   ]
  },
  {
   "cell_type": "code",
   "execution_count": 36,
   "id": "c1986a83-e6c2-4a42-a8e9-28fcb352d566",
   "metadata": {},
   "outputs": [],
   "source": [
    "driver.find_element_by_xpath(pTypeXpath).click()"
   ]
  },
  {
   "cell_type": "code",
   "execution_count": 37,
   "id": "72d543c5-2ec0-4852-a620-70d2eff4696b",
   "metadata": {},
   "outputs": [],
   "source": [
    "selectSpan = '//*[@id=\"bs-select-2-2\"]/span[2]'"
   ]
  },
  {
   "cell_type": "code",
   "execution_count": 38,
   "id": "2b9bbea2-ee51-4ada-8ebd-b430cab69ba1",
   "metadata": {},
   "outputs": [],
   "source": [
    "driver.find_element_by_xpath(selectSpan).click()"
   ]
  },
  {
   "cell_type": "markdown",
   "id": "be400b51-e845-47fe-b7a6-c9c4742faf63",
   "metadata": {},
   "source": [
    "# 4. 서치버튼 클릭"
   ]
  },
  {
   "cell_type": "code",
   "execution_count": 39,
   "id": "fcf0aeaf-f287-41b7-bd4e-abbb93afd800",
   "metadata": {},
   "outputs": [],
   "source": [
    "searchXpath = '/html/body/div[1]/div[1]/div[2]/div/div/div[2]/div[2]/div/div[1]/form/div[6]/button/span/b'\n",
    "\n",
    "driver.find_element_by_xpath(searchXpath).click()\n",
    "\n",
    "time.sleep(1)"
   ]
  },
  {
   "cell_type": "markdown",
   "id": "23e5b1b8-eb71-49ff-9915-b109193fecf9",
   "metadata": {},
   "source": [
    "# 5. 페이지 이동 및 데이터 수집"
   ]
  },
  {
   "cell_type": "code",
   "execution_count": 41,
   "id": "9697deac-f7af-4e06-b834-d0231a96130e",
   "metadata": {},
   "outputs": [],
   "source": [
    "driver.current_url\n",
    "html = driver.page_source\n",
    "bs = bs4.BeautifulSoup(html, \"html.parser\")\n",
    "\n",
    "# 해당 테이블 검색\n",
    "resultTable = bs.find(name=\"table\", attrs={\"id\":\"results-table\"})\n",
    "tbody = resultTable.find(name=\"tbody\")\n",
    "trs = tbody.findAll(name=\"tr\")\n",
    "# 모델컬럼 확인\n",
    "modelColLoc = 4\n",
    "modelList =[]\n",
    "for i in range(0, len(trs)):\n",
    "\n",
    "    tds = trs[i].findAll(name=\"td\")\n",
    "    modelName = tds[modelColLoc].find(name=\"a\").attrs[\"title\"]\n",
    "    modelList.append(modelName)"
   ]
  },
  {
   "cell_type": "code",
   "execution_count": 46,
   "id": "cbee7c96-0f7f-4e19-9414-e100ca64468c",
   "metadata": {},
   "outputs": [],
   "source": [
    "modelScrapy = pd.DataFrame(modelList, columns = [\"MODEL\"])"
   ]
  },
  {
   "cell_type": "code",
   "execution_count": 48,
   "id": "fcc784ab-4a8c-4bb6-9513-1c7cb5912d25",
   "metadata": {},
   "outputs": [],
   "source": [
    "modelScrapy.to_csv(\"../dataset/model_result.csv\")"
   ]
  },
  {
   "cell_type": "markdown",
   "id": "aba9de7f-12bd-4cae-a6ac-68721314ef0d",
   "metadata": {},
   "source": [
    "# 페이지 넘기기 필요 next 버튼 클릭하면서 동적으로 데이터 수집"
   ]
  }
 ],
 "metadata": {
  "kernelspec": {
   "display_name": "Python 3 (ipykernel)",
   "language": "python",
   "name": "python3"
  },
  "language_info": {
   "codemirror_mode": {
    "name": "ipython",
    "version": 3
   },
   "file_extension": ".py",
   "mimetype": "text/x-python",
   "name": "python",
   "nbconvert_exporter": "python",
   "pygments_lexer": "ipython3",
   "version": "3.9.7"
  }
 },
 "nbformat": 4,
 "nbformat_minor": 5
}
