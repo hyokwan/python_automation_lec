{
 "cells": [
  {
   "cell_type": "markdown",
   "id": "776614cd-c0bf-4db7-9779-4423fb8d0fab",
   "metadata": {},
   "source": [
    "### 라이브러리 불러오기"
   ]
  },
  {
   "cell_type": "code",
   "execution_count": 1,
   "id": "497319df-9858-497c-a0b7-acfb8f181fd1",
   "metadata": {},
   "outputs": [],
   "source": [
    "import pandas as pd"
   ]
  },
  {
   "cell_type": "code",
   "execution_count": 21,
   "id": "b1df909a-1975-468f-a03c-0941898a1bbd",
   "metadata": {},
   "outputs": [],
   "source": [
    "import matplotlib.pyplot as plt"
   ]
  },
  {
   "cell_type": "code",
   "execution_count": 22,
   "id": "e65b9cbe-5da5-4e0e-ade2-3d5f4dec4646",
   "metadata": {},
   "outputs": [],
   "source": [
    "import seaborn as sns"
   ]
  },
  {
   "cell_type": "code",
   "execution_count": 26,
   "id": "30fc60ad-378a-4feb-9eea-48ebdfcaba57",
   "metadata": {},
   "outputs": [],
   "source": [
    "import warnings"
   ]
  },
  {
   "cell_type": "code",
   "execution_count": 27,
   "id": "0d8922a1-68a3-4cb8-9310-c704c148addc",
   "metadata": {},
   "outputs": [],
   "source": [
    "warnings.filterwarnings(action=\"ignore\")"
   ]
  },
  {
   "cell_type": "code",
   "execution_count": 28,
   "id": "6552011f-230b-4270-966c-588c793b1f70",
   "metadata": {},
   "outputs": [],
   "source": [
    "# seaborn 의 set 기능을 통해 폰트, 마이너스 폰트 설정, 스타일 설정을 합니다.\n",
    "# \"Malgun Gothic\"\n",
    "sns.set(font=\"Malgun Gothic\", \n",
    "        rc={\"axes.unicode_minus\":False},\n",
    "        style='darkgrid')"
   ]
  },
  {
   "cell_type": "markdown",
   "id": "fd73356e-11a3-4502-b040-fbb507ca9d1b",
   "metadata": {},
   "source": [
    "### 1. 데이터 불러오기"
   ]
  },
  {
   "cell_type": "code",
   "execution_count": 6,
   "id": "8ad0d7fb-7bdf-4e17-9f98-0f6ebd6532c5",
   "metadata": {},
   "outputs": [],
   "source": [
    "indata = pd.read_excel(\"../dataset/스마트금융과_2022년도 교육생 정보_업체공유용.xlsx\")"
   ]
  },
  {
   "cell_type": "code",
   "execution_count": 14,
   "id": "39f33ec1-525d-4eb0-a930-4aaf6b5dc7ca",
   "metadata": {},
   "outputs": [
    {
     "name": "stdout",
     "output_type": "stream",
     "text": [
      "<class 'pandas.core.frame.DataFrame'>\n",
      "RangeIndex: 37 entries, 0 to 36\n",
      "Data columns (total 12 columns):\n",
      " #   Column   Non-Null Count  Dtype \n",
      "---  ------   --------------  ----- \n",
      " 0   순번       37 non-null     int64 \n",
      " 1   한글성명     37 non-null     object\n",
      " 2   합격여부     37 non-null     object\n",
      " 3   만 나이     37 non-null     int64 \n",
      " 4   성별구분     37 non-null     object\n",
      " 5   출신대학명    37 non-null     object\n",
      " 6   출신대학학과명  37 non-null     object\n",
      " 7   학력구분     37 non-null     object\n",
      " 8   간략주소     37 non-null     object\n",
      " 9   주소       37 non-null     object\n",
      " 10  휴대전화번호   37 non-null     object\n",
      " 11  이메일      37 non-null     object\n",
      "dtypes: int64(2), object(10)\n",
      "memory usage: 3.6+ KB\n"
     ]
    }
   ],
   "source": [
    "indata.info()"
   ]
  },
  {
   "cell_type": "markdown",
   "id": "8f74c67c-103a-4225-b2de-854ad90c6ae1",
   "metadata": {},
   "source": [
    "### 2. 데이터 필터 (합격자)"
   ]
  },
  {
   "cell_type": "code",
   "execution_count": 15,
   "id": "d27c583b-a3fc-4d81-900b-957e6c1db669",
   "metadata": {},
   "outputs": [],
   "source": [
    "inword = \"합격\""
   ]
  },
  {
   "cell_type": "code",
   "execution_count": 16,
   "id": "83975995-9f20-4fcf-b667-97e60044ac6e",
   "metadata": {},
   "outputs": [],
   "source": [
    "test = \"합격여부\""
   ]
  },
  {
   "cell_type": "code",
   "execution_count": 18,
   "id": "79c1c3f6-3ecc-4aa2-b885-554dcff6b86f",
   "metadata": {},
   "outputs": [],
   "source": [
    "filterdData = indata.loc[indata.합격여부.str.count(inword)>0]"
   ]
  },
  {
   "cell_type": "code",
   "execution_count": 19,
   "id": "d69d1cf1-7d59-457b-a369-786e36401626",
   "metadata": {},
   "outputs": [
    {
     "data": {
      "text/plain": [
       "(27, 12)"
      ]
     },
     "execution_count": 19,
     "metadata": {},
     "output_type": "execute_result"
    }
   ],
   "source": [
    "filterdData.shape"
   ]
  },
  {
   "cell_type": "markdown",
   "id": "43bd0d6d-62c5-406b-ad41-7be349036d0f",
   "metadata": {},
   "source": [
    "### 3. 데이터 시각화"
   ]
  },
  {
   "cell_type": "markdown",
   "id": "51aeb6cf-75a3-473b-a67a-320ab529abc6",
   "metadata": {},
   "source": [
    "### 3.1 데이터 분류"
   ]
  },
  {
   "cell_type": "code",
   "execution_count": 24,
   "id": "9f79892b-5e65-441b-a038-37ed2c8db44f",
   "metadata": {},
   "outputs": [
    {
     "data": {
      "text/plain": [
       "Index(['순번', '한글성명', '합격여부', '만 나이', '성별구분', '출신대학명', '출신대학학과명', '학력구분',\n",
       "       '간략주소', '주소', '휴대전화번호', '이메일'],\n",
       "      dtype='object')"
      ]
     },
     "execution_count": 24,
     "metadata": {},
     "output_type": "execute_result"
    }
   ],
   "source": [
    "filterdData.columns"
   ]
  },
  {
   "cell_type": "code",
   "execution_count": 41,
   "id": "30d1578f-3b63-475d-a864-24f1ed11d2fb",
   "metadata": {},
   "outputs": [
    {
     "data": {
      "text/plain": [
       "<AxesSubplot:xlabel='성별구분', ylabel='count'>"
      ]
     },
     "execution_count": 41,
     "metadata": {},
     "output_type": "execute_result"
    },
    {
     "data": {
      "image/png": "[encoded data removed]",
      "text/plain": [
       "<Figure size 720x216 with 1 Axes>"
      ]
     },
     "metadata": {},
     "output_type": "display_data"
    }
   ],
   "source": [
    "fig = plt.figure(figsize=(10,3)) \n",
    "ax1 = fig.add_subplot(111)\n",
    "sns.countplot(data=filterdData, x=\"성별구분\", ax=ax1)"
   ]
  },
  {
   "cell_type": "code",
   "execution_count": 36,
   "id": "7fdeb23b-d8db-496f-93ed-4d881ae5b6af",
   "metadata": {},
   "outputs": [
    {
     "data": {
      "text/plain": [
       "<AxesSubplot:xlabel='학력구분', ylabel='count'>"
      ]
     },
     "execution_count": 36,
     "metadata": {},
     "output_type": "execute_result"
    },
    {
     "data": {
      "image/png": "[encoded data removed]",
      "text/plain": [
       "<Figure size 720x216 with 1 Axes>"
      ]
     },
     "metadata": {},
     "output_type": "display_data"
    }
   ],
   "source": [
    "fig = plt.figure(figsize=(10,3)) \n",
    "ax1 = fig.add_subplot(111)\n",
    "sns.countplot(data=filterdData, x=\"학력구분\", ax=ax1)"
   ]
  },
  {
   "cell_type": "markdown",
   "id": "3c016c68-08f1-49c2-8b41-cf24cf2c6edc",
   "metadata": {},
   "source": [
    "### 3.2. 성별 그룹별 나이"
   ]
  },
  {
   "cell_type": "code",
   "execution_count": 40,
   "id": "37516fca-a97f-43ca-9cae-d36cfc625e7b",
   "metadata": {},
   "outputs": [
    {
     "data": {
      "text/plain": [
       "26.925925925925927"
      ]
     },
     "execution_count": 40,
     "metadata": {},
     "output_type": "execute_result"
    }
   ],
   "source": [
    "filterdData[\"만 나이\"].mean()"
   ]
  },
  {
   "cell_type": "code",
   "execution_count": 38,
   "id": "679e18a6-0572-417b-9ab9-6b7318568d97",
   "metadata": {},
   "outputs": [
    {
     "data": {
      "text/plain": [
       "<AxesSubplot:xlabel='성별구분', ylabel='만 나이'>"
      ]
     },
     "execution_count": 38,
     "metadata": {},
     "output_type": "execute_result"
    },
    {
     "data": {
      "image/png": "[encoded data removed]",
      "text/plain": [
       "<Figure size 360x216 with 1 Axes>"
      ]
     },
     "metadata": {},
     "output_type": "display_data"
    }
   ],
   "source": [
    "fig = plt.figure(figsize=(5,3)) \n",
    "ax1 = fig.add_subplot(111)\n",
    "sns.boxplot(data=filterdData, x=\"성별구분\", y=\"만 나이\")"
   ]
  },
  {
   "cell_type": "code",
   "execution_count": null,
   "id": "b8352ffc-12b9-46fe-9564-9faad7592089",
   "metadata": {},
   "outputs": [],
   "source": []
  }
 ],
 "metadata": {
  "kernelspec": {
   "display_name": "Python 3",
   "language": "python",
   "name": "python3"
  },
  "language_info": {
   "codemirror_mode": {
    "name": "ipython",
    "version": 3
   },
   "file_extension": ".py",
   "mimetype": "text/x-python",
   "name": "python",
   "nbconvert_exporter": "python",
   "pygments_lexer": "ipython3",
   "version": "3.8.8"
  }
 },
 "nbformat": 4,
 "nbformat_minor": 5
}
