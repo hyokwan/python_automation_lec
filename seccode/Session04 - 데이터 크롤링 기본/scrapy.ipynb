{
 "cells": [
  {
   "cell_type": "code",
   "execution_count": 83,
   "id": "adc33ed9-8588-44e9-99bc-7f58b9287d86",
   "metadata": {},
   "outputs": [],
   "source": [
    "import pandas as pd\n",
    "\n",
    "import requests\n",
    "import bs4\n",
    "\n",
    "# 웹페이지 요청 (200: 정상) 및 소스 가져오기\n",
    "resp = requests.get(\"https://www.samsung.com/sec\")\n",
    "html = resp.text\n",
    "\n",
    "# 페이지 소스를 태그정보에 맞게 이쁘게 추출한다\n",
    "bs = bs4.BeautifulSoup(html, \"html.parser\")\n",
    "\n",
    "# find -> find로 데이터에 접근한다 div 태그의 속성정보로 범위 좁힙\n",
    "footerDivTag = bs.find(name=\"div\", attrs={\"class\":\"footer-content\"}  )\n",
    "\n",
    "# 좁힌 상태에서 더 좁힙 (li class-over\n",
    "productLiTag = footerDivTag.find(name=\"li\", attrs={\"class\":\"over\"})\n",
    "\n",
    "# 최종 데이터수집을 위해 findAll로 데이터 접근\n",
    "atagFinal = productLiTag.findAll(name=\"a\")\n",
    "\n",
    "nameList = []\n",
    "linkList = []\n",
    "\n",
    "atagFinalLen = len(atagFinal)\n",
    "\n",
    "for i in range(0, atagFinalLen):\n",
    "\n",
    "    # 잡아서 테스트\n",
    "    eachTag = atagFinal[i]\n",
    "\n",
    "    eachTagName = eachTag.text\n",
    "\n",
    "    eachTagLink = eachTag.attrs[\"href\"]\n",
    "\n",
    "    nameList.append(eachTagName)\n",
    "    linkList.append(eachTagLink)\n",
    "\n",
    "finalDf = pd.DataFrame( zip(nameList,linkList) )\n",
    "\n",
    "finalDf.columns = [\"제품이름\",\"링크\"]\n",
    "\n",
    "finalDf.to_csv(\"./result.csv\", encoding=\"ms949\")"
   ]
  }
 ],
 "metadata": {
  "kernelspec": {
   "display_name": "Python 3 (ipykernel)",
   "language": "python",
   "name": "python3"
  },
  "language_info": {
   "codemirror_mode": {
    "name": "ipython",
    "version": 3
   },
   "file_extension": ".py",
   "mimetype": "text/x-python",
   "name": "python",
   "nbconvert_exporter": "python",
   "pygments_lexer": "ipython3",
   "version": "3.9.7"
  }
 },
 "nbformat": 4,
 "nbformat_minor": 5
}
