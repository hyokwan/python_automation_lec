{
 "cells": [
  {
   "cell_type": "markdown",
   "id": "ce293c94-2d58-40cc-a168-f587fc31f3db",
   "metadata": {},
   "source": [
    "### 1. 창만들기"
   ]
  },
  {
   "cell_type": "code",
   "execution_count": 10,
   "id": "17f407f2-79c5-4263-8301-2928ae0cec20",
   "metadata": {},
   "outputs": [],
   "source": [
    "# 라이브러리 선언\n",
    "import tkinter as tk\n",
    "\n",
    "# 창 객체 생성\n",
    "app = tk.Tk()\n",
    "# 창 실행\n",
    "app.mainloop()"
   ]
  },
  {
   "cell_type": "code",
   "execution_count": 17,
   "id": "d628daa5-df7d-478c-8ad6-408812ddf672",
   "metadata": {},
   "outputs": [],
   "source": [
    "# 라이브러리 선언\n",
    "import tkinter as tk\n",
    "\n",
    "# 창 객체 생성\n",
    "app = tk.Tk()\n",
    "\n",
    "app.geometry(\"500x500\")\n",
    "app.title(\"kopo\")\n",
    "app.option_add(\"*Font\",\"맑은고딕 15\")\n",
    "window.mainloop()"
   ]
  },
  {
   "cell_type": "markdown",
   "id": "e7b58124-8590-4abf-aae2-3e58d3b959a4",
   "metadata": {},
   "source": [
    "### 2. 버튼 만들기"
   ]
  },
  {
   "cell_type": "code",
   "execution_count": 18,
   "id": "37d3c074-347f-45b4-8577-7af231df1efe",
   "metadata": {},
   "outputs": [],
   "source": [
    "# 창 객체 생성\n",
    "app = tk.Tk()"
   ]
  },
  {
   "cell_type": "code",
   "execution_count": 19,
   "id": "51834cd3-3c67-44af-a63a-a01954c8dfb4",
   "metadata": {},
   "outputs": [],
   "source": [
    "# 창 생성\n",
    "app.geometry(\"300x300\")\n",
    "app.title(\"kopo\")\n",
    "app.option_add(\"*Font\",\"맑은고딕 15\")"
   ]
  },
  {
   "cell_type": "code",
   "execution_count": 20,
   "id": "e0cb8e93-a3f1-44b1-821f-d0e1939d6b67",
   "metadata": {},
   "outputs": [],
   "source": [
    "# 버튼 생성\n",
    "btn = tk.Button(app, text=\"버튼\")\n",
    "btn.config(width=\"10\", height=\"2\")\n",
    "def alert():\n",
    "    print(\"버튼 클릭\")\n",
    "btn.config(command=alert)"
   ]
  },
  {
   "cell_type": "code",
   "execution_count": 21,
   "id": "6da9fc30-8931-4118-bb7c-5a52aace6d9d",
   "metadata": {},
   "outputs": [
    {
     "name": "stdout",
     "output_type": "stream",
     "text": [
      "버튼 클릭\n"
     ]
    }
   ],
   "source": [
    "# 버튼 구성 및 창 실행\n",
    "btn.pack()\n",
    "app.mainloop()"
   ]
  },
  {
   "cell_type": "markdown",
   "id": "148d1b27-19f2-4175-8396-92655419e1a6",
   "metadata": {},
   "source": [
    "### 3. 입력창 만들기"
   ]
  },
  {
   "cell_type": "code",
   "execution_count": 22,
   "id": "15158875-7f9a-4c59-a9b3-3a7577a292a1",
   "metadata": {},
   "outputs": [],
   "source": [
    "import tkinter as tk\n",
    "app = tk.Tk()\n",
    "app.geometry(\"300x300\")\n",
    "app.option_add(\"*Font\",\"맑은고딕 15\")\n",
    "ent = tk.Entry(app)"
   ]
  },
  {
   "cell_type": "code",
   "execution_count": 23,
   "id": "62e64be3-243a-4c5b-a844-368efc29f6dd",
   "metadata": {},
   "outputs": [],
   "source": [
    "def func():\n",
    "    entText = ent.get()\n",
    "    btn2.config(text=entText)"
   ]
  },
  {
   "cell_type": "code",
   "execution_count": 24,
   "id": "e837f1a5-6b60-4ae6-8f47-60691c31cce8",
   "metadata": {},
   "outputs": [],
   "source": [
    "# 버튼 생성\n",
    "btn = tk.Button(app)\n",
    "btn2 = tk.Button(app)\n",
    "btn.config(text=\"입력값 확인\")\n",
    "btn.config(command=func)\n",
    "\n",
    "ent.pack()\n",
    "btn.pack()\n",
    "btn2.pack()\n",
    "app.mainloop()"
   ]
  },
  {
   "cell_type": "markdown",
   "id": "34be9248-73d7-4892-addd-654f3d2e0ac1",
   "metadata": {},
   "source": [
    "### [실습] 제시된데이터프레임을 활용하여 번호에 맞는 이름을 찾는 프로그램을 작성"
   ]
  },
  {
   "cell_type": "code",
   "execution_count": 25,
   "id": "d1007515-5ed9-4556-af62-48fa4e21b80b",
   "metadata": {},
   "outputs": [],
   "source": [
    "import tkinter as tk\n",
    "app = tk.Tk()\n",
    "app.option_add(\"*Font\",\"맑은고딕 15\")\n",
    "app.geometry(\"300x300\")\n",
    "ent = tk.Entry(app)\n",
    "ent.pack()"
   ]
  },
  {
   "cell_type": "code",
   "execution_count": 26,
   "id": "5cb349ab-e58f-4e0f-9644-36259db7bee4",
   "metadata": {},
   "outputs": [
    {
     "data": {
      "text/html": [
       "<div>\n",
       "<style scoped>\n",
       "    .dataframe tbody tr th:only-of-type {\n",
       "        vertical-align: middle;\n",
       "    }\n",
       "\n",
       "    .dataframe tbody tr th {\n",
       "        vertical-align: top;\n",
       "    }\n",
       "\n",
       "    .dataframe thead th {\n",
       "        text-align: right;\n",
       "    }\n",
       "</style>\n",
       "<table border=\"1\" class=\"dataframe\">\n",
       "  <thead>\n",
       "    <tr style=\"text-align: right;\">\n",
       "      <th></th>\n",
       "      <th>no</th>\n",
       "      <th>name</th>\n",
       "    </tr>\n",
       "  </thead>\n",
       "  <tbody>\n",
       "    <tr>\n",
       "      <th>0</th>\n",
       "      <td>101</td>\n",
       "      <td>김효관</td>\n",
       "    </tr>\n",
       "    <tr>\n",
       "      <th>1</th>\n",
       "      <td>102</td>\n",
       "      <td>이순신</td>\n",
       "    </tr>\n",
       "    <tr>\n",
       "      <th>2</th>\n",
       "      <td>103</td>\n",
       "      <td>김어진</td>\n",
       "    </tr>\n",
       "  </tbody>\n",
       "</table>\n",
       "</div>"
      ],
      "text/plain": [
       "    no name\n",
       "0  101  김효관\n",
       "1  102  이순신\n",
       "2  103  김어진"
      ]
     },
     "execution_count": 26,
     "metadata": {},
     "output_type": "execute_result"
    }
   ],
   "source": [
    "import pandas as pd\n",
    "colName = [\"no\",\"name\"]\n",
    "testDf = pd.DataFrame( [[\"101\",\"김효관\"],\n",
    "                        [\"102\",\"이순신\"],\n",
    "                        [\"103\",\"김어진\"]],\n",
    "                      columns=colName)\n",
    "testDf"
   ]
  },
  {
   "cell_type": "code",
   "execution_count": 27,
   "id": "f9068b39-587f-497d-935b-4fc8b63c4a30",
   "metadata": {},
   "outputs": [
    {
     "data": {
      "text/plain": [
       "'김효관'"
      ]
     },
     "execution_count": 27,
     "metadata": {},
     "output_type": "execute_result"
    }
   ],
   "source": [
    "testDf.loc[testDf.no==\"101\",\"name\"].values[0]"
   ]
  },
  {
   "cell_type": "code",
   "execution_count": 28,
   "id": "7ae8ef70-727a-4c7d-b107-64044ed72df7",
   "metadata": {},
   "outputs": [],
   "source": [
    "def searchName():\n",
    "    keywords = ent.get()\n",
    "    keywords = str(keywords)\n",
    "    try:\n",
    "        answer = testDf.loc[testDf.no==keywords,\"name\"].values[0]\n",
    "    except:\n",
    "        answer = \"없음\"\n",
    "\n",
    "    btn2.config(text=answer)\n",
    "    print(keywords)\n",
    "    print(answer)"
   ]
  },
  {
   "cell_type": "code",
   "execution_count": 29,
   "id": "8a5bdfbe-0aba-4712-9843-5a4c3d3732e0",
   "metadata": {},
   "outputs": [
    {
     "name": "stdout",
     "output_type": "stream",
     "text": [
      "김효관\n",
      "없음\n"
     ]
    }
   ],
   "source": [
    "btn = tk.Button(app)\n",
    "btn2 = tk.Button(app)\n",
    "btn.config(text=\"이름 확인\")\n",
    "btn.config(command=searchName)\n",
    "\n",
    "btn.pack()\n",
    "btn2.pack()\n",
    "app.mainloop()"
   ]
  },
  {
   "cell_type": "markdown",
   "id": "33e02d40-fd0b-480d-bffe-faaf3068e84a",
   "metadata": {},
   "source": [
    "### 4. 라벨 만들기"
   ]
  },
  {
   "cell_type": "code",
   "execution_count": 30,
   "id": "ab475a09-de9e-47e8-adb9-1e346ecb9aa9",
   "metadata": {},
   "outputs": [],
   "source": [
    "import tkinter as tk\n",
    "app = tk.Tk()\n",
    "app.geometry(\"300x300\")\n",
    "app.option_add(\"*Font\",\"맑은고딕 15\")\n",
    "\n",
    "ent = tk.Entry(app)\n",
    "ent.pack()"
   ]
  },
  {
   "cell_type": "code",
   "execution_count": 31,
   "id": "52a98e63-6f88-4d67-80ff-d94cfce85da8",
   "metadata": {},
   "outputs": [],
   "source": [
    "def func():\n",
    "    entText = ent.get()\n",
    "    labResult.config(text=entText)"
   ]
  },
  {
   "cell_type": "code",
   "execution_count": 32,
   "id": "b01bad64-8e8d-4ee3-a9e9-ddc9dcbf0107",
   "metadata": {},
   "outputs": [],
   "source": [
    "# 버튼 생성\n",
    "btn = tk.Button(app)\n",
    "labResult = tk.Label(app)\n",
    "btn.config(text=\"입력값 확인\")\n",
    "btn.config(command=func)\n",
    "\n",
    "btn.pack()\n",
    "labResult.pack()\n",
    "app.mainloop()"
   ]
  },
  {
   "cell_type": "code",
   "execution_count": 37,
   "id": "0459c570-75c2-44af-89ff-eb9b78689457",
   "metadata": {},
   "outputs": [],
   "source": [
    "import tkinter as tk\n",
    "app = tk.Tk()\n",
    "app.geometry(\"900x300\")\n",
    "app.option_add(\"*Font\",\"맑은고딕 15\")\n",
    "\n",
    "ent = tk.Entry(app)\n",
    "ent.pack()\n",
    "\n",
    "def func():\n",
    "    entText = ent.get()\n",
    "    labResult.config(text=entText)\n",
    "    \n",
    "    # 버튼 생성\n",
    "btn = tk.Button(app)\n",
    "labResult = tk.Label(app)\n",
    "btn.config(text=\"입력값 확인\")\n",
    "btn.config(command=func)\n",
    "\n",
    "lab_img = tk.Label(app)\n",
    "img=tk.PhotoImage(file=\"../images/samsung.png\",master=app)\n",
    "img = img.subsample(3)\n",
    "lab_img.config(image=img)\n",
    "\n",
    "# pack 순서대로 배치됨\n",
    "btn.pack()\n",
    "labResult.pack()\n",
    "lab_img.pack()\n",
    "app.mainloop()"
   ]
  },
  {
   "cell_type": "markdown",
   "id": "dd8620c1-db53-4063-8081-21db45476e12",
   "metadata": {},
   "source": [
    "### 5. 위젯 배치하기"
   ]
  },
  {
   "cell_type": "code",
   "execution_count": 97,
   "id": "ae932bc6-5634-48d3-be28-93016ef1b194",
   "metadata": {},
   "outputs": [],
   "source": [
    "import tkinter as tk\n",
    "app = tk.Tk()\n",
    "app.geometry(\"300x300\")\n",
    "app.option_add(\"*Font\",\"맑은고딕 15\")\n",
    "\n",
    "btn = tk.Button(app)\n",
    "btn.config(text=\"버튼\")\n",
    "btn.pack(side=\"bottom\")\n",
    "\n",
    "btn2 = tk.Button(app)\n",
    "btn2.config(text=\"버튼2\")\n",
    "btn2.pack(side=\"left\")\n",
    "app.mainloop()\n"
   ]
  },
  {
   "cell_type": "code",
   "execution_count": 111,
   "id": "f015dbbc-a6e5-4564-959e-2045f4c82a71",
   "metadata": {},
   "outputs": [],
   "source": [
    "import tkinter as tk\n",
    "app = tk.Tk()\n",
    "app.geometry(\"300x300\")\n",
    "app.option_add(\"*Font\",\"맑은고딕 15\")\n",
    "\n",
    "btn = tk.Button(app)\n",
    "btn.config(text=\"버튼\")\n",
    "btn.grid(column=0, row=0)\n",
    "\n",
    "btn2 = tk.Button(app)\n",
    "btn2.config(text=\"버튼2\")\n",
    "btn2.grid(column=1, row=1)\n",
    "\n",
    "btn3 = tk.Button(app)\n",
    "btn3.config(text=\"버튼3\")\n",
    "btn3.grid(column=3, row=5)\n",
    "\n",
    "app.mainloop()\n"
   ]
  },
  {
   "cell_type": "code",
   "execution_count": 113,
   "id": "5c7d6da3-4865-4177-929c-266e4a1624e3",
   "metadata": {},
   "outputs": [],
   "source": [
    "import tkinter as tk\n",
    "app = tk.Tk()\n",
    "app.geometry(\"300x300\")\n",
    "app.option_add(\"*Font\",\"맑은고딕 15\")\n",
    "\n",
    "btn = tk.Button(app)\n",
    "btn.config(text=\"버튼\")\n",
    "btn.place(x=0, y=0)\n",
    "\n",
    "btn2 = tk.Button(app)\n",
    "btn2.config(text=\"버튼2\")\n",
    "btn2.place(x=100, y=100)\n",
    "\n",
    "btn3 = tk.Button(app)\n",
    "btn3.config(text=\"버튼3\")\n",
    "btn3.place(x=150, y=200)\n",
    "\n",
    "app.mainloop()\n"
   ]
  }
 ],
 "metadata": {
  "kernelspec": {
   "display_name": "Python 3 (ipykernel)",
   "language": "python",
   "name": "python3"
  },
  "language_info": {
   "codemirror_mode": {
    "name": "ipython",
    "version": 3
   },
   "file_extension": ".py",
   "mimetype": "text/x-python",
   "name": "python",
   "nbconvert_exporter": "python",
   "pygments_lexer": "ipython3",
   "version": "3.9.7"
  }
 },
 "nbformat": 4,
 "nbformat_minor": 5
}
