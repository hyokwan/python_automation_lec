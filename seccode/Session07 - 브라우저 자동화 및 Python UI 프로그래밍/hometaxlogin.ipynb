{
 "cells": [
  {
   "cell_type": "code",
   "execution_count": 5,
   "id": "ed6e0a3e-61bb-457b-bff2-080fd2e134b1",
   "metadata": {},
   "outputs": [],
   "source": [
    "import requests\n",
    "from bs4 import BeautifulSoup\n",
    "\n",
    "url = 'https://www.coupang.com/np/categories/194810?page=1'\n",
    "\n",
    "headers = {'User-Agent': 'Mozilla/5.0 (Windows NT 10.0; Win64; x64; rv:86.0) Gecko/20100101 Firefox/86.0',}\n",
    "\n",
    "data=requests.get( url , headers)"
   ]
  },
  {
   "cell_type": "code",
   "execution_count": 2,
   "id": "b7e0d8af-4467-4028-98a4-003a8ab4165e",
   "metadata": {},
   "outputs": [
    {
     "data": {
      "text/plain": [
       "<Response [200]>"
      ]
     },
     "execution_count": 4,
     "metadata": {},
     "output_type": "execute_result"
    }
   ],
   "source": [
    "data"
   ]
  },
  {
   "cell_type": "code",
   "execution_count": null,
   "id": "7ff238fa-58dc-4b0b-9390-a82136c7aabf",
   "metadata": {},
   "outputs": [],
   "source": []
  },
  {
   "cell_type": "code",
   "execution_count": null,
   "id": "22708d07-5dba-468d-b3f5-3812d921a38e",
   "metadata": {},
   "outputs": [],
   "source": []
  },
  {
   "cell_type": "code",
   "execution_count": null,
   "id": "7c41c22c-a224-4daa-bef4-c2255df67186",
   "metadata": {},
   "outputs": [],
   "source": []
  },
  {
   "cell_type": "code",
   "execution_count": 1,
   "id": "c1d6d199-544d-4a5a-9da6-13b09c67e0d9",
   "metadata": {},
   "outputs": [],
   "source": [
    "# from selenium import webdriver\n",
    "# from bs4 import BeautifulSoup\n",
    "# import os\n",
    "# from os.path import join, dirname\n",
    "\n",
    "# if os.name == 'nt':\n",
    "#     os_name = 'nt'\n",
    "# elif os.name == 'mac':\n",
    "#     os_name = 'mac'\n",
    "# else:\n",
    "#     os_name = 'linux'\n",
    "\n",
    "# if os_name == 'nt':\n",
    "#     dirver_loc = \"d:/chromedriver/chromedriver.exe\"\n",
    "# else:\n",
    "#     dirver_loc = \"/home/download/chromedriver/chromedriver.exe\""
   ]
  },
  {
   "cell_type": "markdown",
   "id": "a6160a3f-5247-4204-9d87-fdf2eda3cd0d",
   "metadata": {},
   "source": [
    "### (1) 라이브러리 선언 및 드라이버 설정"
   ]
  },
  {
   "cell_type": "code",
   "execution_count": 2,
   "id": "5b6af013-072d-4db0-ae08-f76f032058e5",
   "metadata": {},
   "outputs": [
    {
     "name": "stderr",
     "output_type": "stream",
     "text": [
      "C:\\Users\\kopo\\AppData\\Local\\Temp/ipykernel_2288/3446001489.py:15: DeprecationWarning: executable_path has been deprecated, please pass in a Service object\n",
      "  driver = webdriver.Chrome(driver_loc, options=options)\n"
     ]
    }
   ],
   "source": [
    "# 라이브러리 선언\n",
    "from selenium import webdriver\n",
    "\n",
    "# 드라이버 위치 설정\n",
    "driver_loc = \"../externlib/chromedriver/chromedriver.exe\"\n",
    "\n",
    "# 드라이버 옵션 설정\n",
    "options = webdriver.ChromeOptions()\n",
    "options.add_argument(\"window-size=1920x1080\")\n",
    "\n",
    "# 헤드리스 설정 시 리눅스 같이 웹화면 없는경우에도 웹페이지 실행가능함\n",
    "# options.add_argument('headless’)\n",
    "# options.add_argument(\"disable-gpu\")\n",
    "# 웹 드라이버 정의\n",
    "driver = webdriver.Chrome(driver_loc, options=options)\n",
    "# 웹페이지 파싱 될때까지 최대 3초 기다림\n",
    "driver.implicitly_wait(3)"
   ]
  },
  {
   "cell_type": "markdown",
   "id": "3e9e6c8d-9123-4cba-8cfe-a23953fc5e4f",
   "metadata": {},
   "source": [
    "### (2) 웹페이지 이동"
   ]
  },
  {
   "cell_type": "code",
   "execution_count": 3,
   "id": "e2dd7bb2-e3a2-431b-b734-b58b2831a1bc",
   "metadata": {},
   "outputs": [],
   "source": [
    "from selenium.webdriver.common.keys import Keys"
   ]
  },
  {
   "cell_type": "code",
   "execution_count": 4,
   "id": "3d5f2854-b746-4970-860c-194584c56259",
   "metadata": {},
   "outputs": [],
   "source": [
    "options = webdriver.ChromeOptions()# URL 정의\n",
    "baseUrl = \"https://www.hometax.go.kr/websquare/websquare.html?w2xPath=/ui/pp/index.xml\"\n",
    "\n",
    "# URL 이동\n",
    "driver.get(baseUrl)\n"
   ]
  },
  {
   "cell_type": "code",
   "execution_count": 5,
   "id": "2dfa4f24-c3c9-46b7-8beb-235efa13c866",
   "metadata": {},
   "outputs": [
    {
     "data": {
      "text/plain": [
       "'https://www.hometax.go.kr/websquare/websquare.html?w2xPath=/ui/pp/index.xml'"
      ]
     },
     "execution_count": 5,
     "metadata": {},
     "output_type": "execute_result"
    }
   ],
   "source": [
    "# 현재 URL 정보 \n",
    "driver.current_url"
   ]
  },
  {
   "cell_type": "markdown",
   "id": "67f21ce8-3bf5-477e-b969-15fad55b34a3",
   "metadata": {},
   "source": [
    "### (3)로그인 페이지 이동"
   ]
  },
  {
   "cell_type": "code",
   "execution_count": 6,
   "id": "434f684c-0095-4488-a1e4-8fd172cecc82",
   "metadata": {},
   "outputs": [
    {
     "name": "stderr",
     "output_type": "stream",
     "text": [
      "C:\\Users\\kopo\\AppData\\Local\\Temp/ipykernel_2288/3136143014.py:2: DeprecationWarning: find_element_by_xpath is deprecated. Please use find_element(by=By.XPATH, value=xpath) instead\n",
      "  driver.find_element_by_xpath(xpath1_Login).click()\n"
     ]
    }
   ],
   "source": [
    "xpath1_Login = '//*[@id=\"textbox81212912\"]'\n",
    "driver.find_element_by_xpath(xpath1_Login).click()"
   ]
  },
  {
   "cell_type": "markdown",
   "id": "80da967e-50cb-4387-ab54-1ba4d33ec926",
   "metadata": {},
   "source": [
    "### (4) 숨겨진 iframe 찾기"
   ]
  },
  {
   "cell_type": "code",
   "execution_count": 7,
   "id": "829140bc-33c7-4664-875b-501de1b02630",
   "metadata": {},
   "outputs": [
    {
     "name": "stdout",
     "output_type": "stream",
     "text": [
      "\n",
      "txppIframe\n",
      "__processbarIFrame\n"
     ]
    },
    {
     "name": "stderr",
     "output_type": "stream",
     "text": [
      "C:\\Users\\kopo\\AppData\\Local\\Temp/ipykernel_2288/4149910789.py:1: DeprecationWarning: find_elements_by_css_selector is deprecated. Please use find_elements(by=By.CSS_SELECTOR, value=css_selector) instead\n",
      "  iframes = driver.find_elements_by_css_selector('iframe')\n"
     ]
    }
   ],
   "source": [
    "iframes = driver.find_elements_by_css_selector('iframe')\n",
    "for iframe in iframes:\n",
    "    print(iframe.get_attribute('name'))"
   ]
  },
  {
   "cell_type": "code",
   "execution_count": 8,
   "id": "7672baff-2eb1-419a-a13e-d018bb8366b8",
   "metadata": {},
   "outputs": [],
   "source": [
    "driver.switch_to.frame(\"txppIframe\") # 특정 프레임으로 전환"
   ]
  },
  {
   "cell_type": "markdown",
   "id": "e59c7193-406c-47fe-a602-117a071abddd",
   "metadata": {},
   "source": [
    "### (5) 웹페이지내 소스 확인"
   ]
  },
  {
   "cell_type": "code",
   "execution_count": 10,
   "id": "314205dc-d7c4-48eb-8d6f-6ae1805b6547",
   "metadata": {
    "scrolled": true,
    "tags": []
   },
   "outputs": [
    {
     "data": {
      "text/plain": [
       "'<html xmlns=\"http://www.w3.org/1999/xhtml\" xmlns:ev=\"http://www.w3.org/2001/xml-events\" xmlns:w2=\"http://www.inswave.com/websquare\" xmlns:xf=\"http://www.w3.org/2002/xforms\" xml:lang=\"ko\" lang=\"ko\"><head>\\n\\t\\t<meta http-equiv=\"Content-Type\" content=\"text/html; charset=UTF-8\">\\n\\t\\t<meta http-equiv=\"X-UA-Compatible\" content=\"IE=Edge\">\\n\\t\\t<link type=\"text/css\" href=\"/css/comm/common.css\" rel=\"stylesheet\">\\n\\t\\t<link type=\"text/css\" href=\"/css/comm/style.css\" rel=\"stylesheet\">\\n\\t\\t<link type=\"text/css\" href=\"/css/comm/style02.css\" rel=\"stylesheet\">\\n\\t\\t<!--[if IE 7]>\\n\\t\\t<link rel=\"stylesheet\" href=\"/css/comm/style_ie7.css\" type=\"text/css\"/>\\n\\t\\t<![endif]-->\\n\\t\\t<title> 국세청 홈택스 </title>\\n\\t\\t<script type=\"text/javascript\" src=\"xxx.js\"></script>\\n\\t\\t<!-- <script type=\"text/javascript\" src=\"javascript.wq?q=/bootloader\"></script> -->\\n\\t\\t<script type=\"text/javascript\" src=\"javascriptPluginAll_NTS_6.js\"></script><script type=\"text/javascript\" charset=\"UTF-8\" src=\"/websquare/message/ko.js?postfix=2022_03_31\"></script><script type=\"text/javascript\" src=\"externalJS/big/big.min.js?postfix=2022_03_31\"></script>\\n\\t\\t<script type=\"text/javascript\">\\n\\t\\t\\t\\tvar WebSquareExternal = {\\n\\t\\t\\t\\t\\t\"configCacheMode\" : \"hometax\"\\n\\t\\t\\t\\t}\\n\\t\\t</script>\\n\\t\\t<script type=\"text/javascript\">\\n\\t\\t\\twindow.onload = init;\\n\\n\\t\\t\\tfunction init() {\\n\\t\\t\\t\\t//alert(\"websquare_html4.html\");\\n\\t\\t\\t\\ttry{\\n\\t\\t\\t\\t    imports(\\'uiplugin.popup\\');\\n\\t\\t\\t\\t\\tWebSquare.startApplication();\\n\\t\\t\\t\\t} catch(e) {\\n\\t\\t\\t\\t\\twindow.location.href = \"/html/comm/error/cmErrorPage.html\";\\n\\t\\t\\t\\t}\\n\\t\\t\\t}\\n\\t\\t</script>\\n\\t<link href=\"/websquare/skin/stylesheet.css\" type=\"text/css\" rel=\"stylesheet\"><link href=\"/css/comm/common.css\" type=\"text/css\" rel=\"stylesheet\"><link href=\"/css/comm/style.css\" type=\"text/css\" rel=\"stylesheet\"><link href=\"/css/comm/style02.css\" type=\"text/css\" rel=\"stylesheet\"><script type=\"text/javascript\" charset=\"utf-8\" src=\"/js/comm/ui/common_const.js?postfix=2022_03_31\"></script><script type=\"text/javascript\" charset=\"utf-8\" src=\"/js/comm/ui/common_util.js?postfix=2022_03_31\"></script><script type=\"text/javascript\" charset=\"utf-8\" src=\"/js/comm/ui/common_ajax.js?postfix=2022_03_31\"></script><script type=\"text/javascript\" charset=\"utf-8\" src=\"/js/comm/ui/common_log.js?postfix=2022_03_31\"></script><script type=\"text/javascript\" charset=\"utf-8\" src=\"/js/comm/ui/common.js?postfix=2022_03_31\"></script><script type=\"text/javascript\" charset=\"utf-8\" src=\"/js/pp/common_pp.js?postfix=2022_03_31\"></script><script type=\"text/javascript\" charset=\"utf-8\" src=\"/js/comm/jquery/layout.js?postfix=2022_03_31\"></script><script type=\"text/javascript\" charset=\"utf-8\" src=\"/js/comm/magicLine/deployJava.js?postfix=2022_03_31\"></script><script type=\"text/javascript\" charset=\"utf-8\" src=\"/js/comm/magicLine/PluginDetect.js?postfix=2022_03_31\"></script><script type=\"text/javascript\" charset=\"utf-8\" src=\"/js/comm/magicLine/MagicLine.js?postfix=2022_03_31\"></script><script type=\"text/javascript\" charset=\"utf-8\" src=\"/js/comm/magicLineNX/jquery-1.10.2.js?postfix=2022_03_31\"></script><script type=\"text/javascript\" charset=\"utf-8\" src=\"/js/comm/magicLineNX/jquery-ui.min.js?postfix=2022_03_31\"></script><script type=\"text/javascript\" charset=\"utf-8\" src=\"/js/comm/magicLineNX/jquery.blockUI.js?postfix=2022_03_31\"></script><script type=\"text/javascript\" charset=\"utf-8\" src=\"/js/comm/magicLineNX/json2.js?postfix=2022_03_31\"></script><script type=\"text/javascript\" charset=\"utf-8\" src=\"/js/comm/magicLineNX/ML_Config.js?postfix=2022_03_31\"></script><script type=\"text/javascript\" charset=\"utf-8\" src=\"/js/comm/magicLineNX/MagicLine_Common_API.js?postfix=2022_03_31\"></script><script type=\"text/javascript\" charset=\"utf-8\" src=\"/js/comm/ipinsideNX/IPinside_v6_config.js?postfix=2022_03_31\"></script><script type=\"text/javascript\" charset=\"utf-8\" src=\"/js/comm/ipinsideNX/IPinside_v6_engine.min.js?postfix=2022_03_31\"></script><script type=\"text/javascript\" charset=\"utf-8\" src=\"/js/comm/ipinsideNX/IPinside_v6.js?postfix=2022_03_31\"></script><script type=\"text/javascript\" charset=\"utf-8\" src=\"/js/comm/magicLineNX/ntscssign_api.js?postfix=2022_03_31\"></script><script type=\"text/javascript\" charset=\"utf-8\" src=\"/js/comm/raonsecure/TouchEn/cmn/TouchEnNx_config.js?postfix=2022_03_31\"></script><script type=\"text/javascript\" charset=\"utf-8\" src=\"/js/comm/raonsecure/TouchEn/cmn/TouchEnNx_exproto.js?postfix=2022_03_31\"></script><script type=\"text/javascript\" charset=\"utf-8\" src=\"/js/comm/raonsecure/TouchEn/cmn/TouchEnNx_install.js?postfix=2022_03_31\"></script><script type=\"text/javascript\" charset=\"utf-8\" src=\"/js/comm/raonsecure/TouchEn/cmn/TouchEnNx_daemon.js?postfix=2022_03_31\"></script><script type=\"text/javascript\" charset=\"utf-8\" src=\"/js/comm/raonsecure/TouchEn/nxKey/js/TouchEnNxKey_Interface.js?postfix=2022_03_31\"></script><script type=\"text/javascript\" charset=\"utf-8\" src=\"/js/comm/raonsecure/TouchEn/nxKey/js/TouchEnNxKey.js?postfix=2022_03_31\"></script><script type=\"text/javascript\" charset=\"utf-8\" src=\"/js/comm/raonsecure/TouchEn/cmn/TouchEnNx_loader.js?postfix=2022_03_31\"></script><script type=\"text/javascript\" charset=\"utf-8\" src=\"/js/comm/raonsecure/TouchEn/nxFw/js/TouchEnNxFirewall_Interface.js?postfix=2022_03_31\"></script><script type=\"text/javascript\" charset=\"utf-8\" src=\"/js/comm/raonsecure/TouchEn/nxFw/js/TouchEnNxFirewall.js?postfix=2022_03_31\"></script><script type=\"text/javascript\" charset=\"utf-8\" src=\"/js/comm/ui/nts-report.min.js?postfix=2022_03_31\"></script><script type=\"text/javascript\" charset=\"utf-8\" src=\"/js/comm/ui/common_te-min.js?postfix=2022_03_31\"></script><script type=\"text/javascript\" charset=\"utf-8\" src=\"/js/comm/jquery/jquery-1.10.2.js?postfix=2022_03_31\"></script><script type=\"text/javascript\" src=\"/js/pp/common_menuInfr.js?ver=20220331\"></script><script type=\"text/javascript\" charset=\"utf-8\" src=\"/token.do?query=_blg17NGfEAQ4bC35RgMt&amp;postfix=2022_03_31\"></script><script type=\"text/javascript\" charset=\"utf-8\" src=\"/js/comm/rexpert/base64.js?postfix=2022_03_31\"></script><script type=\"text/javascript\" charset=\"utf-8\" src=\"/js/comm/rexpert/json2.js?postfix=2022_03_31\"></script><script type=\"text/javascript\" charset=\"utf-8\" src=\"/js/comm/rexpert/rexpert.print.service.min.js?postfix=2022_03_31\"></script><script type=\"text/javascript\" charset=\"utf-8\" src=\"/js/comm/ui/common_te_util.js?postfix=2022_03_31\"></script><script type=\"text/javascript\" charset=\"utf-8\" src=\"/js/comm/ui/common_message.js?postfix=2022_03_31\"></script><script type=\"text/javascript\" charset=\"utf-8\" src=\"/js/comm/ui/common_biz.js?postfix=2022_03_31\"></script><script type=\"text/javascript\" charset=\"utf-8\" src=\"/js/comm/jquery/jquery-1.10.2.js?postfix=2022_03_31\"></script><script type=\"text/javascript\" charset=\"utf-8\" src=\"https://sesw.hometax.go.kr/secs/veraportNX/veraport20.js?postfix=2022_03_31\"></script><script type=\"text/javascript\" charset=\"utf-8\" src=\"https://sesw.hometax.go.kr/secs/veraportNX/veraport20_multi.js?postfix=2022_03_31\"></script><script type=\"text/javascript\" charset=\"utf-8\" src=\"https://sesw.hometax.go.kr/secs/veraportNX/veraport20_handler.js?postfix=2022_03_31\"></script><script type=\"text/javascript\" charset=\"utf-8\" src=\"/js/comm/jquery/jquery.blockUI.js?postfix=2022_03_31\"></script><link type=\"text/css\" rel=\"stylesheet\" href=\"https://sesw.hometax.go.kr/secs/veraportNX/sitelogo/veraport20.css?20131115\"></head>\\n<body class=\"\" style=\"zoom: 100%;\"><div id=\"group1388\" class=\"w2group container\"><div id=\"cmheader\" class=\"w2wframe \"></div><div id=\"group91882132\" style=\"padding-top:20px;\" class=\"w2group wrap_contarea newLogin\"><div id=\"group91882133\" class=\"w2group newLogin\"><div id=\"group91882136\" class=\"w2group section_group\"><div id=\"group91882135\" class=\"w2group login_title_box\"><div id=\"group91882137\" class=\"w2group sp_txt login_txt04\"><span id=\"textbox10881928\" class=\"w2textbox screen_hide\">안녕하세요! 국세청 홈택스에 오신것을 환영합니다.</span></div></div><div id=\"group91882138\" class=\"w2group login_top_list\"><div id=\"group91882139\" class=\"w2group fl\"><p id=\"textbox10881929\" class=\"w2textbox \"><span class=\"icon\"></span>로그인 안되는 경우 <span class=\"txt_red\">[로그인 안내]</span>를 눌러 <span class=\"txt_red\">도움</span>받으세요.</p><a id=\"anchor27\" class=\"w2anchor2 btn btn_common\" href=\"javascript:void(0);\" title=\"새창\"><span>로그인 안내</span></a></div><div id=\"group91882140\" class=\"w2group fr layerpop_wrap\"><p id=\"group91882141\" class=\"w2group \"><span id=\"textbox10881930\" class=\"w2textbox txt screen_hide\">PC용 보안 프로그램</span><a id=\"textbox10881931\" class=\"w2textbox btn btn_popup02 open-lp\" aria-controls=\"lp1\" href=\"javascript:void(0);\" title=\"pc용 보안프로그램 적용 팝업 열기\"><span>적용</span></a></p><div id=\"lp1\" style=\"top:0;right:0\" class=\"w2group layer-pop\" role=\"dialog\" aria-modal=\"true\" aria-labelledby=\"lp-title\"><div id=\"group91882143\" class=\"w2group layer-pop-wrap\"><a id=\"anchor10\" class=\"w2anchor2 layer-pop-close\" href=\"javascript:void(0);\"><span class=\"txt screen_hide\">닫기</span></a><dl id=\"group91882144\" class=\"w2group \"><dt id=\"textbox10881932\" class=\"w2textbox \"><span class=\"icon\"></span><span class=\"txt screen_hide\">PC용 보안 프로그램</span></dt><dd id=\"textbox10881933\" class=\"w2textbox txt\">PC보호와 키보드보안 프로그램 이용여부를 선택한 후 &nbsp;<strong class=\"txt_red\">[적용]</strong>하시면 프로그램이 설치됩니다.</dd><dd id=\"group91882145\" class=\"w2group \"><div id=\"group91882148\" style=\"margin:2px 25px 0 0\" class=\"w2group wrap_radiocheck row_type fl\"><div id=\"group91861\" class=\"w2group \"><div id=\"ckbBaseApp\" class=\"w2checkbox \"><div class=\"w2checkbox_item w2checkbox_item_0\"><input type=\"checkbox\" class=\"w2checkbox_input\" name=\"ckbBaseApp_input\" data-index=\"0\" id=\"ckbBaseApp_input_0\"><label class=\"w2checkbox_label \" data-index=\"0\" for=\"ckbBaseApp_input_0\">PC방화벽 프로그램 이용</label></div><div class=\"w2checkbox_item w2checkbox_item_1\"><input type=\"checkbox\" class=\"w2checkbox_input\" name=\"ckbBaseApp_input\" data-index=\"1\" id=\"ckbBaseApp_input_1\"><label class=\"w2checkbox_label \" data-index=\"1\" for=\"ckbBaseApp_input_1\">키보드보안 프로그램 이용</label></div></div></div></div><a id=\"btnApply\" class=\"w2anchor2 w2anchor2 btn btn_popup02\" href=\"javascript:void(0);\"><span>적용</span></a></dd></dl><a id=\"anchor12\" class=\"w2anchor2 layer-pop-close\" href=\"javascript:void(0);\"><span class=\"txt screen_hide\">닫기</span></a></div></div></div></div></div><div id=\"mmbrLgnTery\" class=\"w2group section_group login_tab_wrap\"><div id=\"group91882150\" class=\"w2group login_tab\"><div id=\"group91882151\" class=\"w2group fl login_tab\"><ul id=\"group91882152\" class=\"w2group \"><li id=\"group91882154\" class=\"w2group on\" data-tab=\"login_tab1\"><a id=\"anchor13\" class=\"w2anchor2 \" href=\"javascript:void(0);\" title=\"탭 선택됨\"><span>공동·금융인증서</span></a><span id=\"textbox10881934\" class=\"w2textbox icon\"></span></li><li id=\"group91882155\" class=\"w2group \" data-tab=\"login_tab2\"><a id=\"anchor14\" class=\"w2anchor2 p\" href=\"javascript:void(0);\"><span>간편인증</span><span class=\"t\">(민간인증서)</span></a><span id=\"textbox10881935\" class=\"w2textbox icon\"></span></li><li id=\"group91882156\" class=\"w2group \" data-tab=\"login_tab3\"><a id=\"anchor15\" class=\"w2anchor2 \" href=\"javascript:void(0);\"><span>아이디 로그인</span></a><span id=\"textbox10881936\" class=\"w2textbox icon\"></span></li><li id=\"group91882158\" class=\"w2group \" data-tab=\"login_tab4\"><a id=\"anchor17\" class=\"w2anchor2 p\" href=\"javascript:void(0);\"><span>생체인증</span><span class=\"t\">(얼굴·지문)</span></a><span id=\"textbox10881938\" class=\"w2textbox icon\"></span></li><li id=\"group91882160\" class=\"w2group \" data-tab=\"login_tab5\"><a id=\"anchor19\" class=\"w2anchor2 \" href=\"javascript:void(0);\"><span>비회원 로그인</span></a><span id=\"textbox10881940\" class=\"w2textbox icon\"></span></li></ul></div><div id=\"group91882161\" class=\"w2group fr login_btn\"><a id=\"anchor20\" class=\"w2anchor2 \" href=\"javascript:void(0);\">회원가입</a><a id=\"anchor21\" class=\"w2anchor2 ml3\" href=\"javascript:void(0);\">인증서 등록</a></div></div><div id=\"group91882163\" class=\"w2group \"><div id=\"login_tab1\" class=\"w2group login_tabcont certiLogin act\"><div id=\"group91882165\" class=\"w2group inner\"><h4 id=\"textbox10881941\" class=\"w2textbox screen_hide\">공동·금융인증서 로그인</h4><p id=\"textbox10881942\" class=\"w2textbox att\">공동·금융인증서로 로그인하려면 해당 <strong class=\"cb\">인증서</strong>가<br>홈택스에 <strong class=\"cb\">사전등록</strong>되어 있어야 합니다.</p><div id=\"group91882166\" class=\"w2group btn_wrap\"><a id=\"anchor22\" class=\"w2anchor2 certibtn\" href=\"javascript:void(0);\"><span><i>공동·금융인증서</i></span></a></div><div id=\"group91882185\" class=\"w2group btn_wrap s\"><a id=\"anchor29\" class=\"w2anchor2 btn btn_common\" href=\"javascript:void(null);\" title=\"새창 열림\"><span>인증서 로그인 안내</span></a></div></div></div><div id=\"login_tab2\" class=\"w2group login_tabcont privLogin\"><div id=\"group91882168\" class=\"w2group inner\"><h4 id=\"textbox10881943\" class=\"w2textbox screen_hide\">간편인증(민간인증서) 로그인</h4><p id=\"textbox10881944\" class=\"w2textbox att\"><strong class=\"cb\">카카오톡, 페이코, 통신사패스, KB모바일, 삼성패스,<br>네이버, 신한은행</strong> 인증서를 이용하여 로그인하실 수 있습니다.</p><div id=\"group91882169\" class=\"w2group btn_wrap\"><a id=\"anchor23\" class=\"w2anchor2 privbtn\" href=\"javascript:void(0);\"><span><i>간편인증</i><i class=\"screen_hide\">카카오톡, 페이코, 통신사패스, KB모바일, 삼성패스, 네이버, 신한은행</i></span></a></div><div id=\"group91882186\" class=\"w2group btn_wrap s\"><a id=\"anchor30\" class=\"w2anchor2 btn btn_common\" href=\"javascript:void(null);\" title=\"새창 열림\"><span>간편인증 로그인 안내</span></a></div></div></div><div id=\"login_tab3\" class=\"w2group login_tabcont basicLogin\"><div id=\"group91882171\" class=\"w2group inner\"><h4 id=\"textbox10881945\" class=\"w2textbox screen_hide\">아이디 로그인</h4><p id=\"textbox10881946\" class=\"w2textbox att\">홈택스 회원 아이디와 비밀번호가 없는 경우<br><strong class=\"cb\">회원가입</strong>을 하셔야합니다.</p><div id=\"group91882173\" class=\"w2group loginbox\"><div id=\"group91882174\" class=\"w2group inputbox\"><p id=\"group91882175\" class=\"w2group \"><label id=\"txtUserId\" class=\"w2textbox screen_hide\" for=\"iptUserId\">아이디</label><input id=\"iptUserId\" class=\"w2input nb\" type=\"text\" title=\"아이디 입력\" name=\"iptUserId\" placeholder=\"아이디\"></p><p id=\"group91882176\" class=\"w2group mt5\"><label id=\"txtUserPw\" class=\"w2textbox screen_hide\" for=\"iptUserPw\">비밀번호</label><input id=\"iptUserPw\" class=\"w2input nb\" type=\"password\" title=\"비밀번호 입력\" name=\"iptUserPw\" placeholder=\"비밀번호\"></p><div id=\"ckbSaveId\" class=\"w2checkbox ck\"><div class=\"w2checkbox_item w2checkbox_item_0\"><input type=\"checkbox\" class=\"w2checkbox_input\" name=\"ckbSaveId_input\" data-index=\"0\" id=\"ckbSaveId_input_0\"><label class=\"w2checkbox_label \" data-index=\"0\" for=\"ckbSaveId_input_0\">아이디 저장</label></div></div></div><div id=\"group91882177\" class=\"w2group btn_wrap\"><a id=\"anchor25\" class=\"w2anchor2 logingbtn\" href=\"javascript:void(0);\"><span><i>로그인</i></span></a></div><div id=\"group91882178\" class=\"w2group btn_wrap etc\"><a id=\"anchor26\" class=\"w2anchor2 btn btn_common\" href=\"javascript:void(0);\"><span>아이디/비밀번호 찾기</span></a></div></div><ul id=\"group91882179\" class=\"w2group ckList\"><li id=\"textbox10881947\" class=\"w2textbox \"><p>아이디는 영문, 숫자포함 6~20자리까지 가능합니다.</p></li><li id=\"textbox10881948\" class=\"w2textbox \"><p>비밀번호는 영문, 숫자포함 9~15자 이내로 입력 가능합니다.</p></li></ul></div></div><div id=\"login_tab4\" class=\"w2group login_tabcont bioLogin\"><div id=\"group91882182\" class=\"w2group inner\"><h4 id=\"textbox10881949\" class=\"w2textbox screen_hide\">생체(얼굴·지문)인증</h4><p id=\"textbox10881950\" style=\"padding-top:30px\" class=\"w2textbox att\"><strong class=\"cb\">모바일 홈택스[손택스]</strong>에<br><strong class=\"cb\">얼굴 또는 지문이 등록</strong>되어 있어야 이용 가능합니다.<span>( ※ 얼굴인증은 아이폰에서만 이용 가능 )</span></p><div id=\"group91882183\" class=\"w2group btn_wrap\"><a id=\"anchor28\" class=\"w2anchor2 biobtn\" href=\"javascript:void(0);\"><span><i>생체(얼굴·지문)인증</i></span></a></div><div id=\"group91882187\" class=\"w2group btn_wrap s\"><a id=\"anchor31\" class=\"w2anchor2 btn btn_common\" href=\"javascript:void(null);\" title=\"새창 열림\"><span>생체(얼굴·지문)인증 로그인 안내</span></a></div></div></div><div id=\"login_tab5\" class=\"w2group login_tabcont nomemLogin\"><div id=\"group91882189\" class=\"w2group inner\"><h4 id=\"textbox10881951\" class=\"w2textbox screen_hide\">비회원 로그인</h4><p id=\"textbox10881952\" class=\"w2textbox att\">회원가입 없이 <strong class=\"cb\">성명, 주민등록번호 및 간단한 본인인증</strong>으로<br>홈택스를 이용하실 수 있습니다.</p><div id=\"grpSpecialType\" style=\"display: none; visibility: hidden;\" class=\"w2group etcwrap mt20\" aria-hidden=\"true\"><p id=\"textbox10881965\" class=\"w2textbox \"><strong class=\"txt_red\">본인인증을 위하여 아래의 네가지 중 하나를 선택하여 주십시요.<br></strong></p><div id=\"group91882224\" class=\"w2group choice_ridio\"><ul id=\"group91882225\" class=\"w2group \"><li id=\"group91882226\" class=\"w2group fl\"><div id=\"rdoSpecialType1\" class=\"w2radio \"><div class=\"w2radio_item w2radio_item_0\"><input type=\"radio\" class=\"w2radio_input\" name=\"certify_method\" data-index=\"0\" id=\"rdoSpecialType1_input_0\"><label class=\"w2radio_label \" data-index=\"0\" for=\"rdoSpecialType1_input_0\">공동·금융인증서</label></div></div></li><li id=\"group91882227\" class=\"w2group fl\"><div id=\"rdoSpecialType4\" class=\"w2radio fl\"><div class=\"w2radio_item w2radio_item_0\"><input type=\"radio\" class=\"w2radio_input\" name=\"certify_method\" data-index=\"0\" id=\"rdoSpecialType4_input_0\"><label class=\"w2radio_label \" data-index=\"0\" for=\"rdoSpecialType4_input_0\">간편인증</label></div></div><p id=\"textbox10881973\" class=\"w2textbox ml10 fl\"><img src=\"/img/comm/img/ico_certilogo.png?20210118\" class=\"w2image\" alt=\"카카오톡, 페이코, 통신사패스, KB모바일, 삼성패스, 네이버, 신한은행\"></p></li><li id=\"group91882228\" class=\"w2group fl\"><div id=\"rdoSpecialType3\" class=\"w2radio \"><div class=\"w2radio_item w2radio_item_0\"><input type=\"radio\" class=\"w2radio_input\" name=\"certify_method\" data-index=\"0\" id=\"rdoSpecialType3_input_0\"><label class=\"w2radio_label \" data-index=\"0\" for=\"rdoSpecialType3_input_0\">신용카드</label></div></div></li><li id=\"group91882229\" class=\"w2group fl\"><div id=\"rdoSpecialType2\" class=\"w2radio \"><div class=\"w2radio_item w2radio_item_0\"><input type=\"radio\" class=\"w2radio_input\" name=\"certify_method\" data-index=\"0\" id=\"rdoSpecialType2_input_0\"><label class=\"w2radio_label \" data-index=\"0\" for=\"rdoSpecialType2_input_0\">휴대전화</label></div></div></li></ul></div><p id=\"grpSpecialMsg\" style=\"display:none;\" class=\"w2group mt5\"><span id=\"txtSpecialMsg\" style=\"font-size:12px; text-decoration:none;\" class=\"w2textbox txt_blue\"></span></p></div><div id=\"nrgtmmbrLgn\" class=\"w2group loginbox\"><div id=\"group91882193\" class=\"w2group inputbox\"><p id=\"group91882194\" class=\"w2group tal\"><label id=\"txtUserNm\" class=\"w2textbox nlb\" for=\"iptUserNm\">성명</label><input id=\"iptUserNm\" class=\"w2input nb\" type=\"text\" name=\"iptUserNm\" maxlength=\"50\"></p><p id=\"group91882195\" class=\"w2group mt5 tal\"><label id=\"txtUserJuminNo\" class=\"w2textbox nlb\" for=\"iptUserJuminNo1\">주민등록번호</label><input id=\"iptUserJuminNo1\" class=\"w2input nb hf\" type=\"text\" title=\"주민등록번호 앞 6자리\" name=\"iptUserJuminNo1\" maxlength=\"6\"><span id=\"textbox10881955\" class=\"w2textbox line vm\">-</span><input id=\"iptUserJuminNo2\" class=\"w2input nb hf\" type=\"password\" title=\"주민등록번호 뒤 7자리\" name=\"iptUserJuminNo2\" maxlength=\"7\"></p></div><div id=\"nrgtCertBtonTery\" class=\"w2group btn_wrap\" aria-hidden=\"false\" style=\"visibility: visible;\"><a id=\"anchor34\" class=\"w2anchor2 financebtn\" href=\"javascript:void(0);\"><span><i>공동·금융인증서</i></span></a><a id=\"anchor36\" class=\"w2anchor2 basicbtn\" href=\"javascript:void(0);\"><span><i>간편인증</i><i class=\"screen_hide\">카카오톡, 페이코, 통신사패스, KB모바일, 삼성패스, 네이버, 신한은행</i></span></a></div><div id=\"nrgtLgnBton\" style=\"display: none; visibility: hidden;\" class=\"w2group btn_wrap ml5\" aria-hidden=\"true\"><a id=\"anchor48\" class=\"w2anchor2 logingbtn\" href=\"javascript:void(0);\"><span><i>로그인</i></span></a></div></div></div><div id=\"group91882197\" class=\"w2group dn\"><ul id=\"group91882198\" class=\"w2group \"><li id=\"group91882199\" class=\"w2group txt_bul_box\"><p id=\"textbox10881956\" class=\"w2textbox \"><strong class=\"b\">비회원 로그인으로 이용가능한 메뉴</strong></p><p id=\"textbox10881957\" class=\"w2textbox mt5\">종합소득세, 양도소득세, 증여세 신고/납부, 근로장려금ㆍ자녀장려금 신청/조회, 연말정산 소득공제자료조회, 편리한 연말정산, 민원증명 일부 메뉴, 모의계산(양도세,증여세), 사업장현황신고서 등<br></p></li><li id=\"group91882200\" class=\"w2group txt_bul_box mt10 layerpop_wrap\"><p id=\"group91882201\" class=\"w2group \"><strong id=\"textbox10881960\" class=\"w2textbox \">홈택스는 국세기본법 시행령에 따라 주민등록번호가 포함된 자료를 처리합니다.</strong></p><p id=\"group91882230\" class=\"w2group mt5\"><span id=\"textbox108819601\" style=\"vertical-align:middle\" class=\"w2textbox \">제68조(민감정보 및 고유식별정보의 처리)</span><a id=\"textbox10881964\" class=\"w2textbox tooltip q open-lp\" aria-controls=\"lp2\" href=\"javascript:void(0);\" title=\"제68조(민감정보 및 고유식별정보의 처리) 내용 팝업 열기\"><span class=\"screen_hide\">자세히보기</span></a></p><div id=\"lp2\" style=\"top:-110px;left:-20px\" class=\"w2group layer-pop\" role=\"dialog\"><div id=\"group91882204\" class=\"w2group layer-pop-wrap\"><a id=\"anchor38\" class=\"w2anchor2 layer-pop-close\" href=\"javascript:void(0);\"><span class=\"txt screen_hide\">닫기</span></a><p id=\"textbox10881962\" class=\"w2textbox \"><strong>제68조(민감정보 및 고유식별정보의 처리)</strong></p><p id=\"textbox10881963\" class=\"w2textbox mt10\">① 세무공무원은 법 및 세법에 따른 국세에 관한 사무를 수행하기 위하여 불가피한 경우 「개인정보 보호법」 제23조에 따른 건강에 관한 정보 또는 같은 법 시행령 제18조제2호에 따른 범죄경력자료에 해당하는 정보나 같은 영 제19조에 따른 주민등록번호(「정보통신망 이용촉진 및 정보보호 등에 관한 법률」 제23조의3에 따른 본인확인기관이 같은 법 제2조제3호에 따른 정보통신서비스 제공자의 온·오프라인 서비스 연계를 위해 같은 조 제4호에 따른 이용자의 주민등록번호와 연계해 생성한 정보를 포함한다), 여권번호, 운전면허의 면허번호 또는 외국인등록번호가 포함된 자료를 처리할 수 있다.</p><a id=\"anchor39\" class=\"w2anchor2 layer-pop-close\" href=\"javascript:void(0);\"><span class=\"txt screen_hide\">닫기</span></a></div></div></li></ul></div></div></div><div id=\"group91882202\" class=\"w2group mt20\"><p id=\"textbox10881961\" class=\"w2textbox txt_bul_box\">개인정보보호를 위하여 홈택스 서비스를 이용하신 후 <strong class=\"txt_red\">반드시 [로그아웃]</strong>을 하시기 바랍니다.</p></div></div></div><div id=\"stffCertTery\" style=\"display:none;clear:both;\" class=\"w2group txt_box login_select login_style2\"><div id=\"group1649\" class=\"w2group inner_group left\"><div id=\"mmbrStaffCert\" class=\"w2group \"><div id=\"group91866\" class=\"w2group login_title title03\"><h3 id=\"group91867\" style=\"width:292px\" class=\"w2group \"><span id=\"textbox91078\" class=\"w2textbox screen_hide\">직원인증 로그인(부가가치세 등)</span></h3></div><div id=\"mmbrStaffCertInptTery\" style=\"display:none;\" class=\"w2group login_id clerk\"><div id=\"group2620\" style=\"margin-bottom:10px;\" class=\"w2group wrap_radiocheck\"><div id=\"rdoBmanNtplYn\" class=\"w2radio \"><div class=\"w2radio_item w2radio_item_0\"><input type=\"radio\" class=\"w2radio_input\" name=\"rdoBmanNtplYn_input\" data-index=\"0\" id=\"rdoBmanNtplYn_input_0\"><label class=\"w2radio_label \" data-index=\"0\" for=\"rdoBmanNtplYn_input_0\">사업자 등록번호</label></div><div class=\"w2radio_item w2radio_item_1\"><input type=\"radio\" class=\"w2radio_input\" name=\"rdoBmanNtplYn_input\" data-index=\"1\" id=\"rdoBmanNtplYn_input_1\"><label class=\"w2radio_label \" data-index=\"1\" for=\"rdoBmanNtplYn_input_1\">개인사업자 대표자 주민등록번호</label></div></div></div><div id=\"group91868\" style=\"position:relative;\" class=\"w2group login_box\"><div id=\"group91869\" class=\"w2group \"><dl id=\"group91870\" class=\"w2group login_box_left\"><dt id=\"group91877\" class=\"w2group mt0\"><label id=\"iptUserBizNoNm\" class=\"w2textbox \" for=\"iptUserBizNo1\">사업자 등록번호</label></dt><dd id=\"group91878\" class=\"w2group com\"><input id=\"iptUserBizNo1\" class=\"w2input mt0 \" type=\"text\" title=\"사업자번호앞3자리\" maxlength=\"3\"><span id=\"textbox91082\" class=\"w2textbox tbl_label\">-</span><input id=\"iptUserBizNo2\" class=\"w2input mt0 \" type=\"text\" title=\"사업자번호중간2자리\" maxlength=\"2\"><span id=\"textbox91083\" class=\"w2textbox tbl_label\">-</span><input id=\"iptUserBizNo3\" style=\"width:44px\" class=\"w2input mt0 \" type=\"text\" title=\"사업자번호마지막5자리\" maxlength=\"5\"></dd><dt id=\"group918777\" style=\"display:none;\" class=\"w2group mt0\"><label id=\"iptStffUserJuminNoNm\" class=\"w2textbox \" for=\"iptStffUserJuminNo1\">주민등록번호</label></dt><dd id=\"group18581\" style=\"display:none;\" class=\"w2group com\"><input id=\"iptStffUserJuminNo1\" class=\"w2input wt60\" type=\"text\" title=\"주민등록번호 앞 6자리\" name=\"iptStffUserJuminNo1\" maxlength=\"6\"><span id=\"textbox11311\" class=\"w2textbox tbl_label\">-</span><input id=\"iptStffUserJuminNo2\" class=\"w2input wt65\" type=\"password\" title=\"주민등록번호 뒤 7자리\" name=\"iptStffUserJuminNo2\" maxlength=\"7\"></dd><dt id=\"group91871\" class=\"w2group mt0\"><label id=\"iptUserId2Nm\" class=\"w2textbox \" for=\"iptUserId2\">통합인증ID</label></dt><dd id=\"group91872\" class=\"w2group \"><input id=\"iptUserId2\" class=\"w2input mt0 \" type=\"password\" title=\"통합인증ID\"></dd><dt id=\"group91873\" class=\"w2group mb0\"><label id=\"iptUserPw2Nm\" class=\"w2textbox \" for=\"iptUserPw2\">비밀번호</label></dt><dd id=\"group91874\" class=\"w2group mb0\"><input id=\"iptUserPw2\" class=\"w2input \" type=\"password\" title=\"비밀번호\"></dd></dl><span id=\"group91875\" style=\"bottom:0; height:61px;\" class=\"w2group btn btn_submit2\"><input type=\"button\" id=\"trigger958\" style=\"background-position:left -430px; height:61px;\" class=\"w2trigger \" value=\"인증하기\"></span></div></div></div><div id=\"mmbrStaffTxt\" style=\"display:none;\" class=\"w2group \"><p id=\"textbox112811\" class=\"w2textbox mt5\"><strong style=\"color:blue;\">※ 사업자등록번호로 회원가입이 안되어 있을 경우</strong><br><strong style=\"margin-left:5px;\">- (개인사업자)</strong> 대표자 주민등록번호로 회원가입이 되어있는지 확인 후<br><span style=\"margin-left:80px;\">대표자 주민등록번호로 회원가입</span><br><strong style=\"margin-left:5px;\">- (법인사업자)</strong> 사업자등록번호로 회원가입<br></p><p style=\"margin-top:5px;\"><strong style=\"color:blue;\">※  이용시간 : 평일 08시 ~ 19시</strong></p><p></p></div></div></div><div id=\"group1651\" class=\"w2group inner_group right\"><div id=\"group918780\" class=\"w2group login_title title02\"><h3 id=\"group918781\" style=\"width:292px;background-position:0 -57px;\" class=\"w2group \"><span id=\"textbox112814\" class=\"w2textbox screen_hide\">직원인증 로그인(종합소득세 등)</span></h3></div><div id=\"grpMyCert\" style=\"display:none;\" class=\"w2group login_id\"><div id=\"group1852\" class=\"w2group login_box\"><div id=\"group18520\" class=\"w2group login_box_in\"><div id=\"group1853\" class=\"w2group fl\"><dl id=\"group1854\" style=\"height:auto\" class=\"w2group clearfix\"><dt id=\"group1855\" class=\"w2group mt0 tal\"><label id=\"txtStffNrgtUserNm\" class=\"w2textbox \" for=\"ipStffNrgtUserNm\">성명</label></dt><dd id=\"group1856\" class=\"w2group \"><input id=\"ipStffNrgtUserNm\" class=\"w2input mt0\" type=\"text\" title=\"성명\" name=\"ipStffNrgtUserNm\" maxlength=\"50\"></dd></dl><dl id=\"group91880\" style=\"height:auto\" class=\"w2group clearfix\"><dt id=\"group1857\" class=\"w2group mb0 tal\"><label id=\"txtStffNrgtUserJuminNo\" class=\"w2textbox \" for=\"ipStffNrgtUserJuminNo1\">주민등록번호</label></dt><dd id=\"group1858\" class=\"w2group mb0\"><input id=\"ipStffNrgtUserJuminNo1\" class=\"w2input wt80\" type=\"text\" title=\"주민등록번호 앞 6자리\" name=\"ipStffNrgtUserJuminNo1\" maxlength=\"6\"><span id=\"textbox1131\" class=\"w2textbox tbl_label\">-</span><input id=\"ipStffNrgtUserJuminNo2\" class=\"w2input wt100\" type=\"password\" title=\"주민등록번호 뒤 7자리\" name=\"ipStffNrgtUserJuminNo2\" maxlength=\"7\"></dd></dl></div></div></div></div><div id=\"grpStaffCert\" style=\"display:none; border-top:none;\" class=\"w2group login_id\"><div id=\"group91852\" class=\"w2group login_box\"><div id=\"group91853\" class=\"w2group \"><dl id=\"group91854\" class=\"w2group login_box_left ml30\"><dt id=\"group91855\" class=\"w2group mt0\"><label id=\"txtStaffUserId\" class=\"w2textbox \" for=\"iptStaffUserId\">통합인증ID</label></dt><dd id=\"group91856\" class=\"w2group \"><input id=\"iptStaffUserId\" class=\"w2input mt0\" type=\"password\" title=\"통합인증ID\" maxlength=\"20\"></dd><dt id=\"group91857\" class=\"w2group mb0\"><label id=\"txtStaffUserPw\" class=\"w2textbox \" for=\"iptStaffUserPw\">비밀번호</label></dt><dd id=\"group91858\" class=\"w2group mb0\"><input id=\"iptStaffUserPw\" class=\"w2input \" type=\"password\" title=\"비밀번호\" maxlength=\"100\"></dd></dl><span id=\"grpSpecialCert\" class=\"w2group btn btn_submit2 btn_submit3 fl\"><input type=\"button\" id=\"trigger957\" class=\"w2trigger \" value=\"로그인하기\"></span></div></div></div><div id=\"stffNrgtTxt\" style=\"display:none;\" class=\"w2group \"><p id=\"textbox1128\" class=\"w2textbox mt5\"><strong>※ 비회원 로그인(인증서)으로 이용가능한 메뉴</strong></p><p id=\"textbox112812\" class=\"w2textbox ml15\">종합소득세, 양도소득세, 증여세 신고/납부, 근로장려금ㆍ자녀장려금 신청/조회,<br>연말정산 소득공제자료조회, 편리한 연말정산, 민원증명 일부 메뉴,<br>모의계산(양도세,증여세), 사업장현황신고서 등 </p><div id=\"group1946\" style=\"padding:10px;\" class=\"w2group txt_box txt_box5 mt10\"><p id=\"textbox5555\" style=\"font-size:11px;\" class=\"w2textbox title\">홈택스는 국세기본법 시행령에 따라 주민등록번호가 포함된 자료를 처리합니다.</p><p id=\"textbox112813\" style=\"font-size:11px;\" class=\"w2textbox \"><strong>제68조(민감정보 및 고유식별정보의 처리)</strong> ① 세무공무원은 법 및 세법에 따른 국세에 관한 사무를 수행하기 위하여 불가피한 경우 「개인정보 보호법」 제23조에 따른 건강에 관한 정보 또는 같은 법 시행령 제18조제2호에 따른 범죄경력자료에 해당하는 정보나 같은 영 제19조에 따른 주민등록번호(「정보통신망 이용촉진 및 정보보호 등에 관한 법률」 제23조의3에 따른 본인확인기관이 같은 법 제2조제3호에 따른 정보통신서비스 제공자의 온ㆍ오프라인 서비스 연계를 위해 같은 조 제4호에 따른 이용자의 주민등록번호와 연계해 생성한 정보를 포함한다), 여권번호, 운전면허의 면허번호 또는 외국인등록번호가 포함된 자료를 처리할 수 있다.<br></p></div><p id=\"txtSpecialStaffMsg\" style=\"display:none;\" class=\"w2textbox txt_style01 ico small mt5\"><span class=\"bold\">직원인증의 경우 전자납부는 불가합니다.</span><br>신고 후 신고내역 조회는 회원가입을 하거나 비회원 로그인(공인인증서)로 가능합니다.</p></div></div></div></div></div><div id=\"dscertContainer\" class=\"w2group \" style=\"display: none;\"><iframe id=\"dscert\" src=\"about:blank\" style=\"position:fixed;z-index:100010;top:0px;left:0px;\" class=\"w2iframe \" frameborder=\"0\" title=\"html5 공인인증서영역\" allowtransparency=\"true\" name=\"dscert\" scrolling=\"no\"></iframe></div><div id=\"csContainer\" style=\"display:none;\" class=\"w2group \"><iframe id=\"startCs\" src=\"about:blank\" style=\"display:none;\" class=\"w2iframe \" frameborder=\"0\" title=\"EXE 공인인증서영역\" name=\"startCs\"></iframe></div><div id=\"dialog\" style=\"display:none\" class=\"w2group \"><div class=\"veraport-ui-corner-all\" style=\"background-color:#FFFFFF; width:300px;\">\\n  <div style=\"padding-top:5px\"><img src=\"https://sesw.hometax.go.kr/secs/veraportNX/sitelogo/logo_small.gif\" alt=\"VeraPort_logo\"></div>\\n  <div><img src=\"https://sesw.hometax.go.kr/secs/veraportNX/sitelogo/msg_small.gif\" alt=\"VeraPort_msg\"></div>\\n  <div class=\"veraport-ui-corner-all veraport-list-box veraport-component\">\\n    <table summary=\"멀티OS용 베라포트 설치화면 입니다.\" id=\"install-list\" class=\"veraport-font\" style=\"width:100%;\">\\n      <caption>VeraPort MultiOS install list</caption>\\n      <tbody><tr><th scope=\"row\">-</th><td>-</td></tr></tbody>\\n    </table>\\n  </div>\\n  <div class=\"veraport-component\">\\n    <div id=\"install-message\" class=\"veraport-font veraport-message\">...</div>\\n    <div id=\"install-stage\" class=\"veraport-font\" style=\"float:right;\"></div>\\n  </div>\\n  <div id=\"progressbar\" class=\"veraport-component veraport-ui-progressbar veraport-ui-widget veraport-ui-widget-content veraport-ui-corner-all\" style=\"border:1px solid #F6A828\">\\n    <div id=\"veraport-progressbar-value\" class=\"veraport-ui-progressbar-value veraport-ui-corner-left\" style=\"width:0%;background-color: #F6A828\"></div>\\n  </div>\\n  <div class=\"veraport-copyright-font veraport-component\">wizvera</div>\\n</div>\\n</div><div id=\"dialogex\" style=\"display:none\" class=\"w2group \"><div style=\"width:100%; height:218px;\">\\n  <div id=\"install-site-logo\"></div>\\n  <div style=\"clear:both; overflow:hidden; margin-left:30px; margin-right:30px; \">\\n    <table summary=\"멀티OS용 베라포트 설치화면 입니다.\" id=\"install-list-header\" class=\"veraport-font\" style=\"width:100%; TABLE-layout:fixed; border-spacing:0;\">\\n      <caption id=\"install-list-caption\">VeraPort MultiOS install list</caption>\\n      <tbody><tr><th scope=\"row\">-</th><td>-</td><td>-</td></tr></tbody>\\n    </table>\\n  </div>\\n  <div style=\"clear:both; overflow:auto; margin-left:30px; margin-right:30px;\" class=\"veraport-list-box-ex\">\\n    <table summary=\"멀티OS용 베라포트 설치화면 입니다.\" id=\"install-list-body\" class=\"veraport-font\" style=\"width:100%; TABLE-layout:fixed; border-spacing:0;\">\\n      <caption id=\"install-list-caption\">VeraPort MultiOS install list</caption>\\n      <tbody><tr><th scope=\"row\">-</th><td>-</td><td>-</td></tr></tbody>\\n    </table>\\n  </div>\\n  <div class=\"veraport-copyright-font-ex veraport-component\"><font color=\"#15244F\">Veraport&nbsp;</font><font color=\"#666666\">by&nbsp;wizvera</font></div>\\n</div>\\n</div><div id=\"___processbar2\" class=\"w2modal\" tabindex=\"-1\" style=\"background-color: rgb(17, 34, 51); visibility: visible; z-index: -1; display: none; top: 0px; left: 0px;\"></div><div id=\"___processbar2_i\" style=\"position: absolute; top: 311px; left: 470px; overflow: hidden; z-index: -1; visibility: visible; height: 80px; width: 260px; display: none;\"><iframe frameborder=\"0\" scrolling=\"no\" allowtransparency=\"true\" name=\"__processbarIFrame\" style=\"position:absolute; width:260px; height:80px; top:0px; left:0px\" src=\"/websquare/message/processMsg.html?param=Processing...\" title=\"진행 중\"></iframe></div></body></html>'"
      ]
     },
     "execution_count": 10,
     "metadata": {},
     "output_type": "execute_result"
    }
   ],
   "source": [
    "driver.page_source"
   ]
  },
  {
   "cell_type": "markdown",
   "id": "52d6f068-fbba-4847-9bdb-a0fee43f773c",
   "metadata": {},
   "source": [
    "### (6) 아이디 로그인으로 이동"
   ]
  },
  {
   "cell_type": "code",
   "execution_count": 11,
   "id": "39bf33a7-b1f1-4925-9c46-a9166c417105",
   "metadata": {},
   "outputs": [
    {
     "name": "stderr",
     "output_type": "stream",
     "text": [
      "C:\\Users\\kopo\\AppData\\Local\\Temp/ipykernel_2288/3712890337.py:2: DeprecationWarning: find_element_by_xpath is deprecated. Please use find_element(by=By.XPATH, value=xpath) instead\n",
      "  button = driver.find_element_by_xpath(NEXT_BUTTON_XPATH)\n"
     ]
    }
   ],
   "source": [
    "NEXT_BUTTON_XPATH = '//*[@id=\"anchor15\"]/span'\n",
    "button = driver.find_element_by_xpath(NEXT_BUTTON_XPATH)\n",
    "button.click()"
   ]
  },
  {
   "cell_type": "markdown",
   "id": "6e4d4886-4297-4cc7-935e-28ee2d4fb8b5",
   "metadata": {},
   "source": [
    "### (7) 아이디 및 패스워드 입력"
   ]
  },
  {
   "cell_type": "code",
   "execution_count": 12,
   "id": "8b5326d2-69ec-4c6e-b415-2a8f774ee0cf",
   "metadata": {},
   "outputs": [],
   "source": [
    "idText = '//*[@id=\"iptUserId\"]'"
   ]
  },
  {
   "cell_type": "code",
   "execution_count": 13,
   "id": "96d1f509-d29e-4b2d-b9f7-05b977c3181f",
   "metadata": {},
   "outputs": [
    {
     "name": "stderr",
     "output_type": "stream",
     "text": [
      "C:\\Users\\kopo\\AppData\\Local\\Temp/ipykernel_2288/3118955495.py:1: DeprecationWarning: find_element_by_xpath is deprecated. Please use find_element(by=By.XPATH, value=xpath) instead\n",
      "  driver.find_element_by_xpath(idText).send_keys(\"haiteam\")\n"
     ]
    }
   ],
   "source": [
    "driver.find_element_by_xpath(idText).send_keys(\"실제아이디입력pickle등\")"
   ]
  },
  {
   "cell_type": "code",
   "execution_count": 14,
   "id": "7b46a944-f067-41d8-81fa-4bfcfba7a77b",
   "metadata": {},
   "outputs": [],
   "source": [
    "pwText = '//*[@id=\"iptUserPw\"]'"
   ]
  },
  {
   "cell_type": "code",
   "execution_count": 16,
   "id": "d8aafaa2-c6ba-440c-b276-2a35ba0032f7",
   "metadata": {},
   "outputs": [
    {
     "name": "stderr",
     "output_type": "stream",
     "text": [
      "C:\\Users\\kopo\\AppData\\Local\\Temp/ipykernel_2288/1721955860.py:1: DeprecationWarning: find_element_by_xpath is deprecated. Please use find_element(by=By.XPATH, value=xpath) instead\n",
      "  driver.find_element_by_xpath(pwText).send_keys(\"gyrhks1308!\")\n"
     ]
    }
   ],
   "source": [
    "driver.find_element_by_xpath(pwText).send_keys(\"실제PW입력pickle등\")"
   ]
  },
  {
   "cell_type": "markdown",
   "id": "5304033d-1b3f-4609-80cf-b3b88fc228f9",
   "metadata": {},
   "source": [
    "### (8) 로그인버튼 클릭"
   ]
  },
  {
   "cell_type": "code",
   "execution_count": 17,
   "id": "993fda76-5502-4db8-9226-e8cb9b963bb6",
   "metadata": {},
   "outputs": [],
   "source": [
    "loginBtn = '//*[@id=\"anchor25\"]'"
   ]
  },
  {
   "cell_type": "code",
   "execution_count": 18,
   "id": "f95275f7-1455-4017-91b1-55051bd2356d",
   "metadata": {},
   "outputs": [
    {
     "name": "stderr",
     "output_type": "stream",
     "text": [
      "C:\\Users\\kopo\\AppData\\Local\\Temp/ipykernel_2288/2361037920.py:1: DeprecationWarning: find_element_by_xpath is deprecated. Please use find_element(by=By.XPATH, value=xpath) instead\n",
      "  driver.find_element_by_xpath(loginBtn).click()\n"
     ]
    }
   ],
   "source": [
    "driver.find_element_by_xpath(loginBtn).click()"
   ]
  }
 ],
 "metadata": {
  "kernelspec": {
   "display_name": "Python 3 (ipykernel)",
   "language": "python",
   "name": "python3"
  },
  "language_info": {
   "codemirror_mode": {
    "name": "ipython",
    "version": 3
   },
   "file_extension": ".py",
   "mimetype": "text/x-python",
   "name": "python",
   "nbconvert_exporter": "python",
   "pygments_lexer": "ipython3",
   "version": "3.9.7"
  }
 },
 "nbformat": 4,
 "nbformat_minor": 5
}
